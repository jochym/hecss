{
 "cells": [
  {
   "cell_type": "code",
   "execution_count": null,
   "id": "f8bc2a80-1c94-4ebf-8ee6-cd8403d0b957",
   "metadata": {},
   "outputs": [],
   "source": [
    "#| hide\n",
    "#| default_exp util\n",
    "from nbdev import *"
   ]
  },
  {
   "cell_type": "markdown",
   "id": "4de21cf6-d8e2-401a-8813-382e291c736e",
   "metadata": {},
   "source": [
    "# Utility functions\n",
    "\n",
    "> Helper functions"
   ]
  },
  {
   "cell_type": "code",
   "execution_count": null,
   "id": "0fa47aa5-5ddd-4501-8ef3-0175956e218b",
   "metadata": {},
   "outputs": [],
   "source": [
    "#| exporti\n",
    "from numpy import dot, loadtxt, allclose\n",
    "from spglib import find_primitive, get_symmetry_dataset\n",
    "from ase import units as un\n",
    "import itertools"
   ]
  },
  {
   "cell_type": "code",
   "execution_count": null,
   "id": "b19bfa41-6655-46c7-b7a5-7dbc45a161b2",
   "metadata": {},
   "outputs": [],
   "source": [
    "#| hide\n",
    "from ase.build import bulk\n",
    "import os"
   ]
  },
  {
   "cell_type": "code",
   "execution_count": null,
   "id": "535b10f8-b2cc-489c-8fab-1cdd5ab58fc0",
   "metadata": {},
   "outputs": [],
   "source": [
    "#| exporti\n",
    "flatten = itertools.chain.from_iterable"
   ]
  },
  {
   "cell_type": "code",
   "execution_count": null,
   "id": "e40fcc89-19af-45f5-aa0b-a36ba260190f",
   "metadata": {},
   "outputs": [],
   "source": [
    "#| exporti\n",
    "def select_asap_model(comp='SiC'):\n",
    "    '''\n",
    "    This simple function selects the latest *working* OpenKIM model\n",
    "    containing `comp` in the name. Required since some models are \n",
    "    not loding properly and the names are not stable.\n",
    "    OUTPUT\n",
    "    ------\n",
    "    Name of the model. If nothing is found returns None.\n",
    "    '''\n",
    "    import asap3\n",
    "    models = []\n",
    "    for pot in [pot for pot in asap3.OpenKIMavailable() if comp in pot]:\n",
    "        try :\n",
    "            calc = asap3.OpenKIMcalculator(pot)\n",
    "            models.append(pot)\n",
    "        except asap3.AsapError :\n",
    "            pass\n",
    "    if models :\n",
    "        model = sorted(models, key=lambda m: m.split('_')[3])[-1]\n",
    "    else :\n",
    "        model = None\n",
    "    return model"
   ]
  },
  {
   "cell_type": "code",
   "execution_count": null,
   "id": "d7516231-6882-430a-8956-a3ff2916d3ee",
   "metadata": {},
   "outputs": [],
   "source": [
    "#| exporti\n",
    "def create_asap_calculator(model):    \n",
    "    import asap3\n",
    "    return asap3.OpenKIMcalculator(model)"
   ]
  },
  {
   "cell_type": "code",
   "execution_count": null,
   "id": "78d33b4e-c3bf-46ac-af3f-4c08005a1033",
   "metadata": {},
   "outputs": [],
   "source": [
    "#| export\n",
    "def normalize_conf(c, base):\n",
    "    '''\n",
    "    Normalize the configuration `c` relative to the basic structure `base`.\n",
    "    Normalization is performed by \"nuwrapping\" the displacements of atoms\n",
    "    when they cross the periodic boundary conditions in such a way that the\n",
    "    atoms are not \"jumping\" from one side of the cell to the other. \n",
    "    \n",
    "    E.g. if the atom at r=(0,0,0) goes to the relative position (-0.01, 0, 0)\n",
    "    it is \"wrapped\" by PBC to the r=(0.99, 0, 0). Thus if we naiively calculate\n",
    "    the displacement we will get a large positive displacement (0.99 of the cell \n",
    "    vector) instead of a small negative one. \n",
    "    \n",
    "    This function reverses that process making the positions suitable for \n",
    "    differentiation. The positions may be part of a continous trajectory or\n",
    "    just independent configurations. This makes it impossible for described \n",
    "    procedure to work if the displacements are above 1/2 of the unit cell.\n",
    "    For sefety this implementation is limited to displacements < 1/3 of the \n",
    "    unit cell. If any coordinate changes by more then 1/3 the function\n",
    "    will rise an AssertionError exception.\n",
    "    \n",
    "    This implementation is not suitable for tracking positions in the system\n",
    "    with systematic drift (e.g. long MD trajectory with non-perfect momentum\n",
    "    conservation). For stronger implementation suitable for such cases look\n",
    "    at dxutils package.\n",
    "    '''\n",
    "    cell = base.get_cell()\n",
    "    spos = c.get_scaled_positions()\n",
    "    bspos = base.get_scaled_positions()\n",
    "\n",
    "    # Unwrap the displacement relative to base\n",
    "    sdx = spos - bspos\n",
    "    sht = (sdx < -0.5)*1 - (sdx > 0.5)*1\n",
    "    sdx += sht\n",
    "\n",
    "    # Check if fractional displacements are below 1/3\n",
    "    assert (abs(sdx) < 1/3).all()\n",
    "\n",
    "    # Calculate unwrapped spos\n",
    "    spos = bspos + sdx\n",
    "\n",
    "    # Return carthesian positions, fractional positions\n",
    "    return dot(spos,cell), spos"
   ]
  },
  {
   "cell_type": "code",
   "execution_count": null,
   "id": "40af9864-c40d-4d11-9482-1b32a97ab3db",
   "metadata": {},
   "outputs": [],
   "source": [
    "#| export\n",
    "def load_dfset(fn):\n",
    "    '''\n",
    "    Load contents of the DFSET flie and return dfset array\n",
    "    '''\n",
    "    N = get_dfset_len(fn)\n",
    "    dfset = loadtxt(fn).reshape(N,-1,6)\n",
    "    nat=dfset.shape[1]\n",
    "    \n",
    "    confs = []\n",
    "    sets = []\n",
    "    es = []\n",
    "    n = 0\n",
    "    with open(fn) as dff:\n",
    "        for l in dff:\n",
    "            if 'set:' not in l:\n",
    "                continue\n",
    "            s, _, c, _, e = l.split()[2:7]\n",
    "            s = int(s)\n",
    "            c = int(c)\n",
    "            e = float(e)\n",
    "            confs.append((n,c, \n",
    "                          dfset[n,:,:3]*un.Bohr, \n",
    "                          dfset[n,:,3:]*un.Ry/un.Bohr, e))\n",
    "            n += 1\n",
    "            \n",
    "    return confs"
   ]
  },
  {
   "cell_type": "code",
   "execution_count": null,
   "id": "8ecd5032-0ca6-46b7-858f-7cc2cb891788",
   "metadata": {},
   "outputs": [],
   "source": [
    "#| export\n",
    "def get_dfset_len(fn):\n",
    "    try :\n",
    "        with open(fn) as dfset:\n",
    "            return len([l for l in dfset if 'set:' in l])\n",
    "    except FileNotFoundError:\n",
    "            return 0"
   ]
  },
  {
   "cell_type": "code",
   "execution_count": null,
   "id": "53e8ad2f-74fc-4216-93ea-06a6d7352c61",
   "metadata": {},
   "outputs": [
    {
     "data": {
      "text/plain": [
       "50"
      ]
     },
     "execution_count": null,
     "metadata": {},
     "output_type": "execute_result"
    }
   ],
   "source": [
    "#| hide\n",
    "confs = load_dfset('example/VASP_3C-SiC_calculated/2x2x2/T_300K/DFSET.dat')\n",
    "len(confs)"
   ]
  },
  {
   "cell_type": "code",
   "execution_count": null,
   "id": "fdf257d1-bf0d-4b54-8753-6fe6b8d038d6",
   "metadata": {},
   "outputs": [],
   "source": [
    "#| export\n",
    "def write_dfset(fn, c, comment=''):\n",
    "    '''\n",
    "    Append displacement-force data from the conf to the fn file.\n",
    "    The format is suitable for use as ALAMODE DFSET file.\n",
    "    Optionaly you can provide configuration number in n.\n",
    "    File need not exist prior to first call. \n",
    "    If it does not it will be created.\n",
    "    '''\n",
    "    n, i, x, f, e = c\n",
    "    with open(fn, 'at') as dfset:\n",
    "        if comment:\n",
    "            print('##', comment, file=dfset)\n",
    "        print(f'# set: {n:04d} config: {i:04d}  energy: {e:8e} eV/at', file=dfset)\n",
    "        for ui, fi in zip(x,f):\n",
    "            print((3*'%15.7f ' + '     ' + 3*'%15.8e ') % \n",
    "                        (tuple(ui/un.Bohr) + tuple(fi*un.Bohr/un.Ry)), \n",
    "                        file=dfset)"
   ]
  },
  {
   "cell_type": "code",
   "execution_count": null,
   "id": "c4be4c7b-0c3d-4049-86ad-f9395734ec9a",
   "metadata": {},
   "outputs": [],
   "source": [
    "#| hide\n",
    "open('TMP/dfset_test.dat', 'w').close()\n",
    "for s in confs:\n",
    "    write_dfset('TMP/dfset_test.dat', s)\n",
    "\n",
    "assert allclose(loadtxt('TMP/dfset_test.dat'), \n",
    "                loadtxt('example/VASP_3C-SiC_calculated/2x2x2/T_300K/DFSET.dat'))"
   ]
  },
  {
   "cell_type": "code",
   "execution_count": null,
   "id": "aa83d3e1-56e5-43ee-9426-436aebfd79ce",
   "metadata": {},
   "outputs": [],
   "source": [
    "#| export\n",
    "def calc_init_xscale(cryst, xsl, skip=None):\n",
    "    '''\n",
    "    Calculate initial xscale amplitude correction coefficients \n",
    "    from the history exported from the previous calculation \n",
    "    (with `xscale_list` argument). \n",
    "    \n",
    "    INPUT\n",
    "    -----\n",
    "    cryst : ASE structure \n",
    "    xsl   : List of amplitude correction coefficients. The shape of \n",
    "            each element of the list must be `cryst.get_positions().shape`\n",
    "    skip  : Number of samples to skip at the start of the xsl list\n",
    "    \n",
    "    OUTPUT\n",
    "    ------\n",
    "    Array amplitude correction coefficients with shape the same as\n",
    "    `cryst.get_positions().shape`. May be directly plugged into \n",
    "    `xscale_init` argument of `HECSS_Sampler` or `HECSS`.\n",
    "    '''\n",
    "    from numpy import array, ones\n",
    "    elmap = cryst.get_atomic_numbers()\n",
    "    if skip is not None:\n",
    "        skip = min(skip, len(xsl)//2)\n",
    "    xs = array(xsl)[skip:]\n",
    "    xscale = ones(xs[0].shape)\n",
    "    for i, el in enumerate(set(elmap)):\n",
    "        xscale[elmap==el] = xs[:,elmap==el,:].mean()\n",
    "    return xscale"
   ]
  },
  {
   "cell_type": "code",
   "execution_count": null,
   "id": "d17471a6-aa2c-4c2a-97b3-80396b779609",
   "metadata": {},
   "outputs": [],
   "source": [
    "#| hide\n",
    "\n",
    "# Use structure with most of the atoms \n",
    "# on the surface of the unit cell: rocksalt\n",
    "b = bulk('NaCl', 'rocksalt', a=3.6, cubic=True).repeat((3,3,3))\n",
    "c = bulk('NaCl', 'rocksalt', a=3.6, cubic=True).repeat((3,3,3))\n",
    "\n",
    "# Displace the atoms\n",
    "c.rattle(stdev=0.5, seed=42)\n",
    "\n",
    "# Store unwrapped positions\n",
    "unwrapped = c.get_scaled_positions(wrap=False)\n",
    "\n",
    "# Wrap the positions\n",
    "c.set_scaled_positions(c.get_scaled_positions(wrap=True))\n",
    "\n",
    "# Check if the reversal worked\n",
    "assert allclose(unwrapped, normalize_conf(c,b)[1])"
   ]
  },
  {
   "cell_type": "code",
   "execution_count": null,
   "id": "c6e20685-a0d2-4759-84b3-1cbe6f1bff9f",
   "metadata": {},
   "outputs": [],
   "source": []
  }
 ],
 "metadata": {
  "kernelspec": {
   "display_name": "python3",
   "language": "python",
   "name": "python3"
  }
 },
 "nbformat": 4,
 "nbformat_minor": 5
}
