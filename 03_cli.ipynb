{
 "cells": [
  {
   "cell_type": "code",
   "execution_count": null,
   "metadata": {},
   "outputs": [],
   "source": [
    "# hide\n",
    "# default_exp cli\n",
    "from nbdev.showdoc import show_doc\n",
    "from nbdev import *"
   ]
  },
  {
   "cell_type": "markdown",
   "metadata": {},
   "source": [
    "# CLI\n",
    "\n",
    "> The command line interface for the HECSS sampler\n",
    "\n",
    "The hecss sampler can be also used from the command line using `hecss` command:\n",
    "```bash\n",
    "~$ hecss --help\n",
    "usage: hecss [-h] [--workdir WORKDIR] [--label LABEL] [--T T] [--width WIDTH]\n",
    "             [--calc CALC] [--dfset] [--N N] [--cmd CMD] [--V]\n",
    "             fname\n",
    "\n",
    "Run HECSS sampler on the structure passed in fname.\n",
    "\n",
    "positional arguments:\n",
    "  fname              Supercell structure file.The containing directory \n",
    "                     must be readable by Vasp(restart).\n",
    "\n",
    "optional arguments:\n",
    "  -h, --help         show this help message and exit\n",
    "  --workdir WORKDIR  Output directory for samples (default: calc)\n",
    "  --label LABEL      Job label passed to run-calc command (default: hecss)\n",
    "  --T T              Target temperature (K) (default: 300)\n",
    "  --width WIDTH      Initial scale of the prior distribution (default: 1.0)\n",
    "  --calc CALC        Type of the calculator. Only VASP supported. (default: VASP)\n",
    "  --dfset            Write DFset file (default: True)\n",
    "  --N N              Number of samples (default: 10)\n",
    "  --cmd CMD          Command for job submission (default: ./run-calc)\n",
    "  --V                Print version and exit (default: False)\n",
    "\n",
    "```\n",
    "\n",
    "To use it you need to prepare:\n",
    "\n",
    "1. `run-calc` script which should start the VASP calculation. You need to put this script in the root of your project tree. The example of such a script is included in the source as `run-calc.example`. :\n",
    "\n",
    "```bash\n",
    "#!/bin/bash\n",
    "\n",
    "# This script should run vasp in current directory \n",
    "# and wait for the run to finish.\n",
    "# \n",
    "# A generic line using SLURM would look like this:\n",
    "#\n",
    "# sbatch [job_params] -W vasp_running_script\n",
    "#\n",
    "# The \"-W\" param makes the sbatch command wait for the job to finish.\n",
    "\n",
    "\n",
    "JN=`pwd`\n",
    "JN=`basename ${JN}`\n",
    "\n",
    "# Partition of the cluster\n",
    "PART=small\n",
    "\n",
    "# Number of nodes\n",
    "N=1\n",
    "\n",
    "# Number of MPI tasks\n",
    "ntask=64\n",
    "\n",
    "# Name the job after directory if no label is passed as first argument\n",
    "if [ \"${1}.\" != \".\" ]; then\n",
    "  JN=${1}\n",
    "fi\n",
    "\n",
    "sbatch -W -J ${JN} -p $PART -N $N -n $ntask run-vasp-script\n",
    "```\n",
    "\n",
    "2. A directory with fully converged and optimized supercell structure which can be read in by the ASE `Vasp(restart=...)` command\n",
    "\n",
    "3. A directory for the generated samples.\n",
    "\n",
    "The directory tree may look like this:\n",
    "\n",
    "```\n",
    "my_project ----- sc\n",
    "             |\n",
    "             +-- T_100\n",
    "             |\n",
    "             +-- T_200\n",
    "             |\n",
    "             +-- ...\n",
    "             |\n",
    "             +-- run-calc\n",
    "```\n",
    "\n",
    "You execute the sampler from the `my_project` directory (remember to activate your virtual environment first). Generation of N=30 samples at T=100K:\n",
    "\n",
    "```bash\n",
    "~$ cd my_project\n",
    "~$ hecss --workdir T_100 --T 100 --N 30 --cmd ./run-calc sc\n",
    "```\n",
    "\n",
    "The above command will put the generated samples inside the `T_100` directory, together with the DFSET file with displacement-force data extracted from the calculation. The calculation may take a long time. Thus it is advisable to execute the hecss command inside `screen` (or some similar terminal multiplexer) to prevent the break of the calculation in case of session disconnection. The `hecss` command shows a progress to guide you through the calculation (ETA, time/it, data about last sample etc.). The example run is included at the bottom of this document."
   ]
  },
  {
   "cell_type": "code",
   "execution_count": null,
   "metadata": {},
   "outputs": [],
   "source": [
    "# hide\n",
    "# export\n",
    "import click\n",
    "from fastcore.script import Param, call_parse, bool_arg, store_true, store_false\n",
    "from pathlib import Path\n",
    "import os\n",
    "import ase\n",
    "from ase.calculators.vasp import Vasp\n",
    "from ase import units as un\n",
    "from hecss.core import *"
   ]
  },
  {
   "cell_type": "code",
   "execution_count": null,
   "metadata": {},
   "outputs": [],
   "source": [
    "from hecss.monitor import plot_stats"
   ]
  },
  {
   "cell_type": "code",
   "execution_count": null,
   "metadata": {},
   "outputs": [],
   "source": [
    "# export\n",
    "def dfset_writer(s, sl, workdir=''):\n",
    "    '''\n",
    "    Just write samples to the DFSET.dat file in the workdir directory.\n",
    "    '''\n",
    "    wd = Path(workdir)\n",
    "    write_dfset(f'{wd.joinpath(\"DFSET.dat\")}', s)\n",
    "    # Important! Return False to keep iteration going\n",
    "    return False"
   ]
  },
  {
   "cell_type": "code",
   "execution_count": null,
   "metadata": {},
   "outputs": [],
   "source": [
    "# export\n",
    "@call_parse\n",
    "def hecss_sampler(fname:  Param(\"Supercell structure file.\"\n",
    "                                \"The containing directory must be readable by Vasp(restart).\"\n",
    "                                , str),\n",
    "                  workdir:Param(\"Output directory for samples\", str)='calc', \n",
    "                  label:  Param(\"Job label passed to run-calc command\", str)='hecss',\n",
    "                  T:      Param(\"Target temperature (K)\", float)=300,\n",
    "                  width:  Param(\"Initial scale of the prior distribution\", float)=1.0,\n",
    "                  calc:   Param(\"Type of the calculator. Only VASP supported.\", str)='VASP',\n",
    "                  dfset:  Param(\"Write DFset file\", store_false)=True, \n",
    "                  N:      Param(\"Number of samples\", int)=10, \n",
    "                  cmd:    Param(\"Command for job submission\", str)='./run-calc',\n",
    "                  V:      Param(\"Print version and exit\", store_true)=False):\n",
    "    '''\n",
    "    Run HECSS sampler on the structure passed in fname.\n",
    "    '''\n",
    "    \n",
    "    import hecss\n",
    "\n",
    "    if V:\n",
    "        print(f'HECSS ver. {hecss.__version__}\\n'\n",
    "               'High Efficiency Configuration Space Sampler\\n'\n",
    "               '(C) 2021 by Paweł T. Jochym\\n'\n",
    "               '    License: GPL v3 or later')\n",
    "        return\n",
    "\n",
    "    \n",
    "    print(f'HECSS ({hecss.__version__})\\n'\n",
    "          f'Supercell:      {fname}\\n'\n",
    "          f'Temperature:    {T}K\\n'\n",
    "          f'Work directory: {workdir}\\n'\n",
    "          f'Calculator:     {calc}.')\n",
    "    \n",
    "    src_path = Path(fname)\n",
    "    \n",
    "    if calc==\"VASP\":\n",
    "        calculator = Vasp(label=label, directory=src_path.parent, restart=True)\n",
    "        cryst = ase.Atoms(calculator.atoms)\n",
    "        cryst.set_calculator(calculator)\n",
    "        calculator.set(directory=workdir)\n",
    "        command = Path(cmd)\n",
    "        calculator.set(command=f'{command.absolute()} {label}')\n",
    "    else:\n",
    "        print(f'The {calc} calculator is not supported.')\n",
    "        return\n",
    "    sentinel = None\n",
    "    if dfset :\n",
    "        sentinel = dfset_writer\n",
    "    sampler = HECSS(cryst, calculator, T, directory=workdir, width=width)\n",
    "    samples = sampler.generate(N, sentinel=sentinel, workdir=workdir)\n",
    "    return samples"
   ]
  },
  {
   "cell_type": "code",
   "execution_count": null,
   "metadata": {},
   "outputs": [
    {
     "name": "stdout",
     "output_type": "stream",
     "text": [
      "HECSS ver. 0.3.13\n",
      "High Efficiency Configuration Space Sampler\n",
      "(C) 2021 by Paweł T. Jochym\n",
      "    License: GPL v3 or later\n"
     ]
    }
   ],
   "source": [
    "hecss_sampler('POSCAR',V=True)"
   ]
  },
  {
   "cell_type": "code",
   "execution_count": null,
   "metadata": {},
   "outputs": [],
   "source": [
    "# export\n",
    "@click.command()\n",
    "@click.argument('fname', type=click.Path(exists=True))            \n",
    "@click.option('-W', '--workdir', default=\"WORK\", type=click.Path(exists=True), help=\"Work directory\")\n",
    "@click.option('-l', '--label', default=\"hecss\", help=\"Label for the calculations.\")\n",
    "@click.option('-T', '--temp', default=300, type=float, help=\"Target temperature in Kelvin.\")\n",
    "@click.option('-w', '--width', default=1.0, type=float, help=\"Initial scale of the prior distribution\")\n",
    "@click.option('-C', '--calc', default=\"VASP\", type=str, \n",
    "              help=\"ASE calculator to be used for the job.\\n\" + \"Supported calculators: VASP (default)\")\n",
    "@click.option('--dfset/--no-dfest', default=True, help='Write DFSET file for ALAMODE')\n",
    "@click.option('-N', '--nsamples', default=10, type=int, help=\"Number of samples to be generated\")\n",
    "@click.option('-c', '--command', default='./run-calc', help=\"Command to run calculator\")\n",
    "def _hecss_sampler(fname, workdir, label, temp, width, calc, dfset, nsamples, command):\n",
    "    '''\n",
    "    Run HECSS sampler on the structure in the directory.\n",
    "    fname - Supercell structure file. \n",
    "    The containing directory must be readable by Vasp(restart).\n",
    "    '''\n",
    "    return hecss_sampler(fname=fname, \n",
    "                         workdir=workdir, \n",
    "                         label=label, \n",
    "                         T=temp, \n",
    "                         width=width,\n",
    "                         calc=calc, \n",
    "                         dfset=dfset, \n",
    "                         N=nsamples, \n",
    "                         cmd=command)"
   ]
  },
  {
   "cell_type": "code",
   "execution_count": null,
   "metadata": {},
   "outputs": [
    {
     "name": "stdout",
     "output_type": "stream",
     "text": [
      "HECSS (0.3.13)\n",
      "Supercell:      example/VASP_3C-SiC/1x1x1/sc_1x1x1/CONTCAR\n",
      "Temperature:    300K\n",
      "Work directory: TMP\n",
      "Calculator:     VASP.\n"
     ]
    },
    {
     "data": {
      "application/vnd.jupyter.widget-view+json": {
       "model_id": "ac150c039d9642199371426f1a34d6d3",
       "version_major": 2,
       "version_minor": 0
      },
      "text/plain": [
       "0it [00:00, ?it/s]"
      ]
     },
     "metadata": {},
     "output_type": "display_data"
    }
   ],
   "source": [
    "# vasp\n",
    "# slow\n",
    "samples = hecss_sampler(fname=\"example/VASP_3C-SiC/1x1x1/sc_1x1x1/CONTCAR\", \n",
    "                        workdir='TMP', T=300, width=1.1, N=300)"
   ]
  },
  {
   "cell_type": "code",
   "execution_count": null,
   "metadata": {},
   "outputs": [
    {
     "data": {
      "image/png": "[encoded data removed]",
      "text/plain": [
       "<Figure size 432x288 with 1 Axes>"
      ]
     },
     "metadata": {
      "needs_background": "light"
     },
     "output_type": "display_data"
    }
   ],
   "source": [
    "# vasp\n",
    "# slow\n",
    "plot_stats(samples, 300)"
   ]
  },
  {
   "cell_type": "code",
   "execution_count": null,
   "metadata": {},
   "outputs": [],
   "source": []
  }
 ],
 "metadata": {
  "kernelspec": {
   "display_name": "Python 3 (ipykernel)",
   "language": "python",
   "name": "python3"
  }
 },
 "nbformat": 4,
 "nbformat_minor": 4
}
