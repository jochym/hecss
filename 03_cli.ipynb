{
 "cells": [
  {
   "cell_type": "code",
   "execution_count": null,
   "metadata": {},
   "outputs": [],
   "source": [
    "#hide\n",
    "#default_exp cli\n",
    "from nbdev.showdoc import show_doc\n",
    "from nbdev import *"
   ]
  },
  {
   "cell_type": "code",
   "execution_count": null,
   "metadata": {
    "hide_input": true
   },
   "outputs": [],
   "source": [
    "#hide\n",
    "from hecss.core import *\n",
    "from hecss.monitor import plot_stats"
   ]
  },
  {
   "cell_type": "markdown",
   "metadata": {},
   "source": [
    "# CLI\n",
    "\n",
    "> The command line interface for the HECSS sampler\n",
    "\n",
    "*Not implemented yet*"
   ]
  },
  {
   "cell_type": "code",
   "execution_count": null,
   "metadata": {},
   "outputs": [],
   "source": [
    "#export\n",
    "from fastcore.script import *"
   ]
  },
  {
   "cell_type": "code",
   "execution_count": null,
   "metadata": {},
   "outputs": [],
   "source": [
    "#vasp\n",
    "import ase\n",
    "from ase.calculators.vasp import Vasp\n",
    "from ase import units as un\n",
    "from pathlib import Path"
   ]
  },
  {
   "cell_type": "code",
   "execution_count": null,
   "metadata": {},
   "outputs": [],
   "source": [
    "#export\n",
    "@call_parse\n",
    "def hecss_sampler(fname:Param(\"Basic structure file. Any type recognized by ASE is accepted.\", str)=\"CONTCAR\",\n",
    "                  work_dir:Param(\"Work directory\", str)=\"WORK\",\n",
    "                  label:Param(\"Label for the calculations. This got appended to work directory\")=\"hecss\",\n",
    "                  T:Param(\"Target temperature in Kelvin\", float)=300,\n",
    "                  calc:Param(\"ASE calculator to be used for the job.\\n\"+\n",
    "                             \"Supported calculators: VASP (default)\"\n",
    "                             , str)=\"VASP\",\n",
    "                  N:Param(\"Number of samples to be generated\", int)=10\n",
    "                  ):\n",
    "    '''\n",
    "    Run HECSS parser on the structure in the directory.\n",
    "    '''\n",
    "    print(f'Run HECSS on {fname} at {T}K in {work_dir} directory using {calc}.')\n",
    "    \n",
    "    src_path = Path(fname)\n",
    "    \n",
    "    print(src_path.parent, src_path.name)\n",
    "    \n",
    "    if calc==\"VASP\":\n",
    "        calculator = Vasp(label=label, directory=src_path.parent, restart=True)\n",
    "        cryst = ase.Atoms(calculator.atoms)\n",
    "        cryst.set_calculator(calculator)\n",
    "        calculator.set(directory=work_dir)\n",
    "        calculator.set(command=f'{os.getcwd()}/run-vasp -J \"hecss\"')\n",
    "    \n",
    "    sampler = HECSS(cryst, calculator, T, directory=work_dir)\n",
    "    samples = sampler.generate(N)\n",
    "    return samples"
   ]
  },
  {
   "cell_type": "code",
   "execution_count": null,
   "metadata": {},
   "outputs": [
    {
     "name": "stdout",
     "output_type": "stream",
     "text": [
      "Run HECSS on example/VASP_3C-SiC/1x1x1/sc_1x1x1/CONTCAR at 600K in TMP directory using VASP.\n",
      "example/VASP_3C-SiC/1x1x1/sc_1x1x1 CONTCAR\n"
     ]
    },
    {
     "data": {
      "application/vnd.jupyter.widget-view+json": {
       "model_id": "d3996133e3eb4bcdb15c506278b09317",
       "version_major": 2,
       "version_minor": 0
      },
      "text/plain": [
       "0it [00:00, ?it/s]"
      ]
     },
     "metadata": {},
     "output_type": "display_data"
    }
   ],
   "source": [
    "#vasp\n",
    "samples = hecss_sampler(\"example/VASP_3C-SiC/1x1x1/sc_1x1x1/CONTCAR\", \n",
    "                        work_dir='TMP', T=600, N=100)"
   ]
  },
  {
   "cell_type": "code",
   "execution_count": null,
   "metadata": {},
   "outputs": [],
   "source": [
    "#vasp\n",
    "plot_stats(samples, 600)"
   ]
  },
  {
   "cell_type": "code",
   "execution_count": null,
   "metadata": {},
   "outputs": [],
   "source": []
  }
 ],
 "metadata": {
  "kernelspec": {
   "display_name": "Python 3 (ipykernel)",
   "language": "python",
   "name": "python3"
  }
 },
 "nbformat": 4,
 "nbformat_minor": 4
}
