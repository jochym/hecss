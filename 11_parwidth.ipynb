{
 "cells": [
  {
   "cell_type": "code",
   "execution_count": null,
   "id": "cd09ca5f-f092-4660-9f5a-b030612ba98f",
   "metadata": {},
   "outputs": [],
   "source": [
    "#| hide\n",
    "from nbdev import *"
   ]
  },
  {
   "attachments": {},
   "cell_type": "markdown",
   "id": "98a0bf29-9d2e-4c62-a578-3332cb823c66",
   "metadata": {},
   "source": [
    "# Parallel width estimator\n",
    "\n",
    "> This implements parallel version of width-estimation routine. It runs all the calculations using a pool of nwork workers. It is using the support routines in hecss.parallel for actual execution. This should be transparent, regarding the calculator as long as these support routines support the given calculator."
   ]
  },
  {
   "cell_type": "code",
   "execution_count": null,
   "id": "32c6ec13-e592-4ac1-ae15-1178217de135",
   "metadata": {},
   "outputs": [],
   "source": [
    "#| hide\n",
    "from fastcore.basics import patch"
   ]
  },
  {
   "cell_type": "code",
   "execution_count": null,
   "id": "b7dee41f-e9f0-41b1-8e7f-9956b7fa965a",
   "metadata": {},
   "outputs": [],
   "source": [
    "#| hide\n",
    "\n",
    "import ase\n",
    "from ase.calculators.vasp import Vasp\n",
    "from ase.calculators import calculator\n",
    "from ase.calculators.vasp.vasp import check_atoms\n",
    "from ase import units as un\n",
    "from tqdm.auto import tqdm\n",
    "from scipy import stats\n",
    "import numpy as np"
   ]
  },
  {
   "cell_type": "code",
   "execution_count": null,
   "id": "cde4794f-1f09-4e9f-aa8f-b3cd8645f563",
   "metadata": {},
   "outputs": [],
   "source": [
    "#| hide\n",
    "\n",
    "from hecss import *\n",
    "import hecss"
   ]
  },
  {
   "cell_type": "code",
   "execution_count": null,
   "id": "dc75440b-0272-4222-ac30-6fcc7f648a96",
   "metadata": {},
   "outputs": [],
   "source": [
    "#|hide \n",
    "from hecss import HECSS"
   ]
  },
  {
   "cell_type": "code",
   "execution_count": null,
   "id": "e3aec820-75ab-474f-a2da-6138dd8adebb",
   "metadata": {},
   "outputs": [],
   "source": [
    "#| hide\n",
    "\n",
    "from hecss.util import write_dfset, calc_init_xscale\n",
    "from hecss.optimize import make_sampling"
   ]
  },
  {
   "cell_type": "code",
   "execution_count": null,
   "id": "04d95e4c-3470-49d0-81fe-7af460f6efd7",
   "metadata": {},
   "outputs": [],
   "source": [
    "#| hide\n",
    "from glob import glob\n",
    "from tempfile import TemporaryDirectory\n",
    "import os\n",
    "import subprocess\n",
    "from collections import defaultdict\n",
    "from matplotlib import pyplot as plt\n"
   ]
  },
  {
   "cell_type": "code",
   "execution_count": null,
   "id": "87b5499d-714d-4c35-9911-87ad48cf32bc",
   "metadata": {},
   "outputs": [],
   "source": [
    "#| hide\n",
    "#| exporti core\n",
    "import asyncio\n",
    "from concurrent.futures import ThreadPoolExecutor\n",
    "from hecss.parallel import __run_async\n",
    "from hecss.parallel import __calculate_aio"
   ]
  },
  {
   "cell_type": "code",
   "execution_count": null,
   "id": "e2accd0d-43ca-4938-a9f3-65e758a0576b",
   "metadata": {},
   "outputs": [],
   "source": [
    "#|exporti core\n",
    "\n",
    "@patch \n",
    "async def __estimate_width_scale_aio(self: HECSS, n=1, Tmin=0, Tmax=600, \n",
    "                                     set_scale=True, pbar=None, nwork=5):\n",
    "    '''\n",
    "    Async/parallel version of w-estimator. Only supported for VASP.\n",
    "    Estimate coefficient between temperature and displacement scale (eta).\n",
    "    Calculate energy increase from the `n` temperatures uniformly \n",
    "    distributed between 0 and `Tmax` and calculate avarage $\\sqrt{E-E0/T}$\n",
    "    which is a width scale for a given temperature:\n",
    "    $$\n",
    "        w = \\\\eta\\\\sqrt{T}\n",
    "    $$\n",
    "    which comes from the assumed approximate relationship:\n",
    "    $$\n",
    "        \\\\frac{E(w(T))-E_0}{T} \\\\approx \\\\mathrm{const} = \\\\eta^2.\n",
    "    $$\n",
    "    \n",
    "    #### Input\n",
    "    * `n`    - number of sampling points\n",
    "    * `Tmax` - max sampled temperature\n",
    "    * `set_scale` - set scale parameter in the class after run\n",
    "    * `pbar` - show progress bar during calculation\n",
    "    * `nwork` -\n",
    "    \n",
    "    #### Output\n",
    "    * if wm_out :  mean(eta), std(eta), wm\n",
    "    * else : mean(eta), std(eta)\n",
    "    * wm - the nx3 array of: [width, Temperature, (E-E0)/nat]\n",
    "    '''\n",
    "    results = []\n",
    "    \n",
    "    async def worker(q, i):\n",
    "        while not q.empty():\n",
    "            (T, w, dx, clc) = await q.get()\n",
    "            try:\n",
    "                # print(f'Worker {i} run task')\n",
    "                returned = await clc.__calculate_aio(clc.atoms)\n",
    "                # print(f'Worker {i} done task')\n",
    "                results.append((T, w, dx, clc))\n",
    "                if pbar:\n",
    "                    pbar.update()\n",
    "            except Exception as e:\n",
    "                print(f\"Error executing task: {e}\")\n",
    "\n",
    "    \n",
    "    # print('Parallel estimate_width_scale')\n",
    "    nat = len(self.cryst)\n",
    "    dim = (nat, 3)    \n",
    "    \n",
    "    # try:\n",
    "    #     [task_queue.put_nowait(asyncio.create_task(fetch_data(root_path=row['1']))) \n",
    "    #      for index, row in run_column.iterrows()]\n",
    "    #     await asyncio.gather(*[worker(task_queue) for _ in range(5)]) \n",
    "    # except Exception as e:\n",
    "    #     print(f\"\\nUnable to get data: {e}\\n\")\n",
    " \n",
    "    \n",
    "    if pbar:\n",
    "       pbar.set_description('Create') \n",
    "\n",
    "    # Build the queue\n",
    "    structs = asyncio.Queue()    \n",
    "    while structs.qsize() < n - len(self._eta_list):\n",
    "        cr = ase.Atoms(self.cryst.get_atomic_numbers(), \n",
    "                       cell=self.cryst.get_cell(),\n",
    "                       scaled_positions=self.cryst.get_scaled_positions(),\n",
    "                       pbc=True, \n",
    "                      )\n",
    "        \n",
    "        T = stats.uniform.rvs(0, Tmax) # Kelvin\n",
    "        if not T:\n",
    "            continue\n",
    "        w = self.w_scale * np.sqrt(T)\n",
    "        dx = self.Q.rvs(size=dim, scale=w)\n",
    "\n",
    "        clc = self.calc.__class__()\n",
    "        clc.fromdict(self.calc.asdict())\n",
    "        clc.atoms.set_positions(self.cryst.get_positions()+dx)\n",
    "        try :\n",
    "            clc.set(directory=f'{self.directory}/w_est/{len(self._eta_list)+structs.qsize():03d}')\n",
    "        except AttributeError :\n",
    "            # Calculator is not directory-based\n",
    "            # Ignore the error\n",
    "            pass\n",
    "        clc.set(command=self.calc.command)\n",
    "        structs.put_nowait((T, w, dx, clc))\n",
    "        if pbar:\n",
    "            pbar.update()\n",
    "            \n",
    "    if pbar:\n",
    "        pbar.reset(structs.qsize())\n",
    "        pbar.set_description('Collect') \n",
    "\n",
    "    if nwork is None or nwork < 1:\n",
    "        nwork = structs.qsize()\n",
    "    await asyncio.gather(*[worker(structs, _) for _ in range(nwork)]) \n",
    "\n",
    "    while results:\n",
    "        T, w, dx, clc = results.pop()\n",
    "        E = clc.get_potential_energy()\n",
    "        i = len(self._eta_list)\n",
    "        self._eta_samples.append((i, i, dx, clc.get_forces(), (E-self.Ep0)/nat))\n",
    "        self._eta_list.append([w, T, (E-self.Ep0)/nat])\n",
    "\n",
    "    return"
   ]
  },
  {
   "cell_type": "code",
   "execution_count": null,
   "id": "4e08a951-3a14-49ee-b853-4dd2590394a0",
   "metadata": {},
   "outputs": [],
   "source": [
    "#|exporti core\n",
    "\n",
    "@patch \n",
    "def _estimate_width_scale_aio(self: HECSS, n=1, Tmin=0, Tmax=600, \n",
    "                              set_scale=True, pbar=None, nwork=5):\n",
    "    '''\n",
    "    Runner for the asynchronous version of width estimator.\n",
    "    Guards against not supported calculators and serial call\n",
    "    request (nwork==None) with NotImplementedError exception.\n",
    "    '''\n",
    "    if nwork is None:\n",
    "        # Silent. This is parallel version. Use serial instead.\n",
    "        raise NotImplementedError\n",
    "    if self.calc.name in ('vasp',):\n",
    "        __run_async(self.__estimate_width_scale_aio, n, Tmin, Tmax, set_scale, pbar, nwork)\n",
    "    else :\n",
    "        # Warn if the call was for parallel version with unsupported\n",
    "        # calculator. Silent, if the call was for serial version. \n",
    "        print('WARNING: Parallel execution supported only for some calculators.')\n",
    "        print('Using serial version')\n",
    "        raise NotImplementedError"
   ]
  },
  {
   "cell_type": "code",
   "execution_count": null,
   "id": "fbf73330-2b61-47aa-b823-96f8d43f41d9",
   "metadata": {},
   "outputs": [],
   "source": [
    "#| vasp\n",
    "# Quick test using conventional unit cell\n",
    "supercell = '1x1x1'"
   ]
  },
  {
   "cell_type": "code",
   "execution_count": null,
   "id": "961ee8f1-9646-4b3c-99b7-f02e1bbc83bb",
   "metadata": {},
   "outputs": [],
   "source": [
    "#| vasp\n",
    "#| slow\n",
    "# Slow more realistic test\n",
    "supercell = '2x2x2'"
   ]
  },
  {
   "cell_type": "code",
   "execution_count": null,
   "id": "aaa5541f-7701-4037-b2eb-b6f803d0e0ac",
   "metadata": {},
   "outputs": [],
   "source": [
    "#|hide\n",
    "#|eval: false\n",
    "# Reset supercell for interactive work (not executed in tests)\n",
    "supercell = '1x1x1'"
   ]
  },
  {
   "cell_type": "code",
   "execution_count": null,
   "id": "78c622b7-f4c4-44d3-b775-8b6e3a7030c4",
   "metadata": {},
   "outputs": [],
   "source": [
    "#|vasp\n",
    "# Directory in which our project resides\n",
    "base_dir = f'example/VASP_3C-SiC_calculated/{supercell}/'\n",
    "calc_dir = TemporaryDirectory(dir='TMP')"
   ]
  },
  {
   "cell_type": "code",
   "execution_count": null,
   "id": "f9a3c6e3-32f0-471c-95e7-ff9e916fe2cc",
   "metadata": {},
   "outputs": [],
   "source": [
    "#| vasp\n",
    "# Read the structure (previously calculated unit(super) cell)\n",
    "# The command argument is specific to the cluster setup\n",
    "calc = Vasp(label='cryst', directory=f'{base_dir}/sc/', restart=True)\n",
    "\n",
    "# This just makes a copy of atoms object\n",
    "# Do not generate supercell here - your atom ordering will be wrong!\n",
    "cryst = calc.atoms.repeat(1)"
   ]
  },
  {
   "cell_type": "code",
   "execution_count": null,
   "id": "aafe00a2-fb94-4fc8-87a1-fb9753d8c10c",
   "metadata": {},
   "outputs": [
    {
     "name": "stdout",
     "output_type": "stream",
     "text": [
      "Stress tensor: 0.017 0.017 0.017 0.000 0.000 0.000 GPa\n"
     ]
    }
   ],
   "source": [
    "#|vasp\n",
    "print('Stress tensor: ', end='')\n",
    "for ss in calc.get_stress()/un.GPa:\n",
    "    print(f'{ss:.3f}', end=' ')\n",
    "print('GPa')\n",
    "Ep0 = calc.get_potential_energy()"
   ]
  },
  {
   "cell_type": "code",
   "execution_count": null,
   "id": "3e8a80f1-3d04-4662-947c-c4946801d582",
   "metadata": {},
   "outputs": [],
   "source": [
    "#|vasp\n",
    "# Setup the calculator - single point energy calculation\n",
    "# The details will change here from case to case\n",
    "# We are using run-vasp from the current directory!\n",
    "calc.set(directory=f'{calc_dir.name}/sc')\n",
    "calc.set(command=f'{os.getcwd()}/run-calc.sh \"async\"')\n",
    "calc.set(nsw=0)\n",
    "cryst.calc = calc"
   ]
  },
  {
   "cell_type": "code",
   "execution_count": null,
   "id": "a0497e63-36fc-4ec2-98dd-8396d594cb74",
   "metadata": {},
   "outputs": [],
   "source": [
    "#|vasp\n",
    "# Prepare space for the results.\n",
    "# We use defaultdict to automatically\n",
    "# initialize the items to empty list.\n",
    "samples = defaultdict(lambda : [])\n",
    "\n",
    "# Space for amplitude correction data\n",
    "xsl = []"
   ]
  },
  {
   "cell_type": "code",
   "execution_count": null,
   "id": "eb6c0553-9cb9-4e33-9f83-e2acaf8a5f9c",
   "metadata": {},
   "outputs": [],
   "source": [
    "#|vasp\n",
    "# Build the sampler\n",
    "hecss = HECSS(cryst, calc, \n",
    "              directory=calc_dir.name,\n",
    "              w_search = True,\n",
    "              pbar=True,\n",
    "              )"
   ]
  },
  {
   "cell_type": "code",
   "execution_count": null,
   "id": "3b0b0dec-9fa0-487d-ac6b-a05b1ff424f1",
   "metadata": {},
   "outputs": [],
   "source": [
    "#|vasp\n",
    "hecss.Ep0 = Ep0"
   ]
  },
  {
   "cell_type": "markdown",
   "id": "eed51e13-14b2-4956-8bfe-225446db294f",
   "metadata": {},
   "source": [
    "## Triggering parallel calculations\n",
    "\n",
    "The parallel version of the `estimate_width_scale` method is triggered by setting `nwork` parameter to number of parallel workers which should be used. If `nwork=0` the number of workers will be equal to number of required samples `N`."
   ]
  },
  {
   "cell_type": "code",
   "execution_count": null,
   "id": "8f7c8c7b-3c92-4f17-a339-e3db0f6f3d97",
   "metadata": {},
   "outputs": [
    {
     "data": {
      "application/vnd.jupyter.widget-view+json": {
       "model_id": "73d35ecedd6f4acca3ad34d1f8cbb53c",
       "version_major": 2,
       "version_minor": 0
      },
      "text/plain": [
       "  0%|          | 0/1 [00:00<?, ?it/s]"
      ]
     },
     "metadata": {},
     "output_type": "display_data"
    }
   ],
   "source": [
    "#|vasp\n",
    "N = 10\n",
    "m, s, xscl = hecss.estimate_width_scale(1, Tmax=2000)"
   ]
  },
  {
   "cell_type": "code",
   "execution_count": null,
   "id": "499381ab-1358-48d9-a584-33a25b860f4e",
   "metadata": {},
   "outputs": [],
   "source": [
    "#|vasp\n",
    "await hecss.__estimate_width_scale_aio(N//2, Tmax=2000, nwork=N//2)"
   ]
  },
  {
   "cell_type": "code",
   "execution_count": null,
   "id": "9129fd69-0eff-44cc-b014-2a99d1b5751f",
   "metadata": {},
   "outputs": [
    {
     "data": {
      "application/vnd.jupyter.widget-view+json": {
       "model_id": "7c2f18608f2e4b66b25257f1dada7a16",
       "version_major": 2,
       "version_minor": 0
      },
      "text/plain": [
       "  0%|          | 0/10 [00:00<?, ?it/s]"
      ]
     },
     "metadata": {},
     "output_type": "display_data"
    }
   ],
   "source": [
    "#|vasp\n",
    "m, s, xscl = hecss.estimate_width_scale(N, Tmax=2000, nwork=N//2)"
   ]
  },
  {
   "cell_type": "code",
   "execution_count": null,
   "id": "6fc2e8fd",
   "metadata": {},
   "outputs": [
    {
     "data": {
      "application/vnd.jupyter.widget-view+json": {
       "model_id": "b1c78509dfb9411d91b2b731109108b8",
       "version_major": 2,
       "version_minor": 0
      },
      "text/plain": [
       "  0%|          | 0/5 [00:00<?, ?it/s]"
      ]
     },
     "metadata": {},
     "output_type": "display_data"
    }
   ],
   "source": [
    "#|vasp\n",
    "m, s, xscl = hecss.estimate_width_scale(N//2, Tmax=2000, nwork=3)"
   ]
  },
  {
   "cell_type": "code",
   "execution_count": null,
   "id": "61c196bc-2a3d-47ac-ba25-912f07c5dae2",
   "metadata": {},
   "outputs": [
    {
     "data": {
      "application/vnd.jupyter.widget-view+json": {
       "model_id": "0e07d435f3e843109991de4938f683e2",
       "version_major": 2,
       "version_minor": 0
      },
      "text/plain": [
       "  0%|          | 0/20 [00:00<?, ?it/s]"
      ]
     },
     "metadata": {},
     "output_type": "display_data"
    }
   ],
   "source": [
    "#|vasp\n",
    "m, s, xscl = hecss.estimate_width_scale(2*N, Tmax=2000, nwork=N)"
   ]
  },
  {
   "cell_type": "code",
   "execution_count": null,
   "id": "d04c8926-3238-4c2d-b5e2-326b82ce8c7d",
   "metadata": {},
   "outputs": [
    {
     "data": {
      "application/vnd.jupyter.widget-view+json": {
       "model_id": "fce1315e68c04279a2e54ad37e0bc465",
       "version_major": 2,
       "version_minor": 0
      },
      "text/plain": [
       "  0%|          | 0/30 [00:00<?, ?it/s]"
      ]
     },
     "metadata": {},
     "output_type": "display_data"
    }
   ],
   "source": [
    "#|vasp\n",
    "m, s, xscl = hecss.estimate_width_scale(3*N, Tmax=2000, nwork=0)"
   ]
  },
  {
   "cell_type": "code",
   "execution_count": null,
   "id": "c4faf85b-adc8-40cc-a1a6-208bdd363151",
   "metadata": {},
   "outputs": [
    {
     "data": {
      "image/png": "[encoded data removed]",
      "text/plain": [
       "<Figure size 640x480 with 1 Axes>"
      ]
     },
     "metadata": {},
     "output_type": "display_data"
    }
   ],
   "source": [
    "#|vasp\n",
    "# plt.semilogy()\n",
    "wm = np.array(hecss._eta_list).T\n",
    "y = np.sqrt((3*wm[1]*un.kB)/(2*wm[2]))\n",
    "plt.plot(wm[1], y, '.');\n",
    "x = np.linspace(0, 1.05*wm[1].max(), 2)\n",
    "fit = np.polyfit(wm[1], y, 1)\n",
    "plt.plot(x, np.polyval(fit, x), ':', label=f'{fit[1]:.4g} {fit[0]:+.4g} T')\n",
    "plt.axhline(m, ls='--', label=f'{m:.4g}±{s:.4g}')\n",
    "plt.axhspan(m-s, m+s, alpha=0.3)\n",
    "plt.ylim(m-4*s, m+4*s)\n",
    "# plt.ylim(0, m+4*s)\n",
    "plt.xlabel('Target temperature (K)')\n",
    "plt.ylabel('width scale ($\\\\AA/\\\\sqrt{K}$)')\n",
    "plt.grid()\n",
    "plt.legend();"
   ]
  },
  {
   "cell_type": "code",
   "execution_count": null,
   "id": "e08d07ea-17e1-44df-82e0-8b714bb7c270",
   "metadata": {},
   "outputs": [
    {
     "data": {
      "image/png": "[encoded data removed]",
      "text/plain": [
       "<Figure size 640x480 with 1 Axes>"
      ]
     },
     "metadata": {},
     "output_type": "display_data"
    }
   ],
   "source": [
    "#|vasp\n",
    "wm = np.array(hecss._eta_list).T\n",
    "y = np.sqrt((3*wm[1]*un.kB)/(2*wm[2]))\n",
    "plt.plot(y, '.')\n",
    "rm = np.array([y[:l].mean() for l in range(1, len(y))])\n",
    "rv = np.array([y[:l].std() for l in range(1, len(y))])\n",
    "plt.plot(rm, '-', label='$ (x_0 + ... + x_{n-1})/n$')\n",
    "plt.plot(rm + rv, ':', lw=1, color='C1')\n",
    "plt.plot(rm - rv, ':', lw=1, color='C1')\n",
    "plt.axhline(m, ls='--', label=f'{m:.4g}±{s:.4g}')\n",
    "plt.axhspan(m-s, m+s, alpha=0.3)\n",
    "plt.xlabel('Sample number ($n$)')\n",
    "plt.ylabel('width scale ($\\\\AA/\\\\sqrt{K}$)')\n",
    "plt.grid()\n",
    "plt.legend();\n"
   ]
  },
  {
   "cell_type": "markdown",
   "id": "a09c136d-ef30-4956-b0f7-a506eba6ec48",
   "metadata": {},
   "source": [
    "## Directory clean-up routine\n",
    "\n",
    "> This is executed by default to clean-up after the tests. If you want to clean up the directory after running the notebook change CLEANUP to True. The directory is always cleaned after successful tests run in command line mode. The default False value skips the cleanup for manual runs to leave calculation directory for inspection."
   ]
  },
  {
   "cell_type": "code",
   "execution_count": null,
   "id": "b805d098-d333-4c7a-b4b7-44815e125e8b",
   "metadata": {},
   "outputs": [],
   "source": [
    "#|hide\n",
    "#|vasp\n",
    "#|eval: false\n",
    "CLEANUP=False"
   ]
  },
  {
   "cell_type": "code",
   "execution_count": null,
   "id": "103062c2-3e58-4852-9ac1-99fee7e71873",
   "metadata": {},
   "outputs": [],
   "source": [
    "#|hide\n",
    "#|vasp\n",
    "try :\n",
    "    if CLEANUP:\n",
    "       calc_dir.cleanup() \n",
    "except NameError:\n",
    "    calc_dir.cleanup()"
   ]
  },
  {
   "cell_type": "code",
   "execution_count": null,
   "id": "7a9fa327-6323-4090-a375-a6cb7429b8ad",
   "metadata": {},
   "outputs": [],
   "source": []
  }
 ],
 "metadata": {
  "kernelspec": {
   "display_name": "python3",
   "language": "python",
   "name": "python3"
  }
 },
 "nbformat": 4,
 "nbformat_minor": 5
}
