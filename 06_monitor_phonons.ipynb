{
 "cells": [
  {
   "cell_type": "code",
   "execution_count": null,
   "metadata": {
    "hide_input": true
   },
   "outputs": [],
   "source": [
    "#hide\n",
    "from nbdev import *"
   ]
  },
  {
   "cell_type": "markdown",
   "metadata": {},
   "source": [
    "# Phonon convergence monitoring"
   ]
  },
  {
   "cell_type": "code",
   "execution_count": null,
   "metadata": {},
   "outputs": [],
   "source": [
    "#hide\n",
    "from hecss.monitor import monitor_phonons"
   ]
  },
  {
   "cell_type": "code",
   "execution_count": null,
   "metadata": {},
   "outputs": [],
   "source": [
    "#vasp\n",
    "\n",
    "# Quick test using conventional unit cell\n",
    "supercell = '1x1x1'"
   ]
  },
  {
   "cell_type": "code",
   "execution_count": null,
   "metadata": {},
   "outputs": [],
   "source": [
    "#vasp\n",
    "#slow\n",
    "\n",
    "# More realistic test using supercell\n",
    "supercell = '2x2x2'"
   ]
  },
  {
   "cell_type": "code",
   "execution_count": null,
   "metadata": {},
   "outputs": [],
   "source": [
    "#interactive\n",
    "T = 300\n",
    "monitor_phonons(directory=f'example/VASP_3C-SiC/{supercell}/phon/', dfset=f'DFSET_T{T:.1f}K', \n",
    "                   kpath='3C_SiC', charge='3C_SiC', sc=f'../sc_{supercell}/CONTCAR',\n",
    "                   order=1, # Change to 2 if you want to monitor cubic potential\n",
    "                   cutoff=10, # Interaction range in Bohr. Do not increase too much.\n",
    "                   born=2, # Change to None to deactivate Born effective charges calculation\n",
    "                   k_list=None # Change to string with points (e.g. 'KX') to plot selected points\n",
    "               )"
   ]
  },
  {
   "cell_type": "code",
   "execution_count": null,
   "metadata": {},
   "outputs": [],
   "source": []
  }
 ],
 "metadata": {
  "kernelspec": {
   "display_name": "Python 3",
   "language": "python",
   "name": "python3"
  }
 },
 "nbformat": 4,
 "nbformat_minor": 4
}
