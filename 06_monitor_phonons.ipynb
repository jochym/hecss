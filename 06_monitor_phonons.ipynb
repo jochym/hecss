{
 "cells": [
  {
   "cell_type": "markdown",
   "metadata": {},
   "source": [
    "### Phonon convergence monitoring notebook"
   ]
  },
  {
   "cell_type": "code",
   "execution_count": null,
   "metadata": {},
   "outputs": [],
   "source": [
    "from hecss import monitor_phonons"
   ]
  },
  {
   "cell_type": "code",
   "execution_count": null,
   "metadata": {},
   "outputs": [],
   "source": [
    "T = 300\n",
    "monitor_phonons(directory='../phon/', dfset=f'DFSET_T{T:.1f}K', \n",
    "                   kpath='3C_SiC', charge='3C_SiC', \n",
    "                   order=1, # Change to 2 if you want to monitor cubic potential\n",
    "                   cutoff=10, # Interaction range in Bohr. Do not increase too much.\n",
    "                   born=2, # Change to None to deactivate Born effective charges calculation\n",
    "                   k_list=None # Change to string with points (e.g. 'KX') to plot selected points\n",
    "               )"
   ]
  }
 ],
 "metadata": {
  "kernelspec": {
   "display_name": "Python 3",
   "language": "python",
   "name": "python3"
  }
 },
 "nbformat": 4,
 "nbformat_minor": 4
}
