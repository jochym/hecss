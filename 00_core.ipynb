{
 "cells": [
  {
   "cell_type": "code",
   "execution_count": null,
   "metadata": {},
   "outputs": [],
   "source": [
    "# default_exp core"
   ]
  },
  {
   "cell_type": "markdown",
   "metadata": {},
   "source": [
    "# HECSS\n",
    "\n",
    "> The ."
   ]
  },
  {
   "cell_type": "code",
   "execution_count": null,
   "metadata": {},
   "outputs": [],
   "source": [
    "#hide\n",
    "from nbdev.showdoc import *"
   ]
  },
  {
   "cell_type": "code",
   "execution_count": null,
   "metadata": {},
   "outputs": [],
   "source": [
    "#export\n",
    "def normalize_conf(c, base):\n",
    "    '''\n",
    "    Normalize the configuration `c` relative to the basic structure `base`.\n",
    "    Normalization is performed by \"nuwrapping\" the displacements of atoms\n",
    "    when they cross the periodic boundary conditions in such a way that the\n",
    "    atoms are not \"jumping\" from one side of the cell to the other. \n",
    "    \n",
    "    E.g. if the atom at r=(0,0,0) goes to the relative position (-0.01, 0, 0)\n",
    "    it is \"wrapped\" by PBC to the r=(0.99, 0, 0). Thus if we naiively calculate\n",
    "    the displacement we will get a large positive displacement (0.99 of the cell \n",
    "    vector) instead of a small negative one. \n",
    "    \n",
    "    This function reverses that process making the positions suitable for \n",
    "    differentiation. The positions may be part of a continous trajectory or\n",
    "    just independent configurations. This makes it impossible for described \n",
    "    procedure to work if the displacements are above 1/2 of the unit cell.\n",
    "    For sefety this implementation is limited to displacements < 1/3 of the \n",
    "    unit cell. If any coordinate changes by more then 1/3 the function\n",
    "    will rise an AssertionError exception.\n",
    "    \n",
    "    This implementation is not suitable for tracking positions in the system\n",
    "    with systematic drift (e.g. long MD trajectory with non-perfect momentum\n",
    "    conservation). For stronger implementation suitable for such cases look\n",
    "    at dxutils package.\n",
    "    '''\n",
    "    cell = base.get_cell()\n",
    "    spos = c.get_scaled_positions()\n",
    "    bspos = base.get_scaled_positions()\n",
    "\n",
    "    # Unwrap the displacement relative to base\n",
    "    sdx = spos - bspos\n",
    "    sht = (sdx < -0.5)*1 - (sdx > 0.5)*1\n",
    "    sdx += sht\n",
    "\n",
    "    # Check if fractional displacements are below 1/3\n",
    "    assert (abs(sdx) < 1/3).all()\n",
    "\n",
    "    # Calculate unwrapped spos\n",
    "    spos = bspos + sdx\n",
    "\n",
    "    # Return carthesian positions, fractional positions\n",
    "    return dot(spos,cell), spos"
   ]
  },
  {
   "cell_type": "code",
   "execution_count": null,
   "metadata": {},
   "outputs": [],
   "source": [
    "from ase import Atoms\n",
    "\n",
    "b = Atoms('4C', scalled_positions=[(0,0,0), \n",
    "                                   (1/2, 0, 0),\n",
    "                                   (0, 1/2, 0),\n",
    "                                   (0, 0, 1/2),\n",
    "                                   (1/2, 1/2, 0), \n",
    "                                   (1/2, 0, 1/2), \n",
    "                                   (0, 1/2, 1/2), \n",
    "                                   (1/2, 1/2, 1/2)],\n",
    "          cell = [4,4,4]\n",
    "         )\n",
    "\n",
    "c = Atoms(b.get_chemical_formula(), \n",
    "          scalled_positions=b.get_scalled_positions(),\n",
    "          cell=b.get_cell()\n",
    "         )\n",
    "c.rattle()\n",
    "print(c.get_scalled_positions(), normalize_conf(c,b)[1])"
   ]
  }
 ],
 "metadata": {
  "kernelspec": {
   "display_name": "Python 3",
   "language": "python",
   "name": "python3"
  }
 },
 "nbformat": 4,
 "nbformat_minor": 4
}
