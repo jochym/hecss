{
 "cells": [
  {
   "cell_type": "code",
   "execution_count": null,
   "metadata": {
    "hide_input": true
   },
   "outputs": [],
   "source": [
    "from nbdev import *"
   ]
  },
  {
   "cell_type": "code",
   "execution_count": null,
   "metadata": {},
   "outputs": [],
   "source": [
    "%nbdev_hide\n",
    "from hecss.core import *"
   ]
  },
  {
   "cell_type": "markdown",
   "metadata": {},
   "source": [
    "# VASP Tutorial\n",
    "\n",
    "This example uses VASP to calculate forces and energies. This is a non-free calculator which needs to be installed/setup separately. This example can be easily adapted to some other DFT calculator (e.g. QuantumEspresso, AbInit etc.)"
   ]
  },
  {
   "cell_type": "code",
   "execution_count": null,
   "metadata": {},
   "outputs": [],
   "source": [
    "%nbdev_vasp_test\n",
    "\n",
    "# Import VASP calculator and unit modules\n",
    "from ase.calculators.vasp import Vasp2\n",
    "from ase import units as un\n",
    "from os.path import isfile\n",
    "import os\n",
    "\n",
    "# The sample generator, monitoring display and dfset writer\n",
    "from hecss.core import HECSS, write_dfset\n",
    "\n",
    "# clear_output function for nice monitoring display\n",
    "from IPython.display import clear_output"
   ]
  },
  {
   "cell_type": "code",
   "execution_count": null,
   "metadata": {},
   "outputs": [],
   "source": [
    "%nbdev_vasp_test\n",
    "\n",
    "supercell = '1x1x1'"
   ]
  },
  {
   "cell_type": "code",
   "execution_count": null,
   "metadata": {},
   "outputs": [],
   "source": [
    "%nbdev_vasp_test\n",
    "%nbdev_slow_test\n",
    "\n",
    "supercell = '2x2x2'"
   ]
  },
  {
   "cell_type": "code",
   "execution_count": null,
   "metadata": {},
   "outputs": [],
   "source": [
    "%nbdev_vasp_test\n",
    "\n",
    "# Directory in which our project resides\n",
    "base_dir = f'example/VASP_3C-SiC/{supercell}/'"
   ]
  },
  {
   "cell_type": "code",
   "execution_count": null,
   "metadata": {},
   "outputs": [],
   "source": [
    "%nbdev_vasp_test\n",
    "\n",
    "# Desired number of samples.\n",
    "# Here 4 is minimal in 3C-SiC \n",
    "# to get somewhat decent cubic phonons \n",
    "# with 10 Bohr cutoff.\n",
    "N = 4"
   ]
  },
  {
   "cell_type": "code",
   "execution_count": null,
   "metadata": {},
   "outputs": [],
   "source": [
    "%nbdev_vasp_test\n",
    "\n",
    "# Temperature (K)\n",
    "T = 300"
   ]
  },
  {
   "cell_type": "code",
   "execution_count": null,
   "metadata": {},
   "outputs": [],
   "source": [
    "%nbdev_vasp_test\n",
    "\n",
    "# Read the structure (previously calculated unit(super) cell)\n",
    "# The command argument is specific to the cluster setup\n",
    "calc = Vasp2(label='cryst', directory=f'{base_dir}/sc_{supercell}/', restart=True)\n",
    "\n",
    "# This just makes a copy of atoms object\n",
    "# Do not generate supercell here - your atom ordering will be wrong!\n",
    "cryst = calc.atoms.repeat(1)"
   ]
  },
  {
   "cell_type": "markdown",
   "metadata": {},
   "source": [
    "If you have magmoms in your system you need to use following \n",
    "temporary fix for a bug in magmom handling in Vasp2 calculator:\n",
    "```python\n",
    "if 'magmom' in calc.list_float_params:\n",
    "    calc.list_float_params['magmom'] = cryst.get_initial_magnetic_moments()\n",
    "```\n",
    "Just copy the above code to a new cell here and execute it."
   ]
  },
  {
   "cell_type": "code",
   "execution_count": null,
   "metadata": {},
   "outputs": [],
   "source": [
    "%nbdev_vasp_test\n",
    "\n",
    "# Setup the calculator - single point energy calculation\n",
    "# The details will change here from case to case\n",
    "# We are using run-vasp from the current directory!\n",
    "calc.set(directory=f'{base_dir}/calc')\n",
    "calc.set(command=f'{os.getcwd()}/run-vasp -J \"hecss-3C-SiC-{supercell}\"')\n",
    "calc.set(nsw=0)\n",
    "cryst.set_calculator(calc)"
   ]
  },
  {
   "cell_type": "markdown",
   "metadata": {},
   "source": [
    "You should probably check the calculator setup and the stress tensor of the supercell to make sure it is in equilibrium before running long sequence of\n",
    "DFT calculations. Here is an example:"
   ]
  },
  {
   "cell_type": "code",
   "execution_count": null,
   "metadata": {},
   "outputs": [
    {
     "name": "stdout",
     "output_type": "stream",
     "text": [
      "Stress tensor: -0.000 -0.000 -0.000 0.000 0.000 0.000 GPa\n"
     ]
    }
   ],
   "source": [
    "%nbdev_vasp_test\n",
    "\n",
    "print('Stress tensor: ', end='')\n",
    "for ss in calc.get_stress()/un.GPa:\n",
    "    print(f'{ss:.3f}', end=' ')\n",
    "print('GPa')"
   ]
  },
  {
   "cell_type": "code",
   "execution_count": null,
   "metadata": {},
   "outputs": [],
   "source": [
    "%nbdev_vasp_test\n",
    "\n",
    "# Space for results\n",
    "confs = []\n",
    "dfsetfn = f'{base_dir}/phon/DFSET_T{T:.1f}K'\n",
    "calc_dir = f'{base_dir}/calc/T{T:.1f}K/'"
   ]
  },
  {
   "cell_type": "code",
   "execution_count": null,
   "metadata": {},
   "outputs": [],
   "source": [
    "%nbdev_vasp_test\n",
    "\n",
    "# Build the sampler\n",
    "sampler = HECSS(cryst, calc, T, directory=calc_dir,\n",
    "                # sigma=3,  # Use if the energy distribution comes out too narrow\n",
    "                # reuse_base=f'{base_dir}/calc/' # Use if you want to reuse the base calc\n",
    "               )"
   ]
  },
  {
   "cell_type": "code",
   "execution_count": null,
   "metadata": {},
   "outputs": [
    {
     "name": "stdout",
     "output_type": "stream",
     "text": [
      "Sample:1622  a: 87.4%  w:1.1210  <w>:1.1298  alpha: 1.063e+00 \r"
     ]
    }
   ],
   "source": [
    "%nbdev_vasp_test\n",
    "\n",
    "# Iterate over samples (conf == n, i, x, f, e) collect the configurations\n",
    "# and write displacement-force data to the dfsetfn file\n",
    "# You can continue the iteration by manually increasing N and just\n",
    "# re-running this loop. It will continue from the last computed sample.\n",
    "for conf in sampler:\n",
    "    # Collect results\n",
    "    confs.append(conf)    \n",
    "    write_dfset(dfsetfn, conf)\n",
    "    \n",
    "    clear_output(wait=True)\n",
    "    \n",
    "    # Check if we have enough samples\n",
    "    if len(confs) >= N:\n",
    "        break\n",
    "    \n",
    "    # Check for the manual stop file in calc_dir\n",
    "    if isfile(f'{calc_dir}/STOP_HECSS'):\n",
    "        os.remove(f'{calc_dir}/STOP_HECSS')\n",
    "        break"
   ]
  },
  {
   "cell_type": "code",
   "execution_count": null,
   "metadata": {},
   "outputs": [],
   "source": [
    "%nbdev_vasp_test\n",
    "\n",
    "# Need more samples. Increase N and run the loop above again.\n",
    "N = 2000"
   ]
  },
  {
   "cell_type": "code",
   "execution_count": null,
   "metadata": {},
   "outputs": [],
   "source": []
  }
 ],
 "metadata": {
  "kernelspec": {
   "display_name": "Python 3",
   "language": "python",
   "name": "python3"
  }
 },
 "nbformat": 4,
 "nbformat_minor": 4
}
