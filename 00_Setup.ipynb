{
 "cells": [
  {
   "cell_type": "code",
   "execution_count": null,
   "id": "1ea081d6-d308-4eca-ad32-5e8e06ed8c52",
   "metadata": {
    "hide_input": true
   },
   "outputs": [],
   "source": [
    "#| hide\n",
    "from nbdev import *"
   ]
  },
  {
   "cell_type": "markdown",
   "id": "56b06e91-fb1b-4ed8-9a9e-164dc4d7c753",
   "metadata": {},
   "source": [
    "# Setup\n",
    "\n",
    ">At the moment the HECSS sampler supports only VASP and ASAP3/OpenKIM calculators. However, it is explicitly written in such a way that it should be quite easy to extend it to other calculators (e.g. QE, AbInit). The VASP and ASAP calculators are simply the only ones tested so far. The following instructions cover only VASP. Contributions extending support to other calculators are welcomed and will be included in the distribution."
   ]
  },
  {
   "cell_type": "markdown",
   "id": "2753340e-e1d9-4104-b0fb-ee5eb5b194ae",
   "metadata": {},
   "source": [
    "## Install\n",
    "\n",
    "The HECSS package is available on pypi and conda-forge additionally the package is present also in my personal anaconda channel (jochym). Installation is simple, but requires a number of other packages to be installed as well. Package managers handle these dependencies automatically. \n",
    "\n",
    "### Install with pip\n",
    "It is advisable to install in a dedicated virtual environment e.g.:\n",
    "```bash\n",
    "python3 -m venv venv\n",
    ". venv/bin/activate\n",
    "```\n",
    "then install with `pip`:\n",
    "```bash\n",
    "pip install hecss\n",
    "```\n",
    "\n",
    "### Install with conda\n",
    "Also installation with conda should be performed for dedicated or some other non-base environment. To create dedicated environment you can invoke `conda create`:\n",
    "```bash\n",
    "conda create -n hecss -c conda-forge hecss\n",
    "```\n",
    "or you can install in some working environment `venv`:\n",
    "```bash\n",
    "conda install -n venv -c conda-forge hecss\n",
    "```\n",
    "\n",
    "### Example data archive\n",
    "\n",
    "The example data is not distributed within the library package. However, when you learn the software it is usefull to have some pre-calculated results and template configs to have a starting point. The `example` directory in the source distribution contains template configuration files for a calculation (`VASP_3C-SiC` subdirectory) and the example data calculated for the same systems (`VASP_3C-SiC_calculated` subdirectory).\n",
    "As the name suggests these are 1x1x1 and 2x2x2 supercells of the 3C-SiC (cubic silicon carbide) calculated with VASP DFT calculator.\n",
    "\n",
    "To obtain the data you need to download the zip archive from the source repository: [hecss-examples.zip](https://gitlab.com/jochym/hecss/-/archive/master/hecss-master.zip?path=example) \n",
    "\n",
    "The source is published at the [Gitlab hecss repository](https://gitlab.com/jochym/hecss). \n",
    "You can access it with git (recommended, particularly if you want to contribute to the development):\n",
    "```bash\n",
    "git clone https://gitlab.com/jochym/hecss.git\n",
    "```\n",
    "or you can download the whole distribution as a zip archive: [hecss.zip](https://gitlab.com/jochym/hecss/-/archive/master/hecss-master.zip)\n",
    "The example subdirectory from the source may be downloaded directly from the source repository: [hecss-examples.zip](https://gitlab.com/jochym/hecss/-/archive/master/hecss-master.zip?path=example) \n",
    "\n",
    "### The source code\n",
    "\n",
    "The source is published at the [Gitlab hecss repository](https://gitlab.com/jochym/hecss). \n",
    "You can access it with git (recommended, particularly if you want to contribute to the development):\n",
    "```bash\n",
    "git clone https://gitlab.com/jochym/hecss.git\n",
    "```\n",
    "or you can download the whole distribution as a zip archive: [hecss.zip](https://gitlab.com/jochym/hecss/-/archive/master/hecss-master.zip)"
   ]
  },
  {
   "cell_type": "markdown",
   "id": "3751010d-ff4d-4765-862c-7aab20b9412a",
   "metadata": {},
   "source": [
    "## Calculators\n",
    "\n",
    "To use HECSS you need some code for calculation of energies and forces in the form of ASE calculator. At this moment two calculators are supported: ASAP/LAMMPS/OpenKIM and VASP. The first is a free, fast, effective potential calculator which can be used for testing and experimentation. It is also used in HECSS test suite. VASP is a non-free, high quality, academic DFT code which you can use for research-grade calculations. Other calculators are available in ASE (abInit, gpaw and many others). There is no reason for other ASE calculators to not work with HECSS, these two are just supported and tested for now. The next in line will be probably abInit - since this is also a high-quality, research-grade DFT code which happen to be also free."
   ]
  },
  {
   "cell_type": "markdown",
   "id": "6b810168-3462-4e3b-a159-0ee7a029e10d",
   "metadata": {},
   "source": [
    "### ASAP/LAMMPS/OpenKIM\n",
    "\n",
    "The ASAP calculator is not installed by default with HECSS package, to not force it's installation on users which are not going to use it and to avoid blocking simple HECSS installation on systems where ASAP is not supported at the moment (e.g. Windows).\n",
    "To install ASAP in your conda environment run:\n",
    "```bash\n",
    "conda install -c conda-forge asap3 openkim-models=2021.01.28\n",
    "```\n",
    "No further configuration is required for this calculator."
   ]
  },
  {
   "cell_type": "markdown",
   "id": "6882ebfa-dacf-4a95-82e6-4a37a14ee952",
   "metadata": {},
   "source": [
    "### VASP\n",
    "\n",
    "The installation of VASP is beyond the scope of this manual. We assume that you have a working VASP setup and just installed HECSS package with its dependencies. \n",
    "\n",
    "To enable use of the VASP calculator in ASE you need to configure it. This involves configuring ASE (Atomistic Simulation Environment) to be able to generate VASP input files. Refer to [ASE documentation](https://wiki.fysik.dtu.dk/ase/ase/calculators/vasp.html) for details. \n",
    "\n",
    "Usually you need to:\n",
    "1. Put your pseudopotential files in a dedicated directory tree as described  in the docs. My setup contains a directory with three subdirs for LDA, GGA, and PBE pseudopotentials:\n",
    "\n",
    "```bash\n",
    "potpaw  \n",
    "potpaw_GGA  \n",
    "potpaw_PBE\n",
    "```\n",
    "2. Setting the `VASP_PP_PATH` environment variable to the location of this directory\n",
    "3. Preparing the `run-calc` script to execute vasp in your setup. The script *must* wait for the calculation to finish before it returns. The example script is included in the source and for SLURM queue manager may look similar to the following code:\n",
    "\n",
    "```bash\n",
    "#!/bin/bash\n",
    "\n",
    "# This script should run vasp in current directory \n",
    "# and wait for the run to finish.\n",
    "# \n",
    "# A generic line using SLURM would look like this:\n",
    "#\n",
    "# sbatch [job_params] -W vasp_running_script\n",
    "#\n",
    "# The \"-W\" param makes the sbatch command wait for the job to finish.\n",
    "\n",
    "\n",
    "JN=`pwd`\n",
    "JN=`basename ${JN}`\n",
    "\n",
    "# Partition of the cluster\n",
    "PART=small\n",
    "\n",
    "# Number of nodes\n",
    "N=1\n",
    "\n",
    "# Number of MPI tasks\n",
    "ntask=64\n",
    "\n",
    "# Name the job after directory if no label is passed as first argument\n",
    "if [ \"${1}.\" != \".\" ]; then\n",
    "  JN=${1}\n",
    "fi\n",
    "\n",
    "sbatch -W -J ${JN} -p $PART -N $N -n $ntask run-vasp-script\n",
    "```\n",
    "\n",
    "You need to adapt the script to your setup. The script works properly if you can go to the directory with the prepared VASP configuration and execute `run-calc` and have it run vasp in the directory and finish after the VASP job ends."
   ]
  },
  {
   "cell_type": "code",
   "execution_count": null,
   "id": "a49833ae-f30b-4718-9a81-c8b125991ea5",
   "metadata": {},
   "outputs": [],
   "source": []
  }
 ],
 "metadata": {
  "kernelspec": {
   "display_name": "python3",
   "language": "python",
   "name": "python3"
  }
 },
 "nbformat": 4,
 "nbformat_minor": 5
}
