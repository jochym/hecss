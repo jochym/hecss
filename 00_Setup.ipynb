{
 "cells": [
  {
   "cell_type": "code",
   "execution_count": null,
   "id": "1ea081d6-d308-4eca-ad32-5e8e06ed8c52",
   "metadata": {
    "hide_input": true
   },
   "outputs": [],
   "source": [
    "#hide\n",
    "from nbdev import *\n",
    "from hecss.core import *"
   ]
  },
  {
   "cell_type": "markdown",
   "id": "56b06e91-fb1b-4ed8-9a9e-164dc4d7c753",
   "metadata": {},
   "source": [
    "# Setup\n",
    "\n",
    ">At the moment the HECSS sampler supports only VASP and ASAP3/OpenKIM calculators. However, it is explicitly written in such a way that it should be quite easy to extend it to other calculators (e.g. QE, AbInit). The VASP and ASAP calculators are simply the only ones tested so far. The following instructions cover only VASP. Contributions extending support to other calculators are welcomed and will be included in the distribution."
   ]
  },
  {
   "cell_type": "markdown",
   "id": "081fc173-6197-4bce-b707-2be62a4ed17b",
   "metadata": {},
   "source": [
    "## VASP calculator\n",
    "\n",
    "After installing of the HECSS package you need to configure it. This involves configuring ASE (Atomistic Simulation Environment) to be able to generate VASP input files. Refer to [ASE documentation](https://wiki.fysik.dtu.dk/ase/ase/calculators/vasp.html) for details. Usually yu need to:\n",
    "1. Put your pseudopotential files in a dedicated directory tree as described  in the docs. My setup contains a directory with three subdirs for LDA, GGA, and PBE pseudopotentials:\n",
    "```bash\n",
    "potpaw  \n",
    "potpaw_GGA  \n",
    "potpaw_PBE\n",
    "```\n",
    "2. Setting the `VASP_PP_PATH` environment variable to the location of this directory\n",
    "3. Preparing the `run-calc` script to execute vasp in your setup. The script *must* wait for the calculation to finish before it returns. The example script is included in the source and for SLURM queu manager may look similar to the following code:\n",
    "\n",
    "```bash\n",
    "#!/bin/bash\n",
    "\n",
    "# This script should run vasp in current directory \n",
    "# and wait for the run to finish.\n",
    "# \n",
    "# A generic line using SLURM would look like this:\n",
    "#\n",
    "# sbatch [job_params] -W vasp_running_script\n",
    "#\n",
    "# The \"-W\" param makes the sbatch command wait for the job to finish.\n",
    "\n",
    "\n",
    "JN=`pwd`\n",
    "JN=`basename ${JN}`\n",
    "\n",
    "# Partition of the cluster\n",
    "PART=small\n",
    "\n",
    "# Number of nodes\n",
    "N=1\n",
    "\n",
    "# Number of MPI tasks\n",
    "ntask=64\n",
    "\n",
    "# Name the job after directory if no label is passed as first argument\n",
    "if [ \"${1}.\" != \".\" ]; then\n",
    "  JN=${1}\n",
    "fi\n",
    "\n",
    "sbatch -W -J ${JN} -p $PART -N $N -n $ntask run-vasp-script\n",
    "```\n",
    "You need to adapt it to your setup. The script works properly if you can go to the directory with the prepared VASP configuration and execute `run-calc` and have it run vasp in the directory and finish after the VASP job ends."
   ]
  },
  {
   "cell_type": "code",
   "execution_count": null,
   "id": "a49833ae-f30b-4718-9a81-c8b125991ea5",
   "metadata": {},
   "outputs": [],
   "source": []
  }
 ],
 "metadata": {
  "kernelspec": {
   "display_name": "Python 3 (ipykernel)",
   "language": "python",
   "name": "python3"
  }
 },
 "nbformat": 4,
 "nbformat_minor": 5
}
