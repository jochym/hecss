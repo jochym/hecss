{
 "cells": [
  {
   "cell_type": "code",
   "execution_count": null,
   "metadata": {
    "hide_input": true
   },
   "outputs": [],
   "source": [
    "from nbdev import *"
   ]
  },
  {
   "cell_type": "code",
   "execution_count": null,
   "metadata": {},
   "outputs": [],
   "source": [
    "#default_exp monitor"
   ]
  },
  {
   "cell_type": "markdown",
   "metadata": {},
   "source": [
    "# Monitor\n",
    "\n",
    "> Monitoring functions for HECSS sampler"
   ]
  },
  {
   "cell_type": "code",
   "execution_count": null,
   "metadata": {},
   "outputs": [],
   "source": [
    "#export\n",
    "from ase import units as un\n",
    "from numpy import sqrt, loadtxt, array, linspace, histogram, median\n",
    "from IPython.display import clear_output\n",
    "import subprocess\n",
    "from time import sleep\n",
    "from matplotlib import pyplot as plt\n",
    "from matplotlib.pyplot import plot, figure, subplot, legend, show, sca, semilogx, semilogy\n",
    "from matplotlib.pyplot import xlabel, ylabel, xticks, xlim, ylim, axhline, axvline\n",
    "from scipy import stats\n",
    "import sys"
   ]
  },
  {
   "cell_type": "code",
   "execution_count": null,
   "metadata": {},
   "outputs": [],
   "source": [
    "#export\n",
    "from ase import units as un\n",
    "THz = 1e12 * un._hplanck * un.J # THz in eV"
   ]
  },
  {
   "cell_type": "code",
   "execution_count": null,
   "metadata": {},
   "outputs": [],
   "source": [
    "#export\n",
    "def plot_band_set(bnd, units=THz, lbl=None, **kwargs):\n",
    "    if lbl is None:\n",
    "        lbl=''\n",
    "    kwa = {k:v for k, v in kwargs.items() if k not in ('color',)}\n",
    "    plt=plot(bnd[0], un.invcm * bnd[1] / units, label=lbl, **kwargs)\n",
    "    for b in bnd[2:]:\n",
    "        plot(bnd[0], un.invcm * b / units, color=plt[0].get_color(), **kwa)"
   ]
  },
  {
   "cell_type": "code",
   "execution_count": null,
   "metadata": {},
   "outputs": [],
   "source": [
    "#export\n",
    "def plot_bands(bnd, kpnts, units=THz, decorate=True, lbl=None, **kwargs):\n",
    "    plot_band_set(bnd, units, lbl, **kwargs)\n",
    "\n",
    "    lbls, pnts = kpnts\n",
    "\n",
    "    if decorate:\n",
    "        xticks(pnts, lbls)\n",
    "        xlim(min(pnts), max(pnts))\n",
    "        axhline(0,ls=':', lw=1, alpha=0.5)\n",
    "        for p in sorted(pnts)[1:-1]:\n",
    "            axvline(p, ls=':', lw=1, alpha=0.5)\n",
    "        xlabel('Wave vector')\n",
    "        ylabel('Frequency (THz)')"
   ]
  },
  {
   "cell_type": "code",
   "execution_count": null,
   "metadata": {},
   "outputs": [],
   "source": [
    "#export\n",
    "def plot_bands_file(fn, units=THz, decorate=True, lbl=None, **kwargs):\n",
    "    bnd = loadtxt(fn).T\n",
    "\n",
    "    with open(fn) as f:\n",
    "        p_lbl = [l if l!='G' else '$\\\\Gamma$' for l in f.readline().split()[1:]]\n",
    "        p_pnt = [float(v) for v in f.readline().split()[1:]]\n",
    "    kpnts = (p_lbl, p_pnt)\n",
    "\n",
    "    if lbl is None:\n",
    "        lbl=fn\n",
    "\n",
    "    plot_bands(bnd, kpnts, units, decorate, lbl, **kwargs)"
   ]
  },
  {
   "cell_type": "code",
   "execution_count": null,
   "metadata": {},
   "outputs": [],
   "source": [
    "#export\n",
    "def run_alamode(d='phon', prefix='cryst', kpath='cryst', dfset='DFSET', sc='../sc/CONTCAR',\n",
    "                o=1, n=0, c2=10, born=None, charge=None):\n",
    "    fit_cmd = f'/home/jochym/Projects/alamode-tools/devel/make-gen.py opt -p {prefix} -n {sc} -f {dfset} -o {o} --c2 {c2} -d {n}'.split()\n",
    "    b = ''\n",
    "    if charge is None:\n",
    "        charge = prefix\n",
    "    if born is not None:\n",
    "        b = f'-b {born} -c {charge}'\n",
    "    phon_cmd = f'/home/jochym/Projects/alamode-tools/devel/make-gen.py phon -p {prefix} -n {sc} {b} -k {kpath}.path'.split()\n",
    "    alm_cmd = f'/home/jochym/public/bin/alm {prefix}_fit.in'.split()\n",
    "    anph_cmd = f'/home/jochym/public/bin/anphon {prefix}_phon.in'.split()\n",
    "\n",
    "    with open(f'{d}/{prefix}_fit.in', 'w') as ff:\n",
    "        fit = subprocess.run(fit_cmd, cwd=d, stdout=ff, stderr=subprocess.PIPE)\n",
    "\n",
    "    with open(f'{d}/{prefix}_phon.in', 'w') as ff:\n",
    "        phon = subprocess.run(phon_cmd, cwd=d, stdout=ff, stderr=subprocess.PIPE)\n",
    "\n",
    "    alm = subprocess.run(alm_cmd, cwd=d, stdout=subprocess.PIPE, stderr=subprocess.PIPE)\n",
    "    anph = subprocess.run(anph_cmd, cwd=d, stdout=subprocess.PIPE, stderr=subprocess.PIPE)\n",
    "\n",
    "    for p, l in zip((fit, phon, alm, anph), ('fit', 'phon', 'alm', 'anphon')):\n",
    "        if p.stdout is not None:\n",
    "            with open(f'{d}/{prefix}_{l}.log', 'wt') as lf:\n",
    "                lf.write(p.stdout.decode())\n",
    "        if p.stderr is not None and len(p.stderr) > 0:\n",
    "            with open(f'{d}/{prefix}_{l}.err', 'wt') as lf:\n",
    "                lf.write(p.stderr.decode())\n",
    "\n",
    "    return all([r.returncode==0 for r in  (fit, phon, alm, anph)]), fit, phon, alm, anph"
   ]
  },
  {
   "cell_type": "code",
   "execution_count": null,
   "metadata": {},
   "outputs": [],
   "source": [
    "#export\n",
    "def get_dfset_len(fn='phon/DFSET'):\n",
    "    try :\n",
    "        with open(fn) as dfset:\n",
    "            return len([l for l in dfset if 'set:' in l])\n",
    "    except FileNotFoundError:\n",
    "            return 0"
   ]
  },
  {
   "cell_type": "code",
   "execution_count": null,
   "metadata": {},
   "outputs": [],
   "source": [
    "#export\n",
    "def show_dc_conv(bl, kpnts, max_plots=4):\n",
    "    prev_n = sorted(bl.keys())[-1]\n",
    "    plot_bands(bl[prev_n], kpnts, lbl=f'{prev_n}', color='C3')\n",
    "    y_lims = ylim()\n",
    "    alpha = 1\n",
    "    plotted = 1\n",
    "    for n in reversed(sorted(bl.keys())):\n",
    "        if n > prev_n*0.75 :\n",
    "            continue\n",
    "        alpha *= 0.8\n",
    "        plot_band_set(bl[n], lbl=f'{n}', alpha=alpha, color='C0', ls='--', lw=1)\n",
    "        plotted += 1\n",
    "        prev_n = n\n",
    "        if plotted > max_plots :\n",
    "            break\n",
    "    ylim(y_lims)\n",
    "    legend()"
   ]
  },
  {
   "cell_type": "code",
   "execution_count": null,
   "metadata": {},
   "outputs": [],
   "source": [
    "#export\n",
    "def build_bnd_lst(directory='phon', dfset='DFSET', prefix='cryst', kpath='crast', sc='../sc/CONTCAR',\n",
    "                  order=1, cutoff=10, born=None, charge=None, verbose=False):\n",
    "    N = get_dfset_len(f'{directory}/{dfset}')\n",
    "    bl = {}\n",
    "    for n in range(1,N+1):\n",
    "        if verbose :\n",
    "            print(f'Using first {n:3} samples', end='\\r')\n",
    "        run_alamode(d=directory, prefix=prefix, dfset=dfset, kpath=kpath, sc=sc,\n",
    "                    o=order, n=n, c2=cutoff, born=born, charge=charge)\n",
    "        bl[n]=loadtxt(f'{directory}/{prefix}.bands').T\n",
    "    if verbose :\n",
    "        print()\n",
    "    return bl"
   ]
  },
  {
   "cell_type": "code",
   "execution_count": null,
   "metadata": {},
   "outputs": [],
   "source": [
    "#export\n",
    "def build_omega(bl, kpnts):\n",
    "    omega={}\n",
    "    eps=1e-3\n",
    "    kp_dict = {k:v for k,v in zip(*kpnts)}\n",
    "    for k,v in kp_dict.items():\n",
    "        omega[k] = array([[n] + list(bnd[1:,abs(bnd[0]-v)<eps][:,0]) for n, bnd in sorted(bl.items())]).T\n",
    "        omega[k][1:] = omega[k][1:,-1][:,None] - omega[k][1:]\n",
    "    return omega"
   ]
  },
  {
   "cell_type": "code",
   "execution_count": null,
   "metadata": {},
   "outputs": [],
   "source": [
    "#export\n",
    "def plot_omega(omega):\n",
    "    for k, o in omega.items():\n",
    "        if len(o[0])<2 :\n",
    "            return\n",
    "        l = k\n",
    "        if k == 'G':\n",
    "            l = '$\\\\Gamma$'\n",
    "        semilogy(o[0, :-1], (un.invcm * o[1:,:-1].std(axis=0))/THz, '-', label=l)\n",
    "\n",
    "    legend()\n",
    "    plt.gca().set_xscale('function', functions=(lambda x: x**(1/2), lambda x: x**2))\n",
    "    rng = 10*un.invcm*median([o[1:].std(axis=0) for o in omega.values()])/THz\n",
    "    if rng > 1e-3:\n",
    "        ylim(None, rng)\n",
    "    #axhline(0, ls=':', lw=1)\n",
    "    ylabel('Frequency convergence (THz)')\n",
    "    xlabel('Number of samples')"
   ]
  },
  {
   "cell_type": "code",
   "execution_count": null,
   "metadata": {},
   "outputs": [],
   "source": [
    "#export\n",
    "def monitor_phonons(directory='phon', dfset='DFSET', prefix='cryst', kpath='cryst', sc='../sc/CONTCAR',\n",
    "                    order=1, cutoff=10, born=None, charge=None, k_list=None, fig_out=None):\n",
    "\n",
    "    def update_fig(fig, bnd_lst, kpnts, k_lst):\n",
    "        if fig is not None:\n",
    "            plt.close(fig)\n",
    "        fig = figure(figsize=(14,5))\n",
    "        (dcplt, omplt) = fig.subplots(1, 2)\n",
    "        sca(dcplt)\n",
    "        show_dc_conv(bnd_lst, kpnts)\n",
    "        sca(omplt)\n",
    "        if N>1:\n",
    "            if k_lst is None:\n",
    "                plot_omega(build_omega(bnd_lst, kpnts))\n",
    "            else :\n",
    "                plot_omega(build_omega(bnd_lst,\n",
    "                                        ([l for l in kpnts[0] if l in k_lst],\n",
    "                                         [v for l, v in zip(*kpnts) if l in k_lst])))\n",
    "        show()\n",
    "        clear_output(wait=True)\n",
    "        return fig\n",
    "\n",
    "    bnd_lst = {}\n",
    "\n",
    "    if get_dfset_len(f'{directory}/{dfset}') < 1:\n",
    "        print('Waiting for the first sample.', end='')\n",
    "        sys.stdout.flush()\n",
    "        while get_dfset_len(f'{directory}/{dfset}') < 1:\n",
    "           sleep(15)\n",
    "           print('.', end='')\n",
    "           sys.stdout.flush()\n",
    "        print('done.', end='')\n",
    "    print('Calculating the plots.',)\n",
    "    sys.stdout.flush()\n",
    "    clear_output(wait=True)\n",
    "\n",
    "    N = get_dfset_len(f'{directory}/{dfset}')\n",
    "    run_alamode(d=directory, dfset=dfset, prefix=prefix, kpath=kpath, sc=sc,\n",
    "                o=order, n=N, c2=cutoff, born=born, charge=charge)\n",
    "    bnd_lst[N] = loadtxt(f'{directory}/{prefix}.bands').T\n",
    "    prev_N = N\n",
    "\n",
    "    with open(f'{directory}/{prefix}.bands') as f:\n",
    "        p_lbl = [v if v!='G' else '$\\\\Gamma$' for v in f.readline().split()[1:]]\n",
    "        p_pnt = [float(v) for v in f.readline().split()[1:]]\n",
    "    kpnts = (p_lbl, p_pnt)\n",
    "\n",
    "    fig = update_fig(None, bnd_lst, kpnts, k_list)\n",
    "    if fig_out is not None :\n",
    "        fig_out.append(fig)\n",
    "\n",
    "    while True :\n",
    "        N = get_dfset_len(f'{directory}/{dfset}')\n",
    "        if N > prev_N:\n",
    "            r = run_alamode(d=directory, dfset=dfset, prefix=prefix, kpath=kpath, sc=sc,\n",
    "                            o=order, n=N, c2=cutoff, born=born, charge=charge)\n",
    "            if r[0]:\n",
    "                bnd_lst[N] = loadtxt(f'{directory}/{prefix}.bands').T\n",
    "                fig = update_fig(fig, bnd_lst, kpnts, k_list)\n",
    "                prev_N = N\n",
    "                if fig_out is not None :\n",
    "                    fig_out[-1]=fig\n",
    "        else :\n",
    "            SN = N//2\n",
    "            all_done = True\n",
    "            while SN > 0:\n",
    "                for NN in range(N, 1, -SN):\n",
    "                    if NN not in bnd_lst:\n",
    "                        all_done = False\n",
    "                        r = run_alamode(d=directory, dfset=dfset, prefix=prefix, kpath=kpath, sc=sc,\n",
    "                                        o=order, n=NN, c2=cutoff, born=born, charge=charge)\n",
    "                        if r[0]:\n",
    "                            bnd_lst[NN] = loadtxt(f'{directory}/{prefix}.bands').T\n",
    "                            fig = update_fig(fig, bnd_lst, kpnts, k_list)\n",
    "                            if fig_out is not None :\n",
    "                                fig_out[-1]=fig\n",
    "                    if get_dfset_len(f'{directory}/{dfset}') > prev_N:\n",
    "                        SN = 0\n",
    "                        all_done = False\n",
    "                        break\n",
    "                SN = SN//2\n",
    "            if all_done:\n",
    "                sleep(30)"
   ]
  },
  {
   "cell_type": "code",
   "execution_count": null,
   "metadata": {},
   "outputs": [],
   "source": [
    "#export\n",
    "def load_dfset(base_dir='phon', dfsetfn='DFSET'):\n",
    "    '''\n",
    "    Load contents of the DFSET flie and return dfset array\n",
    "    '''\n",
    "    N = get_dfset_len(f'{base_dir}/{dfsetfn}')\n",
    "    dfset = loadtxt(f'{base_dir}/{dfsetfn}').reshape(N,-1,6)\n",
    "    nat=dfset.shape[1]\n",
    "    \n",
    "    confs = []\n",
    "    sets = []\n",
    "    es = []\n",
    "    with open(f'{base_dir}/{dfsetfn}') as dff:\n",
    "        for l in dff:\n",
    "            if 'set:' not in l:\n",
    "                continue\n",
    "            s, _, c, _, e = l.split()[2:7]\n",
    "            s = int(s)\n",
    "            c = int(c)\n",
    "            e = float(e)\n",
    "            confs.append((s,c, dfset[s-1,:,0:3], dfset[s-1,:,3:], e))\n",
    "            \n",
    "    return confs"
   ]
  },
  {
   "cell_type": "code",
   "execution_count": null,
   "metadata": {},
   "outputs": [
    {
     "data": {
      "text/plain": [
       "100"
      ]
     },
     "execution_count": null,
     "metadata": {},
     "output_type": "execute_result"
    }
   ],
   "source": [
    "confs = load_dfset(base_dir='example/VASP_3C-SiC/1x1x1/phon/', dfsetfn='DFSET_T300.0K')\n",
    "len(confs)"
   ]
  },
  {
   "cell_type": "code",
   "execution_count": null,
   "metadata": {},
   "outputs": [],
   "source": [
    "#export\n",
    "def plot_stats(confs, T=None, sqrN=False, show=True, plotchi2=False):\n",
    "    '''\n",
    "    Plot monitoring histograms for the configuration list in confs.\n",
    "    If len(confs)<3 this function is silent.\n",
    "\n",
    "    confs - configuration list\n",
    "    T     - target temperature in Kelvin\n",
    "    show  - call show() fuction at the end (default:True)\n",
    "    '''\n",
    "\n",
    "    if len(confs) < 3:\n",
    "        return\n",
    "\n",
    "    #E0 = Vasp2(restart=base_dir+'/../calc/').get_potential_energy()\n",
    "    #es = [(Vasp2(restart=d).get_potential_energy()-E0)/nat\n",
    "    #          for d in sorted(glob(base_dir+'/../calc/T_600.0K/smpl/0*/'))]\n",
    "    \n",
    "    es = array([_[-1] for _ in confs])\n",
    "\n",
    "    if T is None:\n",
    "        T = 2*es.mean()/3/un.kB\n",
    "    \n",
    "    nat = confs[0][-3].shape[0]\n",
    "    \n",
    "    E_goal = 3*T*un.kB/2\n",
    "    Es = sqrt(3/2)*un.kB*T/sqrt(nat)\n",
    "    e = linspace(E_goal - 3*Es, E_goal + 3*Es, 200)\n",
    "    n = len(es)\n",
    "\n",
    "    plt.hist(es, bins='auto', density=True, label=f'{n} samples', alpha=0.5, rwidth=0.4, zorder=0)\n",
    "    h = histogram(es, bins='auto', density=False)\n",
    "    de = (h[1][-1]-h[1][0])/len(h[0])\n",
    "    if sqrN :\n",
    "        plt.errorbar((h[1][:-1]+h[1][1:])/2, h[0]/h[0].sum()/de,\n",
    "                        yerr=sqrt(h[0])/h[0].sum()/de, ls='', label='$1/\\\\sqrt{N}$')\n",
    "    plt.axvline(E_goal, ls='--', color='C2', label='Target energy')\n",
    "    pdf = stats.norm.pdf(e, E_goal, Es)\n",
    "    plt.fill_between(e,  (pdf-sqrt(pdf)).clip(min=0), pdf+sqrt(pdf), label='$(1,2,3)/\\\\sqrt{N}$', color='C1', alpha=0.1, zorder=9)\n",
    "    plt.fill_between(e,  (pdf-2*sqrt(pdf)).clip(min=0), pdf+2*sqrt(pdf), color='C1', alpha=0.1, zorder=9)\n",
    "    plt.fill_between(e,  (pdf-3*sqrt(pdf)).clip(min=0), pdf+3*sqrt(pdf), color='C1', alpha=0.1, zorder=9)\n",
    "    plt.plot(e, pdf, '--', color='C1', label='Target normal dist.')\n",
    "    fit = stats.norm.fit(es)\n",
    "    plt.plot(e,  stats.norm.pdf(e, *fit), '--', color='C3', label='Fitted normal dist.', zorder=10)\n",
    "    if plotchi2 :\n",
    "        fit = stats.chi2.fit(es, f0=3*nat)\n",
    "        plt.plot(e,  stats.chi2.pdf(e, *fit), '--', color='C4', label='Fitted $\\\\chi^2$ dist.', zorder=10)\n",
    "    plt.xlabel('Potential energy (meV/at)')\n",
    "    plt.ylabel('Probability density')\n",
    "    plt.xlim(E_goal-3*Es,E_goal+3*Es)\n",
    "    plt.legend(loc='upper left', bbox_to_anchor=(0.7,0.5,0.5,0.5))\n",
    "    if show :\n",
    "        plt.show()"
   ]
  },
  {
   "cell_type": "code",
   "execution_count": null,
   "metadata": {},
   "outputs": [
    {
     "data": {
      "image/png": "[encoded data removed]",
      "text/plain": [
       "<Figure size 432x288 with 1 Axes>"
      ]
     },
     "metadata": {
      "needs_background": "light"
     },
     "output_type": "display_data"
    }
   ],
   "source": [
    "plot_stats(load_dfset(base_dir='example/VASP_3C-SiC/1x1x1/phon/', \n",
    "                      dfsetfn='DFSET_T300.0K'),\n",
    "           T=300)"
   ]
  },
  {
   "cell_type": "code",
   "execution_count": null,
   "metadata": {},
   "outputs": [],
   "source": [
    "#export\n",
    "def monitor_stats(T=300, directory='phon', dfset='DFSET', plotchi2=False):\n",
    "\n",
    "    prev_N = get_dfset_len(f'{directory}/{dfset}')-1\n",
    "\n",
    "    if get_dfset_len(f'{directory}/{dfset}') < 3:\n",
    "        print('Waiting for the first samples (>2).', end='')\n",
    "        sys.stdout.flush()\n",
    "        while get_dfset_len(f'{directory}/{dfset}') < 3:\n",
    "           sleep(15)\n",
    "           print('.', end='')\n",
    "           sys.stdout.flush()\n",
    "        print('done.', end='')\n",
    "    print('Calculating the plots.',)\n",
    "    sys.stdout.flush()\n",
    "    clear_output(wait=True)\n",
    "\n",
    "    while True :\n",
    "        N = get_dfset_len(f'{directory}/{dfset}')\n",
    "        if N > prev_N :\n",
    "            plot_stats(T=T, base_dir=directory, dfsetfn=dfset, plotchi2=plotchi2)\n",
    "            show()\n",
    "            clear_output(wait=True)\n",
    "            prev_N = N\n",
    "        else :\n",
    "            sleep(15)"
   ]
  },
  {
   "cell_type": "code",
   "execution_count": null,
   "metadata": {},
   "outputs": [],
   "source": []
  }
 ],
 "metadata": {
  "kernelspec": {
   "display_name": "Python 3",
   "language": "python",
   "name": "python3"
  }
 },
 "nbformat": 4,
 "nbformat_minor": 4
}
