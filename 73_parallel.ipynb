{
 "cells": [
  {
   "cell_type": "code",
   "execution_count": null,
   "id": "cd09ca5f-f092-4660-9f5a-b030612ba98f",
   "metadata": {},
   "outputs": [],
   "source": [
    "#| hide\n",
    "#| default_exp parallel\n",
    "from nbdev import *\n",
    "from fastcore.basics import patch"
   ]
  },
  {
   "cell_type": "markdown",
   "id": "ac3a7b3d-178d-4845-9942-66fd3fef4879",
   "metadata": {},
   "source": [
    "# Parallel calculations\n",
    "\n",
    "> Prototype for parallel execution of calculators."
   ]
  },
  {
   "cell_type": "code",
   "execution_count": null,
   "id": "ffeef0b7-2d3d-449c-95d9-af42b2a48709",
   "metadata": {},
   "outputs": [],
   "source": [
    "from hecss import *\n",
    "import hecss\n",
    "from hecss.util import write_dfset, calc_init_xscale\n",
    "from hecss.optimize import make_sampling"
   ]
  },
  {
   "cell_type": "code",
   "execution_count": null,
   "id": "04d95e4c-3470-49d0-81fe-7af460f6efd7",
   "metadata": {},
   "outputs": [],
   "source": [
    "from glob import glob\n",
    "from tempfile import TemporaryDirectory\n",
    "import os\n",
    "import subprocess\n",
    "from collections import defaultdict\n",
    "from matplotlib import pyplot as plt\n",
    "import numpy as np\n",
    "from ase.calculators.vasp import Vasp\n",
    "from ase import units as un\n",
    "import ase\n",
    "from tqdm.auto import tqdm\n",
    "from scipy import stats\n",
    "from ase.calculators import calculator\n",
    "from ase.calculators.vasp.vasp import check_atoms"
   ]
  },
  {
   "cell_type": "code",
   "execution_count": null,
   "id": "237ae8f7-d97b-4280-bfa4-1c65203ec78c",
   "metadata": {},
   "outputs": [],
   "source": [
    "import asyncio\n",
    "\n",
    "async def run(cmd):\n",
    "    proc = await asyncio.create_subprocess_shell(\n",
    "        cmd,\n",
    "        stdout=asyncio.subprocess.PIPE,\n",
    "        stderr=asyncio.subprocess.PIPE)\n",
    "\n",
    "    stdout, stderr = await proc.communicate()\n",
    "\n",
    "    print(f'[{cmd!r} exited with {proc.returncode}]')\n",
    "    if stdout:\n",
    "        print(f'[stdout]\\n{stdout.decode()}')\n",
    "    if stderr:\n",
    "        print(f'[stderr]\\n{stderr.decode()}')"
   ]
  },
  {
   "cell_type": "code",
   "execution_count": null,
   "id": "864e1e3a-230d-4a92-a283-91858b7542ea",
   "metadata": {},
   "outputs": [],
   "source": [
    "@patch\n",
    "async def _arun(self: Vasp, command=None, out=None, directory=None):\n",
    "    \"\"\"Method to explicitly execute VASP\"\"\"\n",
    "    print(f'Parallel _run in {directory}')\n",
    "    if command is None:\n",
    "        command = self.command\n",
    "    if directory is None:\n",
    "        directory = self.directory\n",
    "    # errorcode = subprocess.call(command,\n",
    "    #                             shell=True,\n",
    "    #                             stdout=out,\n",
    "    #                             cwd=directory)\n",
    "    # return errorcode\n",
    "    proc = await asyncio.create_subprocess_shell(\n",
    "        command,\n",
    "        stdout=asyncio.subprocess.PIPE,\n",
    "        stderr=asyncio.subprocess.PIPE)\n",
    "\n",
    "    stdout, stderr = await proc.communicate()\n",
    "\n",
    "    print(f'[{cmd!r} exited with {proc.returncode}]')\n",
    "    if stdout:\n",
    "        print(f'[stdout]\\n{stdout.decode()}')\n",
    "    if stderr:\n",
    "        print(f'[stderr]\\n{stderr.decode()}')    "
   ]
  },
  {
   "cell_type": "code",
   "execution_count": null,
   "id": "baea4196-80a7-47d9-b31b-99cd41df9628",
   "metadata": {},
   "outputs": [],
   "source": [
    "from ase.calculators import calculator\n",
    "from ase.calculators.vasp.vasp import check_atoms\n",
    "\n",
    "@patch\n",
    "def calculate_par(self: Vasp,\n",
    "                  atoms=None,\n",
    "                  properties=('energy', ),\n",
    "                  system_changes=tuple(calculator.all_changes)):\n",
    "    \"\"\"Do a VASP calculation in the specified directory.\n",
    "\n",
    "    This will generate the necessary VASP input files, and then\n",
    "    execute VASP. After execution, the energy, forces. etc. are read\n",
    "    from the VASP output files.\n",
    "    \"\"\"\n",
    "    print(f\"Parallel calculate in {self.directory}\")\n",
    "\n",
    "    self.clear_results()\n",
    "\n",
    "    if atoms is not None:\n",
    "        self.atoms = atoms.copy()\n",
    "\n",
    "    # Check for zero-length lattice vectors and PBC\n",
    "    # and that we actually have an Atoms object.\n",
    "    check_atoms(self.atoms)\n",
    "\n",
    "    command = self.make_command(self.command)\n",
    "    self.write_input(self.atoms, properties, system_changes)\n",
    "\n",
    "    with self._txt_outstream() as out:\n",
    "        errorcode =  self._run(command=command,\n",
    "                              out=out,\n",
    "                              directory=self.directory)\n",
    "\n",
    "    if errorcode:\n",
    "        raise calculator.CalculationFailed(\n",
    "            '{} in {} returned an error: {:d}'.format(\n",
    "                self.name, self.directory, errorcode))\n",
    "\n",
    "    # Read results from calculation\n",
    "    # self.update_atoms(atoms)\n",
    "    # self.read_results()"
   ]
  },
  {
   "cell_type": "code",
   "execution_count": null,
   "id": "859b8bfa-6cc8-4629-8d45-df91bb78eefb",
   "metadata": {},
   "outputs": [],
   "source": [
    "from time import sleep\n",
    "from collections import deque\n",
    "\n",
    "@patch \n",
    "def estimate_width_scale_par(self: HECSS, n=1, Tmax=600, set_scale=True, pbar=None):\n",
    "    '''\n",
    "    Estimate coefficient between temperature and displacement scale (eta).\n",
    "    Calculate energy increase from the `n` temperatures uniformly \n",
    "    distributed between 0 and `Tmax` and calculate avarage $\\sqrt{E-E0/T}$\n",
    "    which is a width scale for a given temperature:\n",
    "    $$\n",
    "        w = \\\\eta\\\\sqrt{T}\n",
    "    $$\n",
    "    which comes from the assumed approximate relationship:\n",
    "    $$\n",
    "        \\\\frac{E(w(T))-E_0}{T} \\\\approx \\\\mathrm{const} = \\\\eta^2.\n",
    "    $$\n",
    "    \n",
    "    #### Input\n",
    "    * `n`    - number of sampling points\n",
    "    * `Tmax` - max sampled temperature\n",
    "    * `set_scale` - set scale parameter in the class after run\n",
    "    * `pbar` - show progress bar during calculation\n",
    "    \n",
    "    #### Output\n",
    "    * if wm_out :  mean(eta), std(eta), wm\n",
    "    * else : mean(eta), std(eta)\n",
    "    * wm - the nx3 array of: [width, Temperature, (E-E0)/nat]\n",
    "    '''\n",
    "    print('Parallel estimate_width_scale')\n",
    "    if self.Ep0 is None:\n",
    "        self.Ep0 = self.cryst.get_potential_energy()\n",
    "    E0 = self.Ep0\n",
    "    nat = len(self.cryst)\n",
    "    dim = (nat, 3)    \n",
    "    \n",
    "    if self.directory is None :\n",
    "        basedir = f'calc'\n",
    "    else :\n",
    "        basedir = self.directory\n",
    "        \n",
    "    cr = ase.Atoms(self.cryst.get_atomic_numbers(), \n",
    "                   cell=self.cryst.get_cell(),\n",
    "                   scaled_positions=self.cryst.get_scaled_positions(),\n",
    "                   pbc=True, \n",
    "                   calculator= self.calc() if callable(self.calc) \n",
    "                                           else self.calc)\n",
    "\n",
    "    close_pbar = False\n",
    "    \n",
    "    if self.pbar and pbar is None:\n",
    "        pbar = tqdm(total=n)\n",
    "        close_pbar = True\n",
    "    \n",
    "    if pbar:\n",
    "        pbar.reset(n)\n",
    "        pbar.set_postfix_str('eta estimation')\n",
    "        if self._eta_list:\n",
    "            pbar.update(len(self._eta_list))\n",
    "\n",
    "    structs = deque()\n",
    "    while len(structs) < n - len(self._eta_list):\n",
    "        T = stats.uniform.rvs(0, Tmax) # Kelvin\n",
    "        if not T:\n",
    "            continue\n",
    "        w = self.w_scale * np.sqrt(T)\n",
    "        dx = self.Q.rvs(size=dim, scale=w)\n",
    "        cr.set_positions(self.cryst.get_positions()+dx)\n",
    "        try :\n",
    "            cr.calc.set(directory=f'{basedir}/w_est/{len(self._eta_list):03d}')\n",
    "        except AttributeError :\n",
    "            # Calculator is not directory-based\n",
    "            # Ignore the error\n",
    "            pass\n",
    "        clc = cr.calc.__class__()\n",
    "        clc.fromdict(cr.calc.asdict())\n",
    "        clc.set(directory=f'{basedir}/w_est/{len(self._eta_list)+len(structs):03d}')\n",
    "        clc.set(command=cr.calc.command)\n",
    "        structs.append((T, w, dx, clc))\n",
    "        \n",
    "    for T, w, dx, clc in structs:\n",
    "        clc.calculate(clc.atoms)\n",
    "\n",
    "    print('Checking')\n",
    "    done = []\n",
    "    while len(self._eta_list) < n:\n",
    "        sleep(5)\n",
    "        while structs:\n",
    "            T, w, dx, clc = structs.popleft()\n",
    "            try :\n",
    "                clc.read_results()\n",
    "            except (calculator.ReadError, FileNotFoundError):\n",
    "                structs.append((T, w, dx, clc))\n",
    "                continue\n",
    "            print(f'{clc.directory}')\n",
    "            done.append((T, w, dx, clc))\n",
    "            E = clc.get_potential_energy()\n",
    "            i = len(self._eta_list)\n",
    "            self._eta_samples.append((i, i, dx, clc.get_forces(), (E-E0)/nat))\n",
    "            self._eta_list.append([w, T, (E-E0)/nat])\n",
    "\n",
    "            if pbar:\n",
    "                pbar.update()\n",
    "\n",
    "    wm = np.array(self._eta_list).T\n",
    "    y = np.sqrt((3*wm[1]*un.kB)/(2*wm[2]))\n",
    "    m = y.mean()\n",
    "    \n",
    "    xscale = np.ones(dim)\n",
    "    vir = np.array([abs(s[2]*s[3]) for s in self._eta_samples])\n",
    "    vir /= vir.mean(axis=(-1,-2))[:,None,None]\n",
    "\n",
    "    elems = self.cryst.get_chemical_symbols()\n",
    "    for n, el in enumerate(set(elems)):\n",
    "        elmask = np.array(elems)==el\n",
    "        xscale[elmask] = 1/np.sqrt(vir[:, elmask, :].mean())\n",
    "    \n",
    "    if pbar and close_pbar:\n",
    "        pbar.close()\n",
    "    \n",
    "    if set_scale:\n",
    "        self.eta = m\n",
    "        self.xscale_init = xscale\n",
    "        \n",
    "    return m, y.std(), xscale"
   ]
  },
  {
   "cell_type": "code",
   "execution_count": null,
   "id": "2ae067d2-6bea-4901-aae9-5032c0016188",
   "metadata": {},
   "outputs": [],
   "source": [
    "#|vasp\n",
    "# Quick test using conventional unit cell\n",
    "supercell = '2x2x2'\n",
    "supercell = '1x1x1'"
   ]
  },
  {
   "cell_type": "code",
   "execution_count": null,
   "id": "78c622b7-f4c4-44d3-b775-8b6e3a7030c4",
   "metadata": {},
   "outputs": [],
   "source": [
    "#|vasp\n",
    "# Directory in which our project resides\n",
    "base_dir = f'example/VASP_3C-SiC/{supercell}/'\n",
    "calc_dir = TemporaryDirectory(dir='TMP')"
   ]
  },
  {
   "cell_type": "code",
   "execution_count": null,
   "id": "f9a3c6e3-32f0-471c-95e7-ff9e916fe2cc",
   "metadata": {},
   "outputs": [],
   "source": [
    "#| vasp\n",
    "# Read the structure (previously calculated unit(super) cell)\n",
    "# The command argument is specific to the cluster setup\n",
    "calc = Vasp(label='cryst', directory=f'{base_dir}/sc_{supercell}/', restart=True)\n",
    "\n",
    "# This just makes a copy of atoms object\n",
    "# Do not generate supercell here - your atom ordering will be wrong!\n",
    "cryst = calc.atoms.repeat(1)"
   ]
  },
  {
   "cell_type": "code",
   "execution_count": null,
   "id": "aafe00a2-fb94-4fc8-87a1-fb9753d8c10c",
   "metadata": {},
   "outputs": [
    {
     "name": "stdout",
     "output_type": "stream",
     "text": [
      "Stress tensor: 0.017 0.017 0.017 0.000 0.000 0.000 GPa\n"
     ]
    }
   ],
   "source": [
    "#|vasp\n",
    "print('Stress tensor: ', end='')\n",
    "for ss in calc.get_stress()/un.GPa:\n",
    "    print(f'{ss:.3f}', end=' ')\n",
    "print('GPa')\n",
    "Ep0 = calc.get_potential_energy()"
   ]
  },
  {
   "cell_type": "code",
   "execution_count": null,
   "id": "766ee58d-7e70-4bcf-9063-27ff0a2d7408",
   "metadata": {},
   "outputs": [
    {
     "data": {
      "text/plain": [
       "'/home/jochym/Projects/hecss/devel'"
      ]
     },
     "execution_count": null,
     "metadata": {},
     "output_type": "execute_result"
    }
   ],
   "source": [
    "os.getcwd()"
   ]
  },
  {
   "cell_type": "code",
   "execution_count": null,
   "id": "3e8a80f1-3d04-4662-947c-c4946801d582",
   "metadata": {},
   "outputs": [],
   "source": [
    "#|vasp\n",
    "# Setup the calculator - single point energy calculation\n",
    "# The details will change here from case to case\n",
    "# We are using run-vasp from the current directory!\n",
    "calc.set(directory=f'{calc_dir.name}/sc')\n",
    "calc.set(command=f'{os.getcwd()}/run-calc.sh \"vasp_test\"')\n",
    "calc.set(nsw=0)\n",
    "cryst.set_calculator(calc)"
   ]
  },
  {
   "cell_type": "code",
   "execution_count": null,
   "id": "a0497e63-36fc-4ec2-98dd-8396d594cb74",
   "metadata": {},
   "outputs": [],
   "source": [
    "#|vasp\n",
    "# Prepare space for the results.\n",
    "# We use defaultdict to automatically\n",
    "# initialize the items to empty list.\n",
    "samples = defaultdict(lambda : [])\n",
    "\n",
    "# Space for amplitude correction data\n",
    "xsl = []"
   ]
  },
  {
   "cell_type": "code",
   "execution_count": null,
   "id": "eb6c0553-9cb9-4e33-9f83-e2acaf8a5f9c",
   "metadata": {},
   "outputs": [],
   "source": [
    "#|vasp\n",
    "# Build the sampler\n",
    "hecss = HECSS(cryst, calc, \n",
    "              directory=calc_dir.name,\n",
    "              w_search = True,\n",
    "              pbar=True,\n",
    "              )"
   ]
  },
  {
   "cell_type": "code",
   "execution_count": null,
   "id": "3b0b0dec-9fa0-487d-ac6b-a05b1ff424f1",
   "metadata": {},
   "outputs": [],
   "source": [
    "#|vasp\n",
    "hecss.Ep0 = Ep0"
   ]
  },
  {
   "cell_type": "code",
   "execution_count": null,
   "id": "75517d30-c1f8-4b4d-a14d-c2ecb065e264",
   "metadata": {},
   "outputs": [
    {
     "name": "stdout",
     "output_type": "stream",
     "text": [
      "Parallel estimate_width_scale\n"
     ]
    },
    {
     "data": {
      "application/vnd.jupyter.widget-view+json": {
       "model_id": "505fb4f0a315430fbdbcb174d77b601e",
       "version_major": 2,
       "version_minor": 0
      },
      "text/plain": [
       "  0%|          | 0/15 [00:00<?, ?it/s]"
      ]
     },
     "metadata": {},
     "output_type": "display_data"
    },
    {
     "name": "stdout",
     "output_type": "stream",
     "text": [
      "sbatch options: -W\n",
      "Submitted batch job 232259\n",
      "sbatch options: -W\n",
      "Submitted batch job 232260\n",
      "sbatch options: -W\n",
      "Submitted batch job 232261\n",
      "sbatch options: -W\n",
      "Submitted batch job 232262\n",
      "sbatch options: -W\n",
      "Submitted batch job 232263\n",
      "sbatch options: -W\n",
      "Submitted batch job 232264\n",
      "sbatch options: -W\n",
      "Submitted batch job 232265\n",
      "sbatch options: -W\n",
      "Submitted batch job 232266\n",
      "sbatch options: -W\n",
      "Submitted batch job 232267\n",
      "sbatch options: -W\n",
      "Submitted batch job 232268\n",
      "sbatch options: -W\n",
      "Submitted batch job 232269\n",
      "sbatch options: -W\n",
      "Submitted batch job 232270\n",
      "sbatch options: -W\n",
      "Submitted batch job 232271\n",
      "sbatch options: -W\n",
      "Submitted batch job 232272\n",
      "sbatch options: -W\n",
      "Submitted batch job 232273\n",
      "Checking\n",
      "TMP/tmprm0840sw/w_est/000\n",
      "TMP/tmprm0840sw/w_est/001\n",
      "TMP/tmprm0840sw/w_est/002\n",
      "TMP/tmprm0840sw/w_est/003\n",
      "TMP/tmprm0840sw/w_est/004\n",
      "TMP/tmprm0840sw/w_est/005\n",
      "TMP/tmprm0840sw/w_est/006\n",
      "TMP/tmprm0840sw/w_est/007\n",
      "TMP/tmprm0840sw/w_est/008\n",
      "TMP/tmprm0840sw/w_est/009\n",
      "TMP/tmprm0840sw/w_est/010\n",
      "TMP/tmprm0840sw/w_est/011\n",
      "TMP/tmprm0840sw/w_est/012\n",
      "TMP/tmprm0840sw/w_est/013\n",
      "TMP/tmprm0840sw/w_est/014\n"
     ]
    },
    {
     "data": {
      "image/png": "[encoded data removed]",
      "text/plain": [
       "<Figure size 640x480 with 1 Axes>"
      ]
     },
     "metadata": {},
     "output_type": "display_data"
    }
   ],
   "source": [
    "#|vasp\n",
    "N = 15\n",
    "m, s, xscl = hecss.estimate_width_scale_par(N)\n",
    "wm = np.array(hecss._eta_list).T\n",
    "y = np.sqrt((3*wm[1]*un.kB)/(2*wm[2]))\n",
    "plt.plot(wm[1], y, '.');\n",
    "x = np.linspace(0, 1.05*wm[1].max(), 2)\n",
    "fit = np.polyfit(wm[1], y, 1)\n",
    "plt.plot(x, np.polyval(fit, x), ':', label=f'{fit[1]:.4g} {fit[0]:+.4g} T')\n",
    "plt.axhline(m, ls='--', label=f'{m:.4g}±{s:.4g}')\n",
    "plt.axhspan(m-s, m+s, alpha=0.3)\n",
    "plt.ylim(m-4*s, m+4*s)\n",
    "plt.xlabel('Target temperature (K)')\n",
    "plt.ylabel('width scale ($\\\\AA/\\\\sqrt{K}$)')\n",
    "plt.legend();"
   ]
  },
  {
   "cell_type": "code",
   "execution_count": null,
   "id": "676337e9-e30f-420a-be2c-aaa80c9398e4",
   "metadata": {},
   "outputs": [
    {
     "ename": "AssertionError",
     "evalue": "",
     "output_type": "error",
     "traceback": [
      "\u001b[0;31m---------------------------------------------------------------------------\u001b[0m",
      "\u001b[0;31mAssertionError\u001b[0m                            Traceback (most recent call last)",
      "Cell \u001b[0;32mIn [19], line 3\u001b[0m\n\u001b[1;32m      1\u001b[0m \u001b[38;5;66;03m#|hide\u001b[39;00m\n\u001b[1;32m      2\u001b[0m \u001b[38;5;66;03m#|vasp\u001b[39;00m\n\u001b[0;32m----> 3\u001b[0m \u001b[38;5;28;01massert\u001b[39;00m \u001b[38;5;28;01mFalse\u001b[39;00m\n\u001b[1;32m      4\u001b[0m calc_dir\u001b[38;5;241m.\u001b[39mcleanup()\n",
      "\u001b[0;31mAssertionError\u001b[0m: "
     ]
    }
   ],
   "source": [
    "#|hide\n",
    "#|vasp\n",
    "assert False\n",
    "calc_dir.cleanup()"
   ]
  },
  {
   "cell_type": "code",
   "execution_count": null,
   "id": "e10ce345-a90d-4537-a4ee-68291612382f",
   "metadata": {},
   "outputs": [],
   "source": [
    "#|vasp\n",
    "\n",
    "await asyncio.gather(*[run(f'cd {d} && ../../../run-calc.sh') \n",
    "                      for d in sorted(glob('TMP/w_est/???'))])"
   ]
  },
  {
   "cell_type": "code",
   "execution_count": null,
   "id": "18c7d40f-c1f5-47ea-9a84-8b1c8381b96f",
   "metadata": {},
   "outputs": [],
   "source": [
    "#|vasp\n",
    "\n",
    "await asyncio.gather(run(f'cd TMP/w_est/000/ && ../../../run-calc.sh'))"
   ]
  },
  {
   "cell_type": "code",
   "execution_count": null,
   "id": "0c14e86a-ff5b-466c-b06b-f0665590ce53",
   "metadata": {},
   "outputs": [],
   "source": [
    "#|vasp\n",
    "\n",
    "from ase.calculators.calculator import Calculator"
   ]
  },
  {
   "cell_type": "code",
   "execution_count": null,
   "id": "f8899fff-d125-406d-a31e-54df7876538f",
   "metadata": {},
   "outputs": [],
   "source": [
    "#|vasp\n",
    "\n",
    "cc = Calculator()\n",
    "\n",
    "cc.fromdict()\n",
    "\n",
    "cc = calc.__class__()\n",
    "\n",
    "cc.fromdict(calc.todict())\n",
    "\n",
    "cc.atoms\n",
    "\n",
    "calc.atoms\n",
    "\n",
    "calc.todict()\n",
    "\n",
    "calc.todict()\n",
    "\n",
    "calc.asdict()\n",
    "\n",
    "cc = calc.__class__()\n",
    "cc.fromdict(calc.asdict())\n",
    "cc.asdict()\n",
    "\n",
    "cc.atoms"
   ]
  },
  {
   "cell_type": "code",
   "execution_count": null,
   "id": "186aa162-b5e8-44e6-a195-fc24fc34021a",
   "metadata": {},
   "outputs": [],
   "source": []
  }
 ],
 "metadata": {
  "kernelspec": {
   "display_name": "python3",
   "language": "python",
   "name": "python3"
  }
 },
 "nbformat": 4,
 "nbformat_minor": 5
}
