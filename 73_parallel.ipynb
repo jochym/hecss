{
 "cells": [
  {
   "cell_type": "code",
   "execution_count": null,
   "id": "cd09ca5f-f092-4660-9f5a-b030612ba98f",
   "metadata": {},
   "outputs": [],
   "source": [
    "#| hide\n",
    "#| default_exp parallel\n",
    "from nbdev import *\n",
    "from fastcore.basics import patch"
   ]
  },
  {
   "cell_type": "markdown",
   "id": "ac3a7b3d-178d-4845-9942-66fd3fef4879",
   "metadata": {},
   "source": [
    "# Parallel calculations\n",
    "\n",
    "> Prototype for parallel execution of calculators."
   ]
  },
  {
   "cell_type": "code",
   "execution_count": null,
   "id": "ffeef0b7-2d3d-449c-95d9-af42b2a48709",
   "metadata": {},
   "outputs": [],
   "source": [
    "from hecss import *\n",
    "import hecss\n",
    "from hecss.util import write_dfset, calc_init_xscale\n",
    "from hecss.optimize import make_sampling"
   ]
  },
  {
   "cell_type": "code",
   "execution_count": null,
   "id": "04d95e4c-3470-49d0-81fe-7af460f6efd7",
   "metadata": {},
   "outputs": [],
   "source": [
    "from glob import glob\n",
    "from tempfile import TemporaryDirectory\n",
    "import os\n",
    "import subprocess\n",
    "from collections import defaultdict\n",
    "from matplotlib import pyplot as plt\n",
    "import numpy as np\n",
    "from ase.calculators.vasp import Vasp\n",
    "from ase import units as un\n",
    "import ase\n",
    "from tqdm.auto import tqdm\n",
    "from scipy import stats\n",
    "from ase.calculators import calculator\n",
    "from ase.calculators.vasp.vasp import check_atoms\n",
    "import asyncio"
   ]
  },
  {
   "cell_type": "code",
   "execution_count": null,
   "id": "864e1e3a-230d-4a92-a283-91858b7542ea",
   "metadata": {},
   "outputs": [],
   "source": [
    "#|exporti\n",
    "\n",
    "@patch\n",
    "async def _arun(self: Vasp, command=None, out=None, directory=None):\n",
    "    \"\"\"\n",
    "    Method to explicitly execute VASP in async mode\n",
    "    This is an asyncio version of the function.\n",
    "    \"\"\"\n",
    "    # DEBUG\n",
    "    # print(f'Async _run {command} in {directory}')\n",
    "    if command is None:\n",
    "        command = self.command\n",
    "    if directory is None:\n",
    "        directory = self.directory\n",
    "\n",
    "    proc = await asyncio.create_subprocess_shell(\n",
    "            command,\n",
    "            stdout=asyncio.subprocess.PIPE,\n",
    "            stderr=asyncio.subprocess.PIPE,\n",
    "            cwd=directory\n",
    "            )\n",
    "\n",
    "    stdout, stderr = await proc.communicate()\n",
    "\n",
    "    # DEBUG\n",
    "    # print(f'[{command!r} exited with {proc.returncode}]')\n",
    "    # if stdout:\n",
    "    #     print(f'[stdout]\\n{stdout.decode()}')\n",
    "    # if stderr:\n",
    "    #     print(f'[stderr]\\n{stderr.decode()}')\n",
    "    \n",
    "    return proc.returncode"
   ]
  },
  {
   "cell_type": "code",
   "execution_count": null,
   "id": "26f82c1b-2174-4447-ab65-d4211b427204",
   "metadata": {},
   "outputs": [],
   "source": [
    "#|exporti\n",
    "\n",
    "@patch\n",
    "async def calculate_aio(self: Vasp,\n",
    "                        atoms=None,\n",
    "                        properties=('energy', ),\n",
    "                        system_changes=tuple(calculator.all_changes)\n",
    "                       ):\n",
    "    \"\"\"\n",
    "    Do a VASP calculation in the specified directory.\n",
    "    \n",
    "    This will generate the necessary VASP input files, and then\n",
    "    execute VASP. After execution, the energy, forces. etc. are read\n",
    "    from the VASP output files.\n",
    "\n",
    "    This is an asyncio version of the function.\n",
    "    \"\"\"\n",
    "    # Check for zero-length lattice vectors and PBC\n",
    "    # and that we actually have an Atoms object.\n",
    "    check_atoms(atoms)\n",
    "    \n",
    "    self.clear_results()\n",
    "    \n",
    "    if atoms is not None:\n",
    "        self.atoms = atoms.copy()\n",
    "    \n",
    "    command = self.make_command(self.command)\n",
    "    self.write_input(self.atoms, properties, system_changes)\n",
    "    \n",
    "    with self._txt_outstream() as out:\n",
    "        errorcode = await self._arun(command=command,\n",
    "                                     out=out,\n",
    "                                     directory=self.directory)\n",
    "    \n",
    "    if errorcode:\n",
    "        raise calculator.CalculationFailed(\n",
    "            '{} in {} returned an error: {:d}'.format(\n",
    "                self.name, self.directory, errorcode))\n",
    "    \n",
    "    # Read results from calculation\n",
    "    self.update_atoms(atoms)\n",
    "    self.read_results()\n",
    "    return errorcode"
   ]
  },
  {
   "cell_type": "code",
   "execution_count": null,
   "id": "c5329ace-50ed-4334-aa02-6a35e27f308e",
   "metadata": {},
   "outputs": [],
   "source": [
    "#|exporti\n",
    "\n",
    "@patch \n",
    "async def estimate_width_scale_aio(self: HECSS, n=1, Tmax=600, set_scale=True, pbar=None, nwork=5):\n",
    "    '''\n",
    "    Estimate coefficient between temperature and displacement scale (eta).\n",
    "    Calculate energy increase from the `n` temperatures uniformly \n",
    "    distributed between 0 and `Tmax` and calculate avarage $\\sqrt{E-E0/T}$\n",
    "    which is a width scale for a given temperature:\n",
    "    $$\n",
    "        w = \\\\eta\\\\sqrt{T}\n",
    "    $$\n",
    "    which comes from the assumed approximate relationship:\n",
    "    $$\n",
    "        \\\\frac{E(w(T))-E_0}{T} \\\\approx \\\\mathrm{const} = \\\\eta^2.\n",
    "    $$\n",
    "    \n",
    "    #### Input\n",
    "    * `n`    - number of sampling points\n",
    "    * `Tmax` - max sampled temperature\n",
    "    * `set_scale` - set scale parameter in the class after run\n",
    "    * `pbar` - show progress bar during calculation\n",
    "    \n",
    "    #### Output\n",
    "    * if wm_out :  mean(eta), std(eta), wm\n",
    "    * else : mean(eta), std(eta)\n",
    "    * wm - the nx3 array of: [width, Temperature, (E-E0)/nat]\n",
    "    '''\n",
    "    results = []\n",
    "    \n",
    "    async def worker(q, i):\n",
    "        while not q.empty():\n",
    "            (T, w, dx, clc) = await q.get()\n",
    "            try:\n",
    "                # print(f'Worker {i} run task')\n",
    "                returned = await clc.calculate_aio(clc.atoms)\n",
    "                # print(f'Worker {i} done task')\n",
    "                results.append((T, w, dx, clc))\n",
    "                if pbar:\n",
    "                    pbar.update()\n",
    "            except Exception as e:\n",
    "                print(f\"Error executing task: {e}\")\n",
    "\n",
    "    \n",
    "    # print('Parallel estimate_width_scale')\n",
    "    if self.Ep0 is None:\n",
    "        self.Ep0 = self.cryst.get_potential_energy()\n",
    "    E0 = self.Ep0\n",
    "    nat = len(self.cryst)\n",
    "    dim = (nat, 3)    \n",
    "    \n",
    "    if self.directory is None :\n",
    "        basedir = f'calc'\n",
    "    else :\n",
    "        basedir = self.directory\n",
    "        \n",
    "    close_pbar = False\n",
    "    \n",
    "    if self.pbar and pbar is None:\n",
    "        pbar = tqdm(total=n)\n",
    "        close_pbar = True\n",
    "    \n",
    "    if pbar:\n",
    "        pbar.reset(n)\n",
    "        pbar.set_postfix_str('eta estimation')\n",
    "        if self._eta_list:\n",
    "            pbar.update(len(self._eta_list))\n",
    "\n",
    "    # try:\n",
    "    #     [task_queue.put_nowait(asyncio.create_task(fetch_data(root_path=row['1']))) \n",
    "    #      for index, row in run_column.iterrows()]\n",
    "    #     await asyncio.gather(*[worker(task_queue) for _ in range(5)]) \n",
    "    # except Exception as e:\n",
    "    #     print(f\"\\nUnable to get data: {e}\\n\")\n",
    " \n",
    "    \n",
    "    if pbar:\n",
    "       pbar.set_description('Create') \n",
    "\n",
    "    # Build the queue\n",
    "    structs = asyncio.Queue()    \n",
    "    while structs.qsize() < n - len(self._eta_list):\n",
    "        cr = ase.Atoms(self.cryst.get_atomic_numbers(), \n",
    "                       cell=self.cryst.get_cell(),\n",
    "                       scaled_positions=self.cryst.get_scaled_positions(),\n",
    "                       pbc=True, \n",
    "                       # calculator= self.calc() if callable(self.calc) \n",
    "                                               # else self.calc,\n",
    "                      )\n",
    "        \n",
    "        T = stats.uniform.rvs(0, Tmax) # Kelvin\n",
    "        if not T:\n",
    "            continue\n",
    "        w = self.w_scale * np.sqrt(T)\n",
    "        dx = self.Q.rvs(size=dim, scale=w)\n",
    "\n",
    "        clc = self.calc.__class__()\n",
    "        clc.fromdict(self.calc.asdict())\n",
    "        clc.atoms.set_positions(self.cryst.get_positions()+dx)\n",
    "        # clc.set(directory=f'{basedir}/w_est/{len(self._eta_list)+len(structs):03d}')\n",
    "        try :\n",
    "            clc.set(directory=f'{basedir}/w_est/{len(self._eta_list)+structs.qsize():03d}')\n",
    "        except AttributeError :\n",
    "            # Calculator is not directory-based\n",
    "            # Ignore the error\n",
    "            pass\n",
    "        clc.set(command=self.calc.command)\n",
    "        # structs.append((T, w, dx, clc))\n",
    "        # structs.put_nowait(asyncio.create_task(clc.calculate_aio(clc.atoms,vars=(T, w, dx, clc))))\n",
    "        structs.put_nowait((T, w, dx, clc))\n",
    "        if pbar:\n",
    "            pbar.update()\n",
    "            \n",
    "    if pbar:\n",
    "        pbar.reset(structs.qsize())\n",
    "        pbar.set_description('Collect') \n",
    "\n",
    "    if nwork is None or nwork < 1:\n",
    "        nwork = structs.qsize()\n",
    "    await asyncio.gather(*[worker(structs, _) for _ in range(nwork)]) \n",
    "\n",
    "    while results:\n",
    "        T, w, dx, clc = results.pop()\n",
    "        E = clc.get_potential_energy()\n",
    "        i = len(self._eta_list)\n",
    "        self._eta_samples.append((i, i, dx, clc.get_forces(), (E-E0)/nat))\n",
    "        self._eta_list.append([w, T, (E-E0)/nat])\n",
    "\n",
    "    wm = np.array(self._eta_list).T\n",
    "    y = np.sqrt((3*wm[1]*un.kB)/(2*wm[2]))\n",
    "    m = y.mean()\n",
    "    \n",
    "    xscale = np.ones(dim)\n",
    "    vir = np.array([abs(s[2]*s[3]) for s in self._eta_samples])\n",
    "    vir /= vir.mean(axis=(-1,-2))[:,None,None]\n",
    "\n",
    "    elems = self.cryst.get_chemical_symbols()\n",
    "    for n, el in enumerate(set(elems)):\n",
    "        elmask = np.array(elems)==el\n",
    "        xscale[elmask] = 1/np.sqrt(vir[:, elmask, :].mean())\n",
    "    \n",
    "    if pbar and close_pbar:\n",
    "        pbar.close()\n",
    "    \n",
    "    if set_scale:\n",
    "        self.eta = m\n",
    "        self.xscale_init = xscale\n",
    "        \n",
    "    return m, y.std(), xscale"
   ]
  },
  {
   "cell_type": "code",
   "execution_count": null,
   "id": "2ae067d2-6bea-4901-aae9-5032c0016188",
   "metadata": {},
   "outputs": [],
   "source": [
    "#|vaspx\n",
    "# Quick test using conventional unit cell\n",
    "supercell = '1x1x1'\n",
    "# supercell = '2x2x2'"
   ]
  },
  {
   "cell_type": "code",
   "execution_count": null,
   "id": "78c622b7-f4c4-44d3-b775-8b6e3a7030c4",
   "metadata": {},
   "outputs": [],
   "source": [
    "#|vaspx\n",
    "# Directory in which our project resides\n",
    "base_dir = f'example/VASP_3C-SiC_calculated/{supercell}/'\n",
    "calc_dir = TemporaryDirectory(dir='TMP')"
   ]
  },
  {
   "cell_type": "code",
   "execution_count": null,
   "id": "f9a3c6e3-32f0-471c-95e7-ff9e916fe2cc",
   "metadata": {},
   "outputs": [],
   "source": [
    "#| vaspx\n",
    "# Read the structure (previously calculated unit(super) cell)\n",
    "# The command argument is specific to the cluster setup\n",
    "calc = Vasp(label='cryst', directory=f'{base_dir}/sc/', restart=True)\n",
    "\n",
    "# This just makes a copy of atoms object\n",
    "# Do not generate supercell here - your atom ordering will be wrong!\n",
    "cryst = calc.atoms.repeat(1)"
   ]
  },
  {
   "cell_type": "code",
   "execution_count": null,
   "id": "aafe00a2-fb94-4fc8-87a1-fb9753d8c10c",
   "metadata": {},
   "outputs": [
    {
     "name": "stdout",
     "output_type": "stream",
     "text": [
      "Stress tensor: 0.017 0.017 0.017 0.000 0.000 0.000 GPa\n"
     ]
    }
   ],
   "source": [
    "#|vaspx\n",
    "print('Stress tensor: ', end='')\n",
    "for ss in calc.get_stress()/un.GPa:\n",
    "    print(f'{ss:.3f}', end=' ')\n",
    "print('GPa')\n",
    "Ep0 = calc.get_potential_energy()"
   ]
  },
  {
   "cell_type": "code",
   "execution_count": null,
   "id": "3e8a80f1-3d04-4662-947c-c4946801d582",
   "metadata": {},
   "outputs": [],
   "source": [
    "#|vaspx\n",
    "# Setup the calculator - single point energy calculation\n",
    "# The details will change here from case to case\n",
    "# We are using run-vasp from the current directory!\n",
    "calc.set(directory=f'{calc_dir.name}/sc')\n",
    "calc.set(command=f'{os.getcwd()}/run-calc.sh \"async\"')\n",
    "calc.set(nsw=0)\n",
    "cryst.set_calculator(calc)"
   ]
  },
  {
   "cell_type": "code",
   "execution_count": null,
   "id": "a0497e63-36fc-4ec2-98dd-8396d594cb74",
   "metadata": {},
   "outputs": [],
   "source": [
    "#|vaspx\n",
    "# Prepare space for the results.\n",
    "# We use defaultdict to automatically\n",
    "# initialize the items to empty list.\n",
    "samples = defaultdict(lambda : [])\n",
    "\n",
    "# Space for amplitude correction data\n",
    "xsl = []"
   ]
  },
  {
   "cell_type": "code",
   "execution_count": null,
   "id": "eb6c0553-9cb9-4e33-9f83-e2acaf8a5f9c",
   "metadata": {},
   "outputs": [],
   "source": [
    "#|vaspx\n",
    "# Build the sampler\n",
    "hecss = HECSS(cryst, calc, \n",
    "              directory=calc_dir.name,\n",
    "              w_search = True,\n",
    "              pbar=True,\n",
    "              )"
   ]
  },
  {
   "cell_type": "code",
   "execution_count": null,
   "id": "3b0b0dec-9fa0-487d-ac6b-a05b1ff424f1",
   "metadata": {},
   "outputs": [],
   "source": [
    "#|vaspx\n",
    "hecss.Ep0 = Ep0"
   ]
  },
  {
   "cell_type": "code",
   "execution_count": null,
   "id": "8f7c8c7b-3c92-4f17-a339-e3db0f6f3d97",
   "metadata": {},
   "outputs": [
    {
     "data": {
      "application/vnd.jupyter.widget-view+json": {
       "model_id": "78917d446d1141d5a83863698cc0adf0",
       "version_major": 2,
       "version_minor": 0
      },
      "text/plain": [
       "  0%|          | 0/20 [00:00<?, ?it/s]"
      ]
     },
     "metadata": {},
     "output_type": "display_data"
    }
   ],
   "source": [
    "#|vaspx\n",
    "N = 20\n",
    "m, s, xscl = await hecss.estimate_width_scale_aio(N, Tmax=2000, nwork=3)"
   ]
  },
  {
   "cell_type": "code",
   "execution_count": null,
   "id": "499381ab-1358-48d9-a584-33a25b860f4e",
   "metadata": {},
   "outputs": [
    {
     "data": {
      "application/vnd.jupyter.widget-view+json": {
       "model_id": "ee1ee64af5d046e988e91b8f9c7cfd44",
       "version_major": 2,
       "version_minor": 0
      },
      "text/plain": [
       "  0%|          | 0/20 [00:00<?, ?it/s]"
      ]
     },
     "metadata": {},
     "output_type": "display_data"
    }
   ],
   "source": [
    "#|vaspx\n",
    "m, s, xscl = await hecss.estimate_width_scale_aio(N, Tmax=2000, nwork=3)"
   ]
  },
  {
   "cell_type": "code",
   "execution_count": null,
   "id": "6fc2e8fd",
   "metadata": {},
   "outputs": [
    {
     "data": {
      "application/vnd.jupyter.widget-view+json": {
       "model_id": "e6ed6660de1942c0b05af645a0620aae",
       "version_major": 2,
       "version_minor": 0
      },
      "text/plain": [
       "  0%|          | 0/10 [00:00<?, ?it/s]"
      ]
     },
     "metadata": {},
     "output_type": "display_data"
    }
   ],
   "source": [
    "#|vaspx\n",
    "m, s, xscl = await hecss.estimate_width_scale_aio(N//2, Tmax=2000, nwork=3)"
   ]
  },
  {
   "cell_type": "code",
   "execution_count": null,
   "id": "61c196bc-2a3d-47ac-ba25-912f07c5dae2",
   "metadata": {},
   "outputs": [
    {
     "data": {
      "application/vnd.jupyter.widget-view+json": {
       "model_id": "fb8fa21250bb4cebae3ea4dc74cf94cf",
       "version_major": 2,
       "version_minor": 0
      },
      "text/plain": [
       "  0%|          | 0/40 [00:00<?, ?it/s]"
      ]
     },
     "metadata": {},
     "output_type": "display_data"
    }
   ],
   "source": [
    "#|vaspx\n",
    "m, s, xscl = await hecss.estimate_width_scale_aio(2*N, Tmax=2000, nwork=7)"
   ]
  },
  {
   "cell_type": "code",
   "execution_count": null,
   "id": "d04c8926-3238-4c2d-b5e2-326b82ce8c7d",
   "metadata": {},
   "outputs": [
    {
     "data": {
      "application/vnd.jupyter.widget-view+json": {
       "model_id": "544ad5f9655d4c3a82e2ed893b44fd60",
       "version_major": 2,
       "version_minor": 0
      },
      "text/plain": [
       "  0%|          | 0/80 [00:00<?, ?it/s]"
      ]
     },
     "metadata": {},
     "output_type": "display_data"
    }
   ],
   "source": [
    "#|vaspx\n",
    "m, s, xscl = await hecss.estimate_width_scale_aio(4*N, Tmax=2000, nwork=0)"
   ]
  },
  {
   "cell_type": "code",
   "execution_count": null,
   "id": "c4faf85b-adc8-40cc-a1a6-208bdd363151",
   "metadata": {},
   "outputs": [
    {
     "data": {
      "image/png": "[encoded data removed]",
      "text/plain": [
       "<Figure size 640x480 with 1 Axes>"
      ]
     },
     "metadata": {},
     "output_type": "display_data"
    }
   ],
   "source": [
    "#|vaspx\n",
    "# plt.semilogy()\n",
    "wm = np.array(hecss._eta_list).T\n",
    "y = np.sqrt((3*wm[1]*un.kB)/(2*wm[2]))\n",
    "plt.plot(wm[1], y, '.');\n",
    "x = np.linspace(0, 1.05*wm[1].max(), 2)\n",
    "fit = np.polyfit(wm[1], y, 1)\n",
    "plt.plot(x, np.polyval(fit, x), ':', label=f'{fit[1]:.4g} {fit[0]:+.4g} T')\n",
    "plt.axhline(m, ls='--', label=f'{m:.4g}±{s:.4g}')\n",
    "plt.axhspan(m-s, m+s, alpha=0.3)\n",
    "plt.ylim(m-4*s, m+4*s)\n",
    "# plt.ylim(0, m+4*s)\n",
    "plt.xlabel('Target temperature (K)')\n",
    "plt.ylabel('width scale ($\\\\AA/\\\\sqrt{K}$)')\n",
    "plt.grid()\n",
    "plt.legend();"
   ]
  },
  {
   "cell_type": "code",
   "execution_count": null,
   "id": "e08d07ea-17e1-44df-82e0-8b714bb7c270",
   "metadata": {},
   "outputs": [
    {
     "data": {
      "image/png": "[encoded data removed]",
      "text/plain": [
       "<Figure size 640x480 with 1 Axes>"
      ]
     },
     "metadata": {},
     "output_type": "display_data"
    }
   ],
   "source": [
    "#|vaspx\n",
    "wm = np.array(hecss._eta_list).T\n",
    "y = np.sqrt((3*wm[1]*un.kB)/(2*wm[2]))\n",
    "plt.plot(y, '.')\n",
    "rm = np.array([y[:l].mean() for l in range(1, len(y))])\n",
    "rv = np.array([y[:l].std() for l in range(1, len(y))])\n",
    "plt.plot(rm, '-', label='$ (x_0 + ... + x_{n-1})/n$')\n",
    "plt.plot(rm + rv, ':', lw=1, color='C1')\n",
    "plt.plot(rm - rv, ':', lw=1, color='C1')\n",
    "plt.axhline(m, ls='--', label=f'{m:.4g}±{s:.4g}')\n",
    "plt.axhspan(m-s, m+s, alpha=0.3)\n",
    "plt.xlabel('Sample number ($n$)')\n",
    "plt.ylabel('width scale ($\\\\AA/\\\\sqrt{K}$)')\n",
    "plt.grid()\n",
    "plt.legend();\n"
   ]
  },
  {
   "cell_type": "code",
   "execution_count": null,
   "id": "b805d098-d333-4c7a-b4b7-44815e125e8b",
   "metadata": {},
   "outputs": [],
   "source": [
    "#|hide\n",
    "#|vaspx\n",
    "#|eval: false\n",
    "CLEANUP=False"
   ]
  },
  {
   "cell_type": "code",
   "execution_count": null,
   "id": "103062c2-3e58-4852-9ac1-99fee7e71873",
   "metadata": {},
   "outputs": [],
   "source": [
    "#|hide\n",
    "#|vaspx\n",
    "try :\n",
    "    CLEANUP\n",
    "except NameError:\n",
    "    calc_dir.cleanup()"
   ]
  },
  {
   "cell_type": "code",
   "execution_count": null,
   "id": "baea4196-80a7-47d9-b31b-99cd41df9628",
   "metadata": {},
   "outputs": [],
   "source": [
    "#|hide\n",
    "from ase.calculators import calculator\n",
    "from ase.calculators.vasp.vasp import check_atoms\n",
    "\n",
    "@patch\n",
    "def calculate_par(self: Vasp,\n",
    "                  atoms=None,\n",
    "                  properties=('energy', ),\n",
    "                  system_changes=tuple(calculator.all_changes)):\n",
    "    \"\"\"Do a VASP calculation in the specified directory.\n",
    "\n",
    "    This will generate the necessary VASP input files, and then\n",
    "    execute VASP. After execution, the energy, forces. etc. are read\n",
    "    from the VASP output files.\n",
    "    \"\"\"\n",
    "    # print(f\"Parallel calculate in {self.directory}\")\n",
    "\n",
    "    self.clear_results()\n",
    "\n",
    "    if atoms is not None:\n",
    "        self.atoms = atoms.copy()\n",
    "\n",
    "    # Check for zero-length lattice vectors and PBC\n",
    "    # and that we actually have an Atoms object.\n",
    "    check_atoms(self.atoms)\n",
    "\n",
    "    command = self.make_command(self.command)\n",
    "    self.write_input(self.atoms, properties, system_changes)\n",
    "\n",
    "    with self._txt_outstream() as out:\n",
    "        errorcode =  self._run(command=command,\n",
    "                              out=out,\n",
    "                              directory=self.directory)\n",
    "\n",
    "    if errorcode:\n",
    "        raise calculator.CalculationFailed(\n",
    "            '{} in {} returned an error: {:d}'.format(\n",
    "                self.name, self.directory, errorcode))\n",
    "\n",
    "    # Read results from calculation\n",
    "    # self.update_atoms(atoms)\n",
    "    # self.read_results()"
   ]
  },
  {
   "cell_type": "code",
   "execution_count": null,
   "id": "859b8bfa-6cc8-4629-8d45-df91bb78eefb",
   "metadata": {},
   "outputs": [],
   "source": [
    "#|hide\n",
    "from time import sleep\n",
    "from collections import deque\n",
    "\n",
    "@patch \n",
    "def estimate_width_scale_par(self: HECSS, n=1, Tmax=600, set_scale=True, pbar=None):\n",
    "    '''\n",
    "    Estimate coefficient between temperature and displacement scale (eta).\n",
    "    Calculate energy increase from the `n` temperatures uniformly \n",
    "    distributed between 0 and `Tmax` and calculate avarage $\\sqrt{E-E0/T}$\n",
    "    which is a width scale for a given temperature:\n",
    "    $$\n",
    "        w = \\\\eta\\\\sqrt{T}\n",
    "    $$\n",
    "    which comes from the assumed approximate relationship:\n",
    "    $$\n",
    "        \\\\frac{E(w(T))-E_0}{T} \\\\approx \\\\mathrm{const} = \\\\eta^2.\n",
    "    $$\n",
    "    \n",
    "    #### Input\n",
    "    * `n`    - number of sampling points\n",
    "    * `Tmax` - max sampled temperature\n",
    "    * `set_scale` - set scale parameter in the class after run\n",
    "    * `pbar` - show progress bar during calculation\n",
    "    \n",
    "    #### Output\n",
    "    * if wm_out :  mean(eta), std(eta), wm\n",
    "    * else : mean(eta), std(eta)\n",
    "    * wm - the nx3 array of: [width, Temperature, (E-E0)/nat]\n",
    "    '''\n",
    "    # print('Parallel estimate_width_scale')\n",
    "    if self.Ep0 is None:\n",
    "        self.Ep0 = self.cryst.get_potential_energy()\n",
    "    E0 = self.Ep0\n",
    "    nat = len(self.cryst)\n",
    "    dim = (nat, 3)    \n",
    "    \n",
    "    if self.directory is None :\n",
    "        basedir = f'calc'\n",
    "    else :\n",
    "        basedir = self.directory\n",
    "        \n",
    "    close_pbar = False\n",
    "    \n",
    "    if self.pbar and pbar is None:\n",
    "        pbar = tqdm(total=n)\n",
    "        close_pbar = True\n",
    "    \n",
    "    if pbar:\n",
    "        pbar.reset(n)\n",
    "        pbar.set_postfix_str('eta estimation')\n",
    "        if self._eta_list:\n",
    "            pbar.update(len(self._eta_list))\n",
    "\n",
    "    # Build the queue\n",
    "    structs = deque()\n",
    "    if pbar:\n",
    "       pbar.set_description('Create') \n",
    "    while len(structs) < n - len(self._eta_list):\n",
    "        cr = ase.Atoms(self.cryst.get_atomic_numbers(), \n",
    "                       cell=self.cryst.get_cell(),\n",
    "                       scaled_positions=self.cryst.get_scaled_positions(),\n",
    "                       pbc=True, \n",
    "                       # calculator= self.calc() if callable(self.calc) \n",
    "                                               # else self.calc,\n",
    "                      )\n",
    "        \n",
    "        T = stats.uniform.rvs(0, Tmax) # Kelvin\n",
    "        if not T:\n",
    "            continue\n",
    "        w = self.w_scale * np.sqrt(T)\n",
    "        dx = self.Q.rvs(size=dim, scale=w)\n",
    "\n",
    "        clc = self.calc.__class__()\n",
    "        clc.fromdict(self.calc.asdict())\n",
    "        clc.atoms.set_positions(self.cryst.get_positions()+dx)\n",
    "        # clc.set(directory=f'{basedir}/w_est/{len(self._eta_list)+len(structs):03d}')\n",
    "        try :\n",
    "            clc.set(directory=f'{basedir}/w_est/{len(self._eta_list)+len(structs):03d}')\n",
    "        except AttributeError :\n",
    "            # Calculator is not directory-based\n",
    "            # Ignore the error\n",
    "            pass\n",
    "        clc.set(command=self.calc.command)\n",
    "        structs.append((T, w, dx, clc))\n",
    "        if pbar:\n",
    "            pbar.update()\n",
    "            \n",
    "    if pbar:\n",
    "        pbar.reset(n)\n",
    "        pbar.set_description('Submit') \n",
    "    # Submit the calculations\n",
    "    for T, w, dx, clc in structs:\n",
    "        clc.calculate_par(clc.atoms)\n",
    "        if pbar:\n",
    "            pbar.update()\n",
    "\n",
    "    if pbar:\n",
    "        pbar.reset(n)\n",
    "        pbar.set_description('Collect') \n",
    "    done = []\n",
    "    while len(self._eta_list) < n:\n",
    "        sleep(5)\n",
    "        while structs:\n",
    "            T, w, dx, clc = structs.popleft()\n",
    "            try :\n",
    "                clc.read_results()\n",
    "            except (calculator.ReadError, \n",
    "                    FileNotFoundError, \n",
    "                    UnicodeDecodeError,\n",
    "                    AttributeError\n",
    "                   ):\n",
    "                structs.append((T, w, dx, clc))\n",
    "                continue\n",
    "            # print(f'Done: {clc.directory}')\n",
    "            done.append((T, w, dx, clc))\n",
    "            E = clc.get_potential_energy()\n",
    "            i = len(self._eta_list)\n",
    "            self._eta_samples.append((i, i, dx, clc.get_forces(), (E-E0)/nat))\n",
    "            self._eta_list.append([w, T, (E-E0)/nat])\n",
    "\n",
    "            if pbar:\n",
    "                pbar.update()\n",
    "\n",
    "    wm = np.array(self._eta_list).T\n",
    "    y = np.sqrt((3*wm[1]*un.kB)/(2*wm[2]))\n",
    "    m = y.mean()\n",
    "    \n",
    "    xscale = np.ones(dim)\n",
    "    vir = np.array([abs(s[2]*s[3]) for s in self._eta_samples])\n",
    "    vir /= vir.mean(axis=(-1,-2))[:,None,None]\n",
    "\n",
    "    elems = self.cryst.get_chemical_symbols()\n",
    "    for n, el in enumerate(set(elems)):\n",
    "        elmask = np.array(elems)==el\n",
    "        xscale[elmask] = 1/np.sqrt(vir[:, elmask, :].mean())\n",
    "    \n",
    "    if pbar and close_pbar:\n",
    "        pbar.close()\n",
    "    \n",
    "    if set_scale:\n",
    "        self.eta = m\n",
    "        self.xscale_init = xscale\n",
    "        \n",
    "    return m, y.std(), xscale"
   ]
  }
 ],
 "metadata": {
  "kernelspec": {
   "display_name": "python3",
   "language": "python",
   "name": "python3"
  }
 },
 "nbformat": 4,
 "nbformat_minor": 5
}
