{
 "cells": [
  {
   "cell_type": "code",
   "execution_count": null,
   "id": "20540ace-ceba-4ef4-9a3d-c4c82569b234",
   "metadata": {},
   "outputs": [],
   "source": [
    "#| hide\n",
    "#| default_exp core\n",
    "from nbdev import *"
   ]
  },
  {
   "cell_type": "markdown",
   "id": "79e718c1-14a4-4123-bfd0-5ace041f3627",
   "metadata": {},
   "source": [
    "# Mapping of DOFs to minimal set\n",
    "\n",
    "> procedures for mapping degrees of freedom in the supercell to the minimal set of DOFs in the primitive unit cell."
   ]
  },
  {
   "cell_type": "code",
   "execution_count": null,
   "id": "e87f721c-94e8-4bfe-9922-3f9a37dd0268",
   "metadata": {},
   "outputs": [],
   "source": [
    "import spglib as spg\n",
    "import ase\n",
    "import ase.io\n",
    "import numpy as np"
   ]
  },
  {
   "cell_type": "code",
   "execution_count": null,
   "id": "3cf49840-d609-4726-9e98-907b2bf5aa53",
   "metadata": {},
   "outputs": [],
   "source": [
    "from ase import spacegroup as sg\n",
    "from hecss.util import get_cell_data"
   ]
  },
  {
   "cell_type": "code",
   "execution_count": null,
   "id": "7621547b-6be0-4da1-b371-4682b6571fcc",
   "metadata": {},
   "outputs": [],
   "source": [
    "# cryst = ase.io.read('/home/jochym/cryst/TiO2_hecss/PBE_2x2x4/uc/CONTCAR')\n",
    "# cryst = ase.io.read('/home/jochym/cryst/TiO2_hecss/PBE_Tetra/uc/CONTCAR')*(2,2,4)\n",
    "# cryst = ase.io.read('/home/pastukh/Czech.calculation/sc/CONTCAR')\n",
    "cryst = ase.io.read('example/VASP_3C-SiC_calculated/2x2x2/sc/CONTCAR')"
   ]
  },
  {
   "cell_type": "code",
   "execution_count": null,
   "id": "8c610c3c-5843-4f24-b4fe-99addeffc4a8",
   "metadata": {},
   "outputs": [
    {
     "data": {
      "text/plain": [
       "'F-43m (216)'"
      ]
     },
     "execution_count": null,
     "metadata": {},
     "output_type": "execute_result"
    }
   ],
   "source": [
    "puc = spg.find_primitive(get_cell_data(cryst))\n",
    "cryst_pc = ase.Atoms(cell=puc[0], scaled_positions=puc[1], numbers=puc[2], pbc=True)\n",
    "sym = spg.get_symmetry(get_cell_data(cryst_pc))\n",
    "symds = spg.get_symmetry_dataset(get_cell_data(cryst_pc))\n",
    "spg.get_spacegroup(get_cell_data(cryst_pc))"
   ]
  },
  {
   "cell_type": "code",
   "execution_count": null,
   "id": "34d1118e-176a-4d9f-81c1-6b2cc0a3d920",
   "metadata": {},
   "outputs": [
    {
     "data": {
      "text/plain": [
       "Spacegroup(216, setting=1)"
      ]
     },
     "execution_count": null,
     "metadata": {},
     "output_type": "execute_result"
    }
   ],
   "source": [
    "SG = sg.get_spacegroup(cryst_pc)\n",
    "SG"
   ]
  },
  {
   "cell_type": "code",
   "execution_count": null,
   "id": "fa8b7ba1-6ec7-4390-8531-1f564ea29270",
   "metadata": {},
   "outputs": [
    {
     "data": {
      "text/plain": [
       "array([[0.75, 0.75, 0.75],\n",
       "       [0.  , 0.  , 0.  ]])"
      ]
     },
     "execution_count": null,
     "metadata": {},
     "output_type": "execute_result"
    }
   ],
   "source": [
    "sg.get_basis(cryst_pc)"
   ]
  },
  {
   "cell_type": "code",
   "execution_count": null,
   "id": "626c4f92-54ed-4e74-9c18-91c59de3b8ab",
   "metadata": {},
   "outputs": [
    {
     "data": {
      "text/plain": [
       "{0: array([0.01, 0.  , 0.  ]),\n",
       " 1: array([0.  , 0.01, 0.  ]),\n",
       " 2: array([0.  , 0.  , 0.01])}"
      ]
     },
     "execution_count": null,
     "metadata": {},
     "output_type": "execute_result"
    }
   ],
   "source": [
    "eps = 0.01\n",
    "dv = eps*np.diag(np.ones(3))\n",
    "uvec = {n:v for n, v in zip((0,1,2),dv)}\n",
    "uvec"
   ]
  },
  {
   "cell_type": "code",
   "execution_count": null,
   "id": "fcafe732-701e-4f72-8132-5cbe118fa91e",
   "metadata": {},
   "outputs": [],
   "source": [
    "def find_key(val, dic):\n",
    "    for k, v in dic.items():\n",
    "        if np.allclose(v, val):\n",
    "            return k"
   ]
  },
  {
   "cell_type": "code",
   "execution_count": null,
   "id": "3fd50662-a25f-40b2-91b9-1a2161b51ad6",
   "metadata": {},
   "outputs": [
    {
     "name": "stdout",
     "output_type": "stream",
     "text": [
      "0 0 [0.75 0.75 0.75] 6\n",
      "0 -> 0\n",
      "1 -> 0\n",
      "2 -> 0\n",
      "1 1 [0. 0. 0.] 14\n",
      "0 -> 0\n",
      "1 -> 0\n",
      "2 -> 0\n",
      "{0: array([0, 0, 0]), 1: array([0, 0, 0])}\n"
     ]
    }
   ],
   "source": [
    "eqdir = {}\n",
    "for sp in set(symds['equivalent_atoms']):\n",
    "    pci = symds['mapping_to_primitive'][sp]\n",
    "    print(sp, pci, puc[1][pci], puc[2][pci])\n",
    "    pos = puc[1][pci]\n",
    "    m = {}\n",
    "    for n, d in uvec.items(): \n",
    "        v = pos+d\n",
    "        m[n]=set()\n",
    "        for elp in SG.equivalent_lattice_points([v]):\n",
    "            # if np.allclose(v, elp):\n",
    "            #     continue\n",
    "            if np.any(elp - pos < 0):\n",
    "                continue\n",
    "            if np.all(np.abs(elp - pos) < 2*eps):\n",
    "                di = v-pos\n",
    "                df = elp-pos\n",
    "                m[n]|={find_key(elp-pos, uvec)}\n",
    "                # print(find_key(v-pos, uvec), '->',  find_key(elp-pos, uvec))\n",
    "    # print(m)\n",
    "    for k, v in m.items():\n",
    "        print(k, '->', sorted(v)[0])\n",
    "    eqdir[sp] = np.array([sorted(v)[0] for k, v in sorted(m.items())])\n",
    "print(eqdir)    \n",
    "# print(SG.tag_sites(cryst_pc.get_scaled_positions()))"
   ]
  },
  {
   "cell_type": "code",
   "execution_count": null,
   "id": "14446d3a-397b-4069-b1eb-e44e5ff8bc5c",
   "metadata": {},
   "outputs": [],
   "source": [
    "at_map = symds['equivalent_atoms'][spg.get_symmetry_dataset(get_cell_data(cryst))['mapping_to_primitive']]"
   ]
  },
  {
   "cell_type": "code",
   "execution_count": null,
   "id": "47fe95fd-3c52-455c-a7f8-b7d9de653361",
   "metadata": {},
   "outputs": [],
   "source": [
    "dc = cryst.copy()\n",
    "dc.rattle()"
   ]
  },
  {
   "cell_type": "code",
   "execution_count": null,
   "id": "801b72ad-9bf2-42f4-bbd4-9f624ea36810",
   "metadata": {},
   "outputs": [],
   "source": [
    "dx = dc.get_positions() - cryst.get_positions()"
   ]
  },
  {
   "cell_type": "code",
   "execution_count": null,
   "id": "2196c1a9-5380-4d7d-ae6f-04b2144a2876",
   "metadata": {},
   "outputs": [],
   "source": [
    "d_avg = {ai:dx[at_map == ai] for ai in set(at_map)}"
   ]
  },
  {
   "cell_type": "code",
   "execution_count": null,
   "id": "92da1a57-8c34-407f-895c-4e68f2857369",
   "metadata": {},
   "outputs": [
    {
     "name": "stdout",
     "output_type": "stream",
     "text": [
      "0 0 (32, 3) 0.0009203960620541905\n",
      "1 0 (32, 3) 0.0009473878538096573\n"
     ]
    }
   ],
   "source": [
    "for ai, eqd in eqdir.items():\n",
    "    for di in set(eqd):\n",
    "        print(ai, di, d_avg[ai][:,eqd==di].shape, d_avg[ai][:,eqd==di].std())"
   ]
  },
  {
   "cell_type": "code",
   "execution_count": null,
   "id": "c6182edd-4f77-4c92-badc-107b00ebaeff",
   "metadata": {},
   "outputs": [
    {
     "data": {
      "text/plain": [
       "(64, 3)"
      ]
     },
     "execution_count": null,
     "metadata": {},
     "output_type": "execute_result"
    }
   ],
   "source": [
    "cryst.get_scaled_positions()[np.zeros((64),dtype=int)].shape"
   ]
  },
  {
   "cell_type": "code",
   "execution_count": null,
   "id": "d3ead964-74e7-4d1b-917e-4909ba4f1b5e",
   "metadata": {},
   "outputs": [
    {
     "data": {
      "text/plain": [
       "array([[0, 0],\n",
       "       [0, 0],\n",
       "       [0, 0],\n",
       "       [0, 0],\n",
       "       [0, 0],\n",
       "       [0, 0],\n",
       "       [0, 0],\n",
       "       [0, 0],\n",
       "       [0, 0],\n",
       "       [0, 0],\n",
       "       [0, 0],\n",
       "       [0, 0],\n",
       "       [0, 0],\n",
       "       [0, 0],\n",
       "       [0, 0],\n",
       "       [0, 0],\n",
       "       [0, 0],\n",
       "       [0, 0],\n",
       "       [0, 0],\n",
       "       [0, 0],\n",
       "       [0, 0],\n",
       "       [0, 0],\n",
       "       [0, 0],\n",
       "       [0, 0],\n",
       "       [0, 0],\n",
       "       [0, 0],\n",
       "       [0, 0],\n",
       "       [0, 0],\n",
       "       [0, 0],\n",
       "       [0, 0],\n",
       "       [0, 0],\n",
       "       [0, 0],\n",
       "       [0, 0],\n",
       "       [0, 0],\n",
       "       [0, 0],\n",
       "       [0, 0],\n",
       "       [0, 0],\n",
       "       [0, 0],\n",
       "       [0, 0],\n",
       "       [0, 0],\n",
       "       [0, 0],\n",
       "       [0, 0],\n",
       "       [0, 0],\n",
       "       [0, 0],\n",
       "       [0, 0],\n",
       "       [0, 0],\n",
       "       [0, 0],\n",
       "       [0, 0],\n",
       "       [0, 0],\n",
       "       [0, 0],\n",
       "       [0, 0],\n",
       "       [0, 0],\n",
       "       [0, 0],\n",
       "       [0, 0],\n",
       "       [0, 0],\n",
       "       [0, 0],\n",
       "       [0, 0],\n",
       "       [0, 0],\n",
       "       [0, 0],\n",
       "       [0, 0],\n",
       "       [0, 0],\n",
       "       [0, 0],\n",
       "       [0, 0],\n",
       "       [0, 0]])"
      ]
     },
     "execution_count": null,
     "metadata": {},
     "output_type": "execute_result"
    }
   ],
   "source": [
    "np.array(np.zeros((64,2)), dtype=int)"
   ]
  },
  {
   "cell_type": "code",
   "execution_count": null,
   "id": "891efca1-a0cd-4452-908f-17dd0ac7bb0c",
   "metadata": {},
   "outputs": [],
   "source": []
  }
 ],
 "metadata": {
  "kernelspec": {
   "display_name": "python3",
   "language": "python",
   "name": "python3"
  }
 },
 "nbformat": 4,
 "nbformat_minor": 5
}
