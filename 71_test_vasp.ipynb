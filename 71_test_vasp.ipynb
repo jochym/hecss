{
 "cells": [
  {
   "cell_type": "code",
   "execution_count": null,
   "id": "4e6dad17-cb3f-4ffb-abb5-6eb35908f771",
   "metadata": {},
   "outputs": [],
   "source": [
    "#|hide\n",
    "from nbdev import *"
   ]
  },
  {
   "cell_type": "markdown",
   "id": "825fb362-c638-4f0c-ab5d-8f1c9099cc8e",
   "metadata": {},
   "source": [
    "# VASP Testing\n",
    "> This are tests for various aspects of the \"typical\" use with VASP calculator. At the same time this is an example of the typical VASP workflow with multiple temperatures scanning."
   ]
  },
  {
   "cell_type": "code",
   "execution_count": null,
   "id": "a5080eba-8622-4a84-ad00-be901db421d1",
   "metadata": {},
   "outputs": [],
   "source": [
    "#|vasp\n",
    "# Import VASP calculator and unit modules\n",
    "from ase.calculators.vasp import Vasp\n",
    "from ase import units as un\n",
    "from os.path import isfile\n",
    "import os\n",
    "\n",
    "# The sample generator, monitoring display and dfset writer\n",
    "from hecss import HECSS\n",
    "from hecss.util import write_dfset\n",
    "from hecss.monitor import plot_stats\n",
    "\n",
    "# Numerical and plotting routines\n",
    "import numpy as np\n",
    "from matplotlib import pyplot as plt\n",
    "from collections import defaultdict\n",
    "from tempfile import TemporaryDirectory\n",
    "from glob import glob"
   ]
  },
  {
   "cell_type": "code",
   "execution_count": null,
   "id": "fbf73330-2b61-47aa-b823-96f8d43f41d9",
   "metadata": {},
   "outputs": [],
   "source": [
    "#|vasp\n",
    "# Quick test using conventional unit cell\n",
    "supercell = '2x2x2'\n",
    "supercell = '1x1x1'"
   ]
  },
  {
   "cell_type": "code",
   "execution_count": null,
   "id": "b9729997-b562-43af-9f2c-8f9af7ecbf27",
   "metadata": {},
   "outputs": [],
   "source": [
    "#|vasp\n",
    "# Directory in which our project resides\n",
    "base_dir = f'example/VASP_3C-SiC/{supercell}/'\n",
    "calc_dir = TemporaryDirectory(dir='TMP')"
   ]
  },
  {
   "cell_type": "code",
   "execution_count": null,
   "id": "8e1215f4-9fba-44c2-9714-139d65e904b1",
   "metadata": {},
   "outputs": [],
   "source": [
    "#| vasp\n",
    "# Read the structure (previously calculated unit(super) cell)\n",
    "# The command argument is specific to the cluster setup\n",
    "calc = Vasp(label='cryst', directory=f'{base_dir}/sc_{supercell}/', restart=True)\n",
    "\n",
    "# This just makes a copy of atoms object\n",
    "# Do not generate supercell here - your atom ordering will be wrong!\n",
    "cryst = calc.atoms.repeat(1)"
   ]
  },
  {
   "cell_type": "code",
   "execution_count": null,
   "id": "a66bccfe-dd2f-41ad-8d37-7c9c2826bc83",
   "metadata": {},
   "outputs": [],
   "source": [
    "#|vasp\n",
    "# Setup the calculator - single point energy calculation\n",
    "# The details will change here from case to case\n",
    "# We are using run-vasp from the current directory!\n",
    "calc.set(directory=f'{calc_dir.name}/sc')\n",
    "calc.set(command=f'{os.getcwd()}/run-calc.sh \"vasp_test\"')\n",
    "calc.set(nsw=0)\n",
    "cryst.set_calculator(calc)"
   ]
  },
  {
   "cell_type": "code",
   "execution_count": null,
   "id": "d961c9c0-2b8e-44ec-af77-edfc1390e3c0",
   "metadata": {},
   "outputs": [
    {
     "name": "stdout",
     "output_type": "stream",
     "text": [
      "Stress tensor: 0.017 0.017 0.017 0.000 0.000 0.000 GPa\n"
     ]
    }
   ],
   "source": [
    "#|vasp\n",
    "print('Stress tensor: ', end='')\n",
    "for ss in calc.get_stress()/un.GPa:\n",
    "    print(f'{ss:.3f}', end=' ')\n",
    "print('GPa')"
   ]
  },
  {
   "cell_type": "code",
   "execution_count": null,
   "id": "048382f0-0ba1-4990-b71e-3ed1d5ac56d0",
   "metadata": {},
   "outputs": [],
   "source": [
    "#|vasp\n",
    "# Prepare space for the results.\n",
    "# We use defaultdict to automatically\n",
    "# initialize the items to empty list.\n",
    "samples = defaultdict(lambda : [])\n",
    "\n",
    "# Space for amplitude correction data\n",
    "xsl = []"
   ]
  },
  {
   "cell_type": "code",
   "execution_count": null,
   "id": "0403dae9-76e9-46b4-8a0e-8df9e2cda326",
   "metadata": {},
   "outputs": [],
   "source": [
    "#|vasp\n",
    "# Build the sampler\n",
    "hecss = HECSS(cryst, calc, \n",
    "              directory=calc_dir.name,\n",
    "              w_search = True,\n",
    "              pbar=True,\n",
    "              )"
   ]
  },
  {
   "cell_type": "code",
   "execution_count": null,
   "id": "06cf9b53-2d41-4e0b-85fd-f26ee7bab47a",
   "metadata": {},
   "outputs": [
    {
     "data": {
      "application/vnd.jupyter.widget-view+json": {
       "model_id": "87fc2e99a3e5437eae01aae857afe6ee",
       "version_major": 2,
       "version_minor": 0
      },
      "text/plain": [
       "  0%|          | 0/5 [00:00<?, ?it/s]"
      ]
     },
     "metadata": {},
     "output_type": "display_data"
    },
    {
     "data": {
      "image/png": "[encoded data removed]",
      "text/plain": [
       "<Figure size 640x480 with 1 Axes>"
      ]
     },
     "metadata": {},
     "output_type": "display_data"
    }
   ],
   "source": [
    "#|vasp\n",
    "N = 5\n",
    "m, s, xscl = hecss.estimate_width_scale(5)\n",
    "wm = np.array(hecss._eta_list).T\n",
    "y = np.sqrt((3*wm[1]*un.kB)/(2*wm[2]))\n",
    "plt.plot(wm[1], y, '.');\n",
    "x = np.linspace(0, 1.05*wm[1].max(), 2)\n",
    "fit = np.polyfit(wm[1], y, 1)\n",
    "plt.plot(x, np.polyval(fit, x), ':', label=f'{fit[1]:.4g} {fit[0]:+.4g} T')\n",
    "plt.axhline(m, ls='--', label=f'{m:.4g}±{s:.4g}')\n",
    "plt.axhspan(m-s, m+s, alpha=0.3)\n",
    "plt.ylim(m-4*s, m+4*s)\n",
    "plt.xlabel('Target temperature (K)')\n",
    "plt.ylabel('width scale ($\\\\AA/\\\\sqrt{K}$)')\n",
    "plt.legend();"
   ]
  },
  {
   "cell_type": "code",
   "execution_count": null,
   "id": "66106f5f-e15e-4346-80a0-9833f8e6064f",
   "metadata": {},
   "outputs": [],
   "source": [
    "#|hide\n",
    "#|vasp\n",
    "assert len(glob(f'{calc_dir.name}/w_est/*')) == N"
   ]
  },
  {
   "cell_type": "code",
   "execution_count": null,
   "id": "2428575b-4bd8-468e-b7a5-3ef431625058",
   "metadata": {},
   "outputs": [
    {
     "data": {
      "application/vnd.jupyter.widget-view+json": {
       "model_id": "a873f3b69e8645eca1e756693100fed4",
       "version_major": 2,
       "version_minor": 0
      },
      "text/plain": [
       "  0%|          | 0/5 [00:00<?, ?it/s]"
      ]
     },
     "metadata": {},
     "output_type": "display_data"
    },
    {
     "data": {
      "application/vnd.jupyter.widget-view+json": {
       "model_id": "b5141f085e6d40dc8bae9d98094b659a",
       "version_major": 2,
       "version_minor": 0
      },
      "text/plain": [
       "  0%|          | 0/5 [00:00<?, ?it/s]"
      ]
     },
     "metadata": {},
     "output_type": "display_data"
    },
    {
     "data": {
      "application/vnd.jupyter.widget-view+json": {
       "model_id": "733b6974281349818379fde926c0074e",
       "version_major": 2,
       "version_minor": 0
      },
      "text/plain": [
       "  0%|          | 0/5 [00:00<?, ?it/s]"
      ]
     },
     "metadata": {},
     "output_type": "display_data"
    }
   ],
   "source": [
    "#|vasp\n",
    "# Desired number of samples and T list.\n",
    "N = 5\n",
    "T_list = (100, 200, 300)\n",
    "for T in T_list:\n",
    "    samples[T] += hecss.sample(T, N) "
   ]
  },
  {
   "cell_type": "code",
   "execution_count": null,
   "id": "1f047327-cda3-4fea-a6cc-199705c072c8",
   "metadata": {},
   "outputs": [],
   "source": [
    "#|hide\n",
    "#|vasp\n",
    "for T in T_list:\n",
    "    assert len(glob(f'{calc_dir.name}/T_{T:.1f}K/smpl/*')) == len(samples[T])"
   ]
  },
  {
   "cell_type": "code",
   "execution_count": null,
   "id": "0eb97d2d-f8d0-4217-84b4-d880287b9243",
   "metadata": {},
   "outputs": [],
   "source": [
    "#|hide\n",
    "#|vasp\n",
    "# Test if all the calculations are run in separate dirs only once \n",
    "for d in ([f'{calc_dir.name}/sc'] + \n",
    "          glob(f'{calc_dir.name}/w_est/*') + \n",
    "          glob(f'{calc_dir.name}/*/smpl/*')):\n",
    "    assert len(glob(f'{d}/slurm*.out')) == 1"
   ]
  },
  {
   "cell_type": "code",
   "execution_count": null,
   "id": "e394b5f2-1219-4acb-a84a-5e121622ee00",
   "metadata": {},
   "outputs": [],
   "source": [
    "#|hide\n",
    "#|vasp\n",
    "calc_dir.cleanup()"
   ]
  },
  {
   "cell_type": "code",
   "execution_count": null,
   "id": "0d5b07dc-2b08-48d6-83fe-692d54d48a32",
   "metadata": {},
   "outputs": [],
   "source": []
  }
 ],
 "metadata": {
  "kernelspec": {
   "display_name": "Python 3 (ipykernel)",
   "language": "python",
   "name": "python3"
  }
 },
 "nbformat": 4,
 "nbformat_minor": 5
}
