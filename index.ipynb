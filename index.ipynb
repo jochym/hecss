{
 "cells": [
  {
   "cell_type": "code",
   "execution_count": null,
   "metadata": {
    "hide_input": true
   },
   "outputs": [],
   "source": [
    "from nbdev import *"
   ]
  },
  {
   "cell_type": "code",
   "execution_count": null,
   "metadata": {},
   "outputs": [],
   "source": [
    "#nbdev_hide\n",
    "from hecss.core import *"
   ]
  },
  {
   "cell_type": "markdown",
   "metadata": {},
   "source": [
    "# HECSS\n",
    "> High Efficiency Configuration Space Sampler"
   ]
  },
  {
   "cell_type": "markdown",
   "metadata": {},
   "source": [
    "HECSS is a Markow chain Monte-Carlo Metropolis-Hastings configuration space sampler. The theoretical foundation of the code are presented in the section `Background` below."
   ]
  },
  {
   "cell_type": "markdown",
   "metadata": {},
   "source": [
    "## Install\n",
    "\n",
    "The HECSS package is avaliable on pypi and conda. Installation is simple just run:\n",
    "```\n",
    "pip install hecss\n",
    "```\n",
    "if you prefer pip as your package manager or:\n",
    "```\n",
    "conda install -c jochym hecss\n",
    "```\n",
    "if you prefer to use conda. The channel above will be changed to conda-forge at a later date."
   ]
  },
  {
   "cell_type": "markdown",
   "metadata": {},
   "source": [
    "## Update\n",
    "\n",
    "For update just use your chosen package manager update function"
   ]
  },
  {
   "cell_type": "markdown",
   "metadata": {},
   "source": [
    "## Usage\n",
    "\n",
    "There are two main ways to use the library:\n",
    " * Use `hecss` library in your own python code. For this \n",
    " *\n",
    "\n",
    "Start by copying files from `example` subdirectory into `WORK` and following\n",
    "the tutorial included there by opening `run_sampler.py` as Notebook."
   ]
  },
  {
   "cell_type": "markdown",
   "metadata": {},
   "source": [
    "# Background\n",
    "\n",
    "The physical background of  HECSS is presented in [Jochym, Łażewski] which should be cited in every work using this code. \n",
    "Here is just a short overview of the foundations of the approach used in the code."
   ]
  },
  {
   "cell_type": "markdown",
   "metadata": {},
   "source": [
    "## Role of configurations in lattice dynamics calculations\n",
    "\n"
   ]
  },
  {
   "cell_type": "markdown",
   "metadata": {},
   "source": [
    "## Molecular dynamics"
   ]
  },
  {
   "cell_type": "markdown",
   "metadata": {},
   "source": [
    "## Equipartition theorem"
   ]
  }
 ],
 "metadata": {
  "kernelspec": {
   "display_name": "Python 3",
   "language": "python",
   "name": "python3"
  }
 },
 "nbformat": 4,
 "nbformat_minor": 4
}
