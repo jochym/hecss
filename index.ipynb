{
 "cells": [
  {
   "cell_type": "code",
   "execution_count": null,
   "metadata": {},
   "outputs": [],
   "source": [
    "#hide\n",
    "from your_lib.core import *"
   ]
  },
  {
   "cell_type": "markdown",
   "metadata": {},
   "source": [
    "# HECSS\n",
    "\n",
    "> High Efficiency Configuration Space Sampler"
   ]
  },
  {
   "cell_type": "markdown",
   "metadata": {},
   "source": [
    "This is a Markow-Chain Metropolis-Hastings configuration space sampler.\n",
    "\n",
    "The main sampler is in the `hecss.py` module. The calculation monitoring\n",
    "functions are in the `calc_monitor.py` module. The examples are in:\n",
    "\n",
    "* `run_sampler.py` - jupyter notebook with full sampler run example\n",
    "* `monitor_stats.py` - sampling statistics notebook\n",
    "* `monitor_phonons.py` - phonon convergence monitoring notebook\n",
    "* `example` - directory with input data files with 3C-SiC 2x2x2 supercell\n",
    "\n",
    "The notebooks should be opened with `open as -> notebook` in JupyterLab."
   ]
  },
  {
   "cell_type": "markdown",
   "metadata": {},
   "source": [
    "## Install\n",
    "\n",
    "For now the install is only with `git clone`. The proper package is comming soon.\n",
    "Run:\n",
    "```\n",
    "git clone http://git.dx.ifj.edu.pl/jochym/hecss.git \n",
    "```\n",
    "in your working directory. It will create `hecss` directory with multiple files \n",
    "and `WORK` subdirectory. Do all your work in this directory (copy examples there \n",
    "and work from there). It is best to run calculations *above* the `hecss` directory\n",
    "and keep notebooks controlling the calculations in the `WORK` directory:\n",
    "```\n",
    "--crystal---hecss---WORK\n",
    "          |\n",
    "          --calc_1---calc\n",
    "          |        |\n",
    "          |        --phon\n",
    "          |        |\n",
    "          |        --sc\n",
    "          |\n",
    "          --calc_2---calc\n",
    "                   |\n",
    "                   --phon\n",
    "                   |\n",
    "                   --sc\n",
    "```\n",
    "Alternatively you can have `calc_x` directories under `WORK` subdirectory. This structure enables you to update the package without touching your files."
   ]
  },
  {
   "cell_type": "markdown",
   "metadata": {},
   "source": [
    "## Update\n",
    "\n",
    "If you followed above advice the update is done by executing:\n",
    "```\n",
    "git pull\n",
    "```\n",
    "from within `hecss` directory. This will pull all released updates for the package."
   ]
  },
  {
   "cell_type": "markdown",
   "metadata": {},
   "source": [
    "## Usage\n",
    "\n",
    "Start by copying files from `example` subdirectory into `WORK` and following\n",
    "the tutorial included there by opening `run_sampler.py` as Notebook."
   ]
  }
 ],
 "metadata": {
  "kernelspec": {
   "display_name": "Python 3",
   "language": "python",
   "name": "python3"
  }
 },
 "nbformat": 4,
 "nbformat_minor": 4
}
