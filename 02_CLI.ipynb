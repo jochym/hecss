{
 "cells": [
  {
   "cell_type": "code",
   "execution_count": null,
   "metadata": {},
   "outputs": [],
   "source": [
    "#| hide\n",
    "#| default_exp cli\n",
    "from nbdev import *\n",
    "from click.testing import CliRunner"
   ]
  },
  {
   "cell_type": "markdown",
   "metadata": {},
   "source": [
    "# CLI\n",
    "\n",
    "> The command line interface for the HECSS sampler"
   ]
  },
  {
   "cell_type": "code",
   "execution_count": null,
   "metadata": {},
   "outputs": [],
   "source": [
    "#| hide\n",
    "#| exporti\n",
    "import click\n",
    "from pathlib import Path\n",
    "import os\n",
    "import ase\n",
    "from ase.calculators.vasp import Vasp\n",
    "from ase import units as un\n",
    "from numpy import savetxt, loadtxt, array\n",
    "from hecss import *\n",
    "import hecss\n",
    "from hecss.util import write_dfset, calc_init_xscale\n",
    "from hecss.optimize import make_sampling\n",
    "import traceback"
   ]
  },
  {
   "cell_type": "markdown",
   "metadata": {},
   "source": [
    "## Command line hecss sampler"
   ]
  },
  {
   "cell_type": "code",
   "execution_count": null,
   "metadata": {},
   "outputs": [],
   "source": [
    "#| hide\n",
    "#| exporti\n",
    "_version_message=(\"HECSS, version %(version)s\\n\"\n",
    "                  'High Efficiency Configuration Space Sampler\\n'\n",
    "                  '(C) 2021-2022 by Paweł T. Jochym\\n'\n",
    "                  '    License: GPL v3 or later')"
   ]
  },
  {
   "cell_type": "code",
   "execution_count": null,
   "metadata": {},
   "outputs": [],
   "source": [
    "#| hide\n",
    "#| exporti\n",
    "def run_cli_cmd(cmd, args, prt_result=False):\n",
    "    print(f'$ {cmd.name} {args}\\n')\n",
    "    run = CliRunner().invoke(cmd, args) \n",
    "    print(run.output)\n",
    "    if prt_result or run.exit_code!=0:\n",
    "        print(run)\n",
    "        if run.exit_code!=0:\n",
    "            traceback.print_tb(run.exc_info[-1])        "
   ]
  },
  {
   "cell_type": "code",
   "execution_count": null,
   "metadata": {},
   "outputs": [],
   "source": [
    "#| hide\n",
    "#| exporti\n",
    "def dfset_writer(s, sl, workdir='', dfset='', scale='', xsl=None):\n",
    "    '''\n",
    "    Write samples to the DFSET file in the workdir directory.\n",
    "    If the scale and xsl list are not empy save amplitude correction \n",
    "    and empty the xsl list (!).\n",
    "    '''\n",
    "    wd = Path(workdir)\n",
    "    write_dfset(f'{wd.joinpath(dfset)}.raw', s)\n",
    "    if scale and xsl:\n",
    "        with open(wd.joinpath(scale), 'at') as sf:\n",
    "            for xs in xsl:\n",
    "                savetxt(sf, xs, fmt='%8.5f', header=f'{xs.shape}, {len(sl)}, {len(xsl)}')\n",
    "        xsl.clear()\n",
    "    # Important! Return False to keep iteration going\n",
    "    return False"
   ]
  },
  {
   "cell_type": "code",
   "execution_count": null,
   "metadata": {},
   "outputs": [],
   "source": [
    "#| hide\n",
    "#| exporti\n",
    "@click.command()\n",
    "@click.argument('fname', type=click.Path(exists=True))            \n",
    "@click.option('-W', '--workdir', default=\"WORK\", type=click.Path(exists=True), help=\"Work directory\")\n",
    "@click.option('-l', '--label', default=\"hecss\", help=\"Label for the calculations.\")\n",
    "@click.option('-T', '--temp', default=300, type=float, help=\"Target temperature in Kelvin.\")\n",
    "@click.option('-w', '--width', default=None, type=float, help=\"Initial scale of the prior distribution\")\n",
    "@click.option('-a', '--ampl', default='', type=click.Path(), help='Initialise amplitude correction from the file.')\n",
    "@click.option('-s', '--scale', default='', type=click.Path(), help='Save amplitude correction history')\n",
    "@click.option('-C', '--calc', default=\"VASP\", type=str, \n",
    "              help=\"ASE calculator to be used for the job. \"\n",
    "                      \"Supported calculators: VASP (default)\")\n",
    "@click.option('-n', '--nodfset', is_flag=True, default=False, help='Do not write DFSET file for ALAMODE')\n",
    "@click.option('-d', '--dfset', default='DFSET.dat', help='Name of the DFSET file')\n",
    "@click.option('-N', '--nsamples', default=10, type=int, help=\"Number of samples to be generated\")\n",
    "@click.option('-e', '--neta', default=2, type=int, help=\"Number of samples for width scale estimation\")\n",
    "@click.option('-c', '--command', default='./run-calc', help=\"Command to run calculator\")\n",
    "@click.option('-p', '--pbar', is_flag=True, default=True, help=\"Show progress bar\")\n",
    "@click.version_option(hecss.__version__, '-V', '--version', message=_version_message)\n",
    "@click.help_option('-h', '--help')\n",
    "def hecss_sampler(fname, workdir, label, temp, width, ampl, scale, calc, nodfset, dfset, nsamples, neta, command, pbar):\n",
    "    '''\n",
    "    Run HECSS sampler on the structure in the provided file (FNAME).\\b\n",
    "    Read the docs at: https://jochym.github.io/hecss/\n",
    "    \n",
    "    \\b\n",
    "    FNAME - Supercell structure file. The containing \n",
    "            directory must be readable by Vasp(restart).\n",
    "            Usually this is a CONTCAR file for a supercell.\n",
    "    '''\n",
    "    \n",
    "    print(f'HECSS ({hecss.__version__})\\n'\n",
    "          f'Supercell:      {fname}\\n'\n",
    "          f'Temperature:    {temp}K\\n'\n",
    "          f'Work directory: {workdir}\\n'\n",
    "          f'Calculator:     {calc}')\n",
    "    \n",
    "    src_path = Path(fname)\n",
    "    \n",
    "    if calc==\"VASP\":\n",
    "        calculator = Vasp(label=label, directory=src_path.parent, restart=True)\n",
    "        cryst = ase.Atoms(calculator.atoms)\n",
    "        cryst.set_calculator(calculator)\n",
    "        calculator.set(directory=workdir)\n",
    "        command = Path(command)\n",
    "        calculator.set(command=f'{command.absolute()} {label}')\n",
    "    else:\n",
    "        print(f'The {calc} calculator is not supported.')\n",
    "        return\n",
    "    \n",
    "    if nodfset :\n",
    "        sentinel = None\n",
    "    else :\n",
    "        sentinel = dfset_writer\n",
    "    \n",
    "    xsl = None\n",
    "    if scale:\n",
    "        xsl = []\n",
    "\n",
    "    wl = []\n",
    "        \n",
    "    sampler = HECSS(cryst, calculator, directory=workdir, width=width, pbar=pbar)\n",
    "\n",
    "    if ampl:\n",
    "        sampler.xscale_init = loadtxt(ampl)\n",
    "    \n",
    "    if width is None and neta > 0:\n",
    "        print('Estimating width scale.')\n",
    "        eta, sigma, xscale = sampler.estimate_width_scale(neta, temp, pbar=sampler._pbar)\n",
    "        if nsamples <= 1:\n",
    "            print(f'Width scale from {neta} pts.: {eta:.3g}+/-{sigma:.3g}')\n",
    "            print('Width scale estimation run (N<2). Not running sampling.')\n",
    "            return\n",
    "\n",
    "    print('Sampling configurations')\n",
    "    samples = sampler.sample(temp, nsamples, width_list = wl,\n",
    "                             sentinel = dfset_writer,\n",
    "                             sentinel_args = {'workdir': workdir,\n",
    "                                              'dfset': dfset,\n",
    "                                              'scale': scale,\n",
    "                                              'xsl': xsl\n",
    "                                             },\n",
    "                             xscale_list=xsl)\n",
    "    # generate distribution centered at mean energy\n",
    "    T_m = 2*array([s[-1] for s in samples]).mean()/3/un.kB\n",
    "    print(f'Generating distribution centered at: {T_m:.3f} K')\n",
    "    distr = sampler.generate(samples, T_m)\n",
    "    if len(wl)>1 :\n",
    "        wl = array(wl).T\n",
    "        # print(wl.shape)\n",
    "        print(f'Average width scale ({len(wl[0])} pnts): {wl[0].mean():.3g}+/-{wl[0].std():.3g}')\n",
    "    \n",
    "    if not nodfset:\n",
    "        wd = Path(workdir)\n",
    "        for s in distr:\n",
    "            write_dfset(f'{wd.joinpath(dfset)}', s)\n",
    "        \n",
    "    return"
   ]
  },
  {
   "cell_type": "markdown",
   "metadata": {},
   "source": [
    "The HECSS sampler can be also used from the command line using `hecss-sampler` command:"
   ]
  },
  {
   "cell_type": "code",
   "execution_count": null,
   "metadata": {},
   "outputs": [
    {
     "name": "stdout",
     "output_type": "stream",
     "text": [
      "$ hecss-sampler -V\n",
      "\n",
      "HECSS, version 0.5.9\n",
      "High Efficiency Configuration Space Sampler\n",
      "(C) 2021-2022 by Paweł T. Jochym\n",
      "    License: GPL v3 or later\n",
      "\n",
      "$ hecss-sampler --help\n",
      "\n",
      "Usage: hecss-sampler [OPTIONS] FNAME\n",
      "\n",
      "  Run HECSS sampler on the structure in the provided file (FNAME) Read the\n",
      "  docs at: https://jochym.github.io/hecss/\n",
      "\n",
      "  FNAME - Supercell structure file. The containing \n",
      "          directory must be readable by Vasp(restart).\n",
      "          Usually this is a CONTCAR file for a supercell.\n",
      "\n",
      "Options:\n",
      "  -W, --workdir PATH      Work directory\n",
      "  -l, --label TEXT        Label for the calculations.\n",
      "  -T, --temp FLOAT        Target temperature in Kelvin.\n",
      "  -w, --width FLOAT       Initial scale of the prior distribution\n",
      "  -a, --ampl PATH         Initialise amplitude correction from the file.\n",
      "  -s, --scale PATH        Save amplitude correction history\n",
      "  -C, --calc TEXT         ASE calculator to be used for the job. Supported\n",
      "                          calculators: VASP (default)\n",
      "  -n, --nodfset           Do not write DFSET file for ALAMODE\n",
      "  -d, --dfset TEXT        Name of the DFSET file\n",
      "  -N, --nsamples INTEGER  Number of samples to be generated\n",
      "  -e, --neta INTEGER      Number of samples for width scale estimation\n",
      "  -c, --command TEXT      Command to run calculator\n",
      "  -p, --pbar              Show progress bar\n",
      "  -V, --version           Show the version and exit.\n",
      "  -h, --help              Show this message and exit.\n",
      "\n"
     ]
    }
   ],
   "source": [
    "#|echo: false\n",
    "run_cli_cmd(hecss_sampler, '-V')\n",
    "run_cli_cmd(hecss_sampler, '--help')"
   ]
  },
  {
   "cell_type": "markdown",
   "metadata": {},
   "source": [
    "To use it you need to prepare:\n",
    "\n",
    "1. `run-calc` script which should start the VASP calculation. You need to put this script in the root of your project tree. The example of such a script is included in the source as `run-calc.example`. :\n",
    "\n",
    "```bash\n",
    "#!/bin/bash\n",
    "\n",
    "# This script should run vasp in current directory \n",
    "# and wait for the run to finish.\n",
    "# \n",
    "# A generic line using SLURM would look like this:\n",
    "#\n",
    "# sbatch [job_params] -W vasp_running_script\n",
    "#\n",
    "# The \"-W\" param makes the sbatch command wait for the job to finish.\n",
    "\n",
    "\n",
    "JN=`pwd`\n",
    "JN=`basename ${JN}`\n",
    "\n",
    "# Partition of the cluster\n",
    "PART=small\n",
    "\n",
    "# Number of nodes\n",
    "N=1\n",
    "\n",
    "# Number of MPI tasks\n",
    "ntask=64\n",
    "\n",
    "# Name the job after directory if no label is passed as first argument\n",
    "if [ \"${1}.\" != \".\" ]; then\n",
    "  JN=${1}\n",
    "fi\n",
    "\n",
    "sbatch -W -J ${JN} -p $PART -N $N -n $ntask run-vasp-script\n",
    "```\n",
    "\n",
    "2. A directory with fully converged and optimized supercell structure which can be read in by the ASE `Vasp(restart=...)` command\n",
    "\n",
    "3. A directory for the generated samples.\n",
    "\n",
    "The directory tree may look like this:\n",
    "\n",
    "```\n",
    "my_project ----- sc\n",
    "             |\n",
    "             +-- T_100\n",
    "             |\n",
    "             +-- T_200\n",
    "             |\n",
    "             +-- ...\n",
    "             |\n",
    "             +-- run-calc\n",
    "```\n",
    "\n",
    "You execute the sampler from the `my_project` directory (remember to activate your virtual environment first). Generation of N=30 samples at T=100K:\n",
    "\n",
    "```bash\n",
    "~$ cd my_project\n",
    "~$ hecss_sampler -W T_100 -T 100 -N 30 -c ./run-calc sc/CONTCAR\n",
    "```\n",
    "\n",
    "The above command will put the generated samples inside the `T_100` directory, together with the DFSET file with displacement-force data extracted from the calculation. The calculation may take a long time. Thus it is advisable to execute the hecss command inside `screen` (or some similar terminal multiplexer) to prevent the break of the calculation in case of session disconnection. The `hecss` command shows a progress to guide you through the calculation (ETA, time/it, data about last sample etc.). The example run is included at the bottom of this document."
   ]
  },
  {
   "cell_type": "markdown",
   "metadata": {},
   "source": [
    "## Width scale estimation\n",
    "\n",
    "Calling the sampler with N=0 runs only width scale (eta) estimation procedure for the temperature range 0-T Kelvin. The calculated value may be used as the -w parameter in subsequent calculations. Possibly even for temperatures outside of this range."
   ]
  },
  {
   "cell_type": "code",
   "execution_count": null,
   "metadata": {},
   "outputs": [
    {
     "data": {
      "application/vnd.jupyter.widget-view+json": {
       "model_id": "5562dc9853344f8b89e83f596caf3b54",
       "version_major": 2,
       "version_minor": 0
      },
      "text/plain": [
       "  0%|          | 0/10 [00:00<?, ?it/s]"
      ]
     },
     "metadata": {},
     "output_type": "display_data"
    },
    {
     "name": "stdout",
     "output_type": "stream",
     "text": [
      "$ hecss-sampler -W TMP -T 1000 -N 0 -e 10 -c ./run-calc.sh example/VASP_3C-SiC/1x1x1/sc_1x1x1/CONTCAR\n",
      "\n",
      "HECSS (0.5.9)\n",
      "Supercell:      example/VASP_3C-SiC/1x1x1/sc_1x1x1/CONTCAR\n",
      "Temperature:    1000.0K\n",
      "Work directory: TMP\n",
      "Calculator:     VASP\n",
      "Estimating width scale.\n",
      "Width scale from 10 pts.: 1.79+/-0.152\n",
      "Width scale estimation run (N<2). Not running sampling.\n",
      "\n"
     ]
    }
   ],
   "source": [
    "#| echo: false\n",
    "#| vasp\n",
    "#| slow\n",
    "run_cli_cmd(hecss_sampler, \n",
    "            \"-W TMP -T 1000 -N 0 -e 10 -c ./run-calc.sh\"\n",
    "            \" example/VASP_3C-SiC/1x1x1/sc_1x1x1/CONTCAR\")"
   ]
  },
  {
   "cell_type": "markdown",
   "metadata": {},
   "source": [
    "## Calculating amplitude correction data\n",
    "\n",
    "The amplitude correction data can be saved into the file (-s parameter) and used in subsequent calculations (see below). This will speed up the initial equilibration of the degrees of freedom. This will be merged with eta estimation in future versions."
   ]
  },
  {
   "cell_type": "code",
   "execution_count": null,
   "metadata": {},
   "outputs": [
    {
     "data": {
      "application/vnd.jupyter.widget-view+json": {
       "model_id": "99e1c7bc58354aaa96b3dd8b57ca3137",
       "version_major": 2,
       "version_minor": 0
      },
      "text/plain": [
       "  0%|          | 0/10 [00:00<?, ?it/s]"
      ]
     },
     "metadata": {},
     "output_type": "display_data"
    },
    {
     "name": "stdout",
     "output_type": "stream",
     "text": [
      "$ hecss-sampler -W TMP/c1 -T 300 -N 10 -w 1.85 -c ./run-calc.sh -s scale.dat example/VASP_3C-SiC/1x1x1/sc_1x1x1/CONTCAR\n",
      "\n",
      "HECSS (0.5.9)\n",
      "Supercell:      example/VASP_3C-SiC/1x1x1/sc_1x1x1/CONTCAR\n",
      "Temperature:    300.0K\n",
      "Work directory: TMP/c1\n",
      "Calculator:     VASP\n",
      "Sampling configurations\n",
      "Generating distribution centered at: 284.412 K\n",
      "Average width scale (9 pnts): 1.86+/-0.00254\n",
      "\n"
     ]
    }
   ],
   "source": [
    "#| echo: false\n",
    "#| vasp\n",
    "#| slow\n",
    "\n",
    "# reset output file\n",
    "open('TMP/c1/DFSET.dat', 'wt').close()\n",
    "open('TMP/c1/DFSET.dat.raw', 'wt').close()\n",
    "\n",
    "run_cli_cmd(hecss_sampler, \n",
    "            \"-W TMP/c1 -T 300 -N 10 -w 1.85 -c ./run-calc.sh -s scale.dat\"\n",
    "            \" example/VASP_3C-SiC/1x1x1/sc_1x1x1/CONTCAR\")"
   ]
  },
  {
   "cell_type": "markdown",
   "metadata": {},
   "source": [
    "## Calculate initial amplitude correction\n",
    "\n",
    "By saving the amplitude correction coefficients into the file with `-s` option of the sampler we can initialise following calculations with proper relations of relative displacement amplitudes. This may be also used to continue \n",
    "the calculations with minimal startup overhead."
   ]
  },
  {
   "cell_type": "code",
   "execution_count": null,
   "metadata": {},
   "outputs": [],
   "source": [
    "#| hide\n",
    "#| exporti\n",
    "@click.command()\n",
    "@click.argument('supercell', type=click.Path(exists=True))\n",
    "@click.argument('scale', type=click.Path(exists=True))\n",
    "@click.option('-o', '--output', type=click.Path(), default=\"\", help='Write output to the file.')\n",
    "@click.option('-s', '--skip', default=0, type=int, help='Skip this number of samples at the beginning')\n",
    "@click.version_option(hecss.__version__, '-V', '--version', message=_version_message)\n",
    "@click.help_option('-h', '--help')\n",
    "def calculate_xscale(supercell, scale, output, skip):\n",
    "    '''\n",
    "    Calculate initial values for amplitude correction coefficients \n",
    "    from the scale file data for the specified supercell.\n",
    "    '''\n",
    "    sc = ase.io.read(supercell)\n",
    "    xsl = loadtxt(scale).reshape((-1, len(sc), 3))\n",
    "    xsi = calc_init_xscale(sc, xsl, skip=skip if skip else None)\n",
    "    savetxt(output, xsi, fmt='%9.4f')\n",
    "    print(f'Done. The initial scale saved to: {output}')"
   ]
  },
  {
   "cell_type": "code",
   "execution_count": null,
   "metadata": {},
   "outputs": [
    {
     "name": "stdout",
     "output_type": "stream",
     "text": [
      "$ calculate-xscale --help\n",
      "\n",
      "Usage: calculate-xscale [OPTIONS] SUPERCELL SCALE\n",
      "\n",
      "  Calculate initial values for amplitude correction coefficients  from the scale\n",
      "  file data for the specified supercell.\n",
      "\n",
      "Options:\n",
      "  -o, --output PATH   Write output to the file.\n",
      "  -s, --skip INTEGER  Skip this number of samples at the beginning\n",
      "  -V, --version       Show the version and exit.\n",
      "  -h, --help          Show this message and exit.\n",
      "\n",
      "$ calculate-xscale -o TMP/c1/iscale.dat -s 10 example/VASP_3C-SiC/1x1x1/sc_1x1x1/CONTCAR TMP/c1/scale.dat\n",
      "\n",
      "Done. The initial scale saved to: TMP/c1/iscale.dat\n",
      "\n"
     ]
    }
   ],
   "source": [
    "#| echo: false\n",
    "run_cli_cmd(calculate_xscale, \"--help\")\n",
    "run_cli_cmd(calculate_xscale, \n",
    "            \"-o TMP/c1/iscale.dat -s 10 \"\n",
    "            \"example/VASP_3C-SiC/1x1x1/sc_1x1x1/CONTCAR \"\n",
    "            \"TMP/c1/scale.dat\")"
   ]
  },
  {
   "cell_type": "markdown",
   "metadata": {},
   "source": [
    "## Continue the calculation"
   ]
  },
  {
   "cell_type": "code",
   "execution_count": null,
   "metadata": {},
   "outputs": [
    {
     "data": {
      "application/vnd.jupyter.widget-view+json": {
       "model_id": "5d78ac2fa902484f94ac4819141e0676",
       "version_major": 2,
       "version_minor": 0
      },
      "text/plain": [
       "  0%|          | 0/10 [00:00<?, ?it/s]"
      ]
     },
     "metadata": {},
     "output_type": "display_data"
    },
    {
     "name": "stdout",
     "output_type": "stream",
     "text": [
      "$ hecss-sampler -W TMP/c2 -T 300 -N 10 -w 1.85 -c ./run-calc.sh -s scale.dat -a TMP/c1/iscale.dat example/VASP_3C-SiC/1x1x1/sc_1x1x1/CONTCAR\n",
      "\n",
      "HECSS (0.5.9)\n",
      "Supercell:      example/VASP_3C-SiC/1x1x1/sc_1x1x1/CONTCAR\n",
      "Temperature:    300.0K\n",
      "Work directory: TMP/c2\n",
      "Calculator:     VASP\n",
      "Sampling configurations\n",
      "Generating distribution centered at: 295.587 K\n",
      "Average width scale (9 pnts): 1.88+/-0.00229\n",
      "\n"
     ]
    }
   ],
   "source": [
    "#| echo: false\n",
    "#| vasp\n",
    "#| slow\n",
    "\n",
    "# reset output file\n",
    "open('TMP/c2/DFSET.dat', 'wt').close()\n",
    "open('TMP/c2/DFSET.dat.raw', 'wt').close()\n",
    "\n",
    "# Calculate 10 more samples\n",
    "run_cli_cmd(hecss_sampler, \n",
    "            \"-W TMP/c2 -T 300 -N 10 -w 1.85 \"\n",
    "            \"-c ./run-calc.sh -s scale.dat -a TMP/c1/iscale.dat\"\n",
    "            \" example/VASP_3C-SiC/1x1x1/sc_1x1x1/CONTCAR\")"
   ]
  },
  {
   "cell_type": "markdown",
   "metadata": {},
   "source": [
    "##  Sampling re-shaping\n",
    "\n",
    "The reshaper of the sample set to any given temperature."
   ]
  },
  {
   "cell_type": "code",
   "execution_count": null,
   "metadata": {},
   "outputs": [],
   "source": [
    "#| hide\n",
    "#| exporti\n",
    "@click.command()\n",
    "@click.argument('dfset', type=click.Path(exists=True))\n",
    "@click.argument('T', default=-1, type=float)\n",
    "@click.option('-N', '--nmul', default=4, type=int, help=\"Sample length multiplier\")\n",
    "@click.option('-p', '--prob', type=float, default=0.25, help='Probability treshold')\n",
    "@click.option('-w', is_flag=True, default=True, help='Force non-zero weights')\n",
    "@click.option('-b', is_flag=True, default=False, help='Border samples account for the rest of domain')\n",
    "@click.option('-o', '--output', type=click.Path(), default=\"\", help='Write output to the file.')\n",
    "@click.option('-d', is_flag=True, default=False, help='Plot debug plots')\n",
    "@click.version_option(hecss.__version__, '-V', '--version', message=_version_message)\n",
    "def reshape_sample(dfset, t, nmul, prob, w, b, output, d):\n",
    "    '''\n",
    "    Reshape the sample to the normal distribution centered around mean energy (temperature),\n",
    "    or around provided temperature T (Kelvin). The reshaping is done by adjusting weighting\n",
    "    of the samples by repeating the ones which should be up-weighted. \n",
    "    The parameters are the variants of the weighting algorithm (see the docs).\\b\n",
    "    \n",
    "    The procedure reads and produces a file with in the DFSET format.\n",
    "    '''\n",
    "    import hecss.monitor as hm\n",
    "    p = Path(dfset)\n",
    "    smpl = hm.load_dfset(p.parent, p.name)\n",
    "    if t < 0:\n",
    "        t = 2*array([s[-1] for s in smpl]).mean()/3/un.kB \n",
    "    dist = make_sampling(smpl, t, border=b, probTH=prob, Nmul=nmul, nonzero_w=w, debug=d)\n",
    "    for s in dist:\n",
    "        write_dfset(output, s)\n",
    "    print(f'Done. Distribution reshaped to {t:.2f} K saved to: {output}')"
   ]
  },
  {
   "cell_type": "code",
   "execution_count": null,
   "metadata": {},
   "outputs": [
    {
     "name": "stdout",
     "output_type": "stream",
     "text": [
      "$ reshape-sample --help\n",
      "\n",
      "Usage: reshape-sample [OPTIONS] DFSET [T]\n",
      "\n",
      "  Reshape the sample to the normal distribution centered around mean energy\n",
      "  (temperature), or around provided temperature T (Kelvin). The reshaping is\n",
      "  done by adjusting weighting of the samples by repeating the ones which should\n",
      "  be up-weighted.  The parameters are the variants of the weighting algorithm\n",
      "  (see the docs)\n",
      "\n",
      "  The procedure reads and produces a file with in the DFSET format.\n",
      "\n",
      "Options:\n",
      "  -N, --nmul INTEGER  Sample length multiplier\n",
      "  -p, --prob FLOAT    Probability treshold\n",
      "  -w                  Force non-zero weights\n",
      "  -b                  Border samples account for the rest of domain\n",
      "  -o, --output PATH   Write output to the file.\n",
      "  -d                  Plot debug plots\n",
      "  -V, --version       Show the version and exit.\n",
      "  --help              Show this message and exit.\n",
      "\n",
      "$ reshape-sample  -d -o TMP/DFSET.dat TMP/DFSET_raw.dat\n",
      "\n",
      "\n",
      "<Result TypeError('load_dfset() takes 1 positional argument but 2 were given')>\n"
     ]
    },
    {
     "name": "stderr",
     "output_type": "stream",
     "text": [
      "  File \"/home/jochym/.conda/envs/dev/lib/python3.9/site-packages/click/testing.py\", line 408, in invoke\n",
      "    return_value = cli.main(args=args or (), prog_name=prog_name, **extra)\n",
      "  File \"/home/jochym/.conda/envs/dev/lib/python3.9/site-packages/click/core.py\", line 1055, in main\n",
      "    rv = self.invoke(ctx)\n",
      "  File \"/home/jochym/.conda/envs/dev/lib/python3.9/site-packages/click/core.py\", line 1404, in invoke\n",
      "    return ctx.invoke(self.callback, **ctx.params)\n",
      "  File \"/home/jochym/.conda/envs/dev/lib/python3.9/site-packages/click/core.py\", line 760, in invoke\n",
      "    return __callback(*args, **kwargs)\n",
      "  File \"/tmp/ipykernel_660611/71337395.py\", line 24, in reshape_sample\n",
      "    smpl = hm.load_dfset(p.parent, p.name)\n"
     ]
    }
   ],
   "source": [
    "#| echo: false\n",
    "!cat TMP/c1/DFSET.dat.raw TMP/c2/DFSET.dat.raw > TMP/DFSET_raw.dat\n",
    "!rm -f TMP/DFSET.dat\n",
    "run_cli_cmd(reshape_sample, \"--help\")\n",
    "run_cli_cmd(reshape_sample, \n",
    "            \" -d -o TMP/DFSET.dat\"\n",
    "            \" TMP/DFSET_raw.dat\")"
   ]
  },
  {
   "cell_type": "markdown",
   "metadata": {},
   "source": [
    "## Command line statistics monitoring\n",
    "\n",
    "This simple command line interface to the statistics plotting function allows for quick monitoring of the running calculation. If the sixelplot package is installed it is even possible to plot hi-res plots in the remote terminal supporting sixel standard (e.g. mlterm, xterm on Linux, iterm2 on OSX)."
   ]
  },
  {
   "cell_type": "code",
   "execution_count": null,
   "metadata": {},
   "outputs": [],
   "source": [
    "#| hide\n",
    "#| exporti\n",
    "@click.command()\n",
    "@click.argument('dfset', type=click.Path(exists=True))\n",
    "@click.argument('T', default=-1, type=float)\n",
    "@click.option('-n', '--sqrn', is_flag=True, help='Show sqrt(N) bars on the histogram.')\n",
    "@click.option('-s', '--sixel', is_flag=True, help='Use SixEl driver for terminal graphics.')\n",
    "@click.option('-w', '--width', type=float, default=6, help='Width of the figure.')\n",
    "@click.option('-h', '--height', type=float, default=4, help='Height of the figure.')\n",
    "@click.option('-o', '--output', type=click.Path(), default=\"\", help='Write output to the file.')\n",
    "@click.option('-x', is_flag=True, default=False, help='Make plot in an interactive window')\n",
    "@click.version_option(hecss.__version__, '-V', '--version', message=_version_message)\n",
    "def plot_stats( dfset, t, output, x, sixel, sqrn, width, height):\n",
    "    \"\"\"\n",
    "    Plot the statistics of the samples from the DFSET file.\n",
    "    Use T(K) as a reference target temperature. Optionally \n",
    "    write out the plot to the output graphics file.\n",
    "    \"\"\"\n",
    "    import hecss.monitor as hm\n",
    "    import matplotlib.pylab as plt\n",
    "\n",
    "    p = Path(dfset)\n",
    "    smpl = hm.load_dfset(p.parent, p.name)\n",
    "    plt.figure(figsize=(float(width), float(height)))\n",
    "    hm.plot_stats(smpl, T=t if t >0 else None, sqrN=sqrn, show=x)\n",
    "    if output:\n",
    "        plt.savefig(output)\n",
    "    if sixel:\n",
    "        try :\n",
    "            import sixelplot\n",
    "        except ImportError:\n",
    "            print('SixEl graphics support not installed. Install sixelplot package.')\n",
    "            return\n",
    "        sixelplot.show()"
   ]
  },
  {
   "cell_type": "code",
   "execution_count": null,
   "metadata": {},
   "outputs": [
    {
     "name": "stdout",
     "output_type": "stream",
     "text": [
      "$ plot-stats --help\n",
      "\n",
      "Usage: plot-stats [OPTIONS] DFSET [T]\n",
      "\n",
      "  Plot the statistics of the samples from the DFSET file. Use T(K) as a\n",
      "  reference target temperature. Optionally  write out the plot to the output\n",
      "  graphics file.\n",
      "\n",
      "Options:\n",
      "  -n, --sqrn          Show sqrt(N) bars on the histogram.\n",
      "  -s, --sixel         Use SixEl driver for terminal graphics.\n",
      "  -w, --width FLOAT   Width of the figure.\n",
      "  -h, --height FLOAT  Height of the figure.\n",
      "  -o, --output PATH   Write output to the file.\n",
      "  -x                  Make plot in an interactive window\n",
      "  -V, --version       Show the version and exit.\n",
      "  --help              Show this message and exit.\n",
      "\n",
      "$ plot-stats -n -w 7 -h 4 TMP/DFSET_raw.dat 300\n",
      "\n",
      "\n",
      "<Result TypeError('load_dfset() takes 1 positional argument but 2 were given')>\n"
     ]
    },
    {
     "name": "stderr",
     "output_type": "stream",
     "text": [
      "  File \"/home/jochym/.conda/envs/dev/lib/python3.9/site-packages/click/testing.py\", line 408, in invoke\n",
      "    return_value = cli.main(args=args or (), prog_name=prog_name, **extra)\n",
      "  File \"/home/jochym/.conda/envs/dev/lib/python3.9/site-packages/click/core.py\", line 1055, in main\n",
      "    rv = self.invoke(ctx)\n",
      "  File \"/home/jochym/.conda/envs/dev/lib/python3.9/site-packages/click/core.py\", line 1404, in invoke\n",
      "    return ctx.invoke(self.callback, **ctx.params)\n",
      "  File \"/home/jochym/.conda/envs/dev/lib/python3.9/site-packages/click/core.py\", line 760, in invoke\n",
      "    return __callback(*args, **kwargs)\n",
      "  File \"/tmp/ipykernel_660611/449950080.py\", line 23, in plot_stats\n",
      "    smpl = hm.load_dfset(p.parent, p.name)\n"
     ]
    }
   ],
   "source": [
    "#| echo: false\n",
    "#| vasp\n",
    "#| slow\n",
    "run_cli_cmd(plot_stats, \"--help\")\n",
    "\n",
    "run_cli_cmd(plot_stats, \n",
    "            \"-n \" \n",
    "            \"-w 7 -h 4 \"\n",
    "            \"TMP/DFSET_raw.dat \"\n",
    "            \"300\")"
   ]
  },
  {
   "cell_type": "code",
   "execution_count": null,
   "metadata": {},
   "outputs": [
    {
     "name": "stdout",
     "output_type": "stream",
     "text": [
      "$ plot-stats -n -w 7 -h 4 TMP/DFSET.dat \n",
      "\n",
      "Usage: plot-stats [OPTIONS] DFSET [T]\n",
      "Try 'plot-stats --help' for help.\n",
      "\n",
      "Error: Invalid value for 'DFSET': Path 'TMP/DFSET.dat' does not exist.\n",
      "\n",
      "<Result SystemExit(2)>\n"
     ]
    },
    {
     "name": "stderr",
     "output_type": "stream",
     "text": [
      "  File \"/home/jochym/.conda/envs/dev/lib/python3.9/site-packages/click/testing.py\", line 408, in invoke\n",
      "    return_value = cli.main(args=args or (), prog_name=prog_name, **extra)\n",
      "  File \"/home/jochym/.conda/envs/dev/lib/python3.9/site-packages/click/core.py\", line 1073, in main\n",
      "    sys.exit(e.exit_code)\n"
     ]
    }
   ],
   "source": [
    "#| echo: false\n",
    "#| vasp\n",
    "#| slow\n",
    "run_cli_cmd(plot_stats, \n",
    "            \"-n \" \n",
    "            \"-w 7 -h 4 \"\n",
    "            \"TMP/DFSET.dat \")"
   ]
  },
  {
   "cell_type": "code",
   "execution_count": null,
   "metadata": {},
   "outputs": [
    {
     "name": "stdout",
     "output_type": "stream",
     "text": [
      "$ plot-stats -n -w 7 -h 4 example/VASP_3C-SiC_calculated/2x2x2/T_1200K/DFSET.dat 1200\n",
      "\n",
      "\n",
      "<Result TypeError('load_dfset() takes 1 positional argument but 2 were given')>\n"
     ]
    },
    {
     "name": "stderr",
     "output_type": "stream",
     "text": [
      "  File \"/home/jochym/.conda/envs/dev/lib/python3.9/site-packages/click/testing.py\", line 408, in invoke\n",
      "    return_value = cli.main(args=args or (), prog_name=prog_name, **extra)\n",
      "  File \"/home/jochym/.conda/envs/dev/lib/python3.9/site-packages/click/core.py\", line 1055, in main\n",
      "    rv = self.invoke(ctx)\n",
      "  File \"/home/jochym/.conda/envs/dev/lib/python3.9/site-packages/click/core.py\", line 1404, in invoke\n",
      "    return ctx.invoke(self.callback, **ctx.params)\n",
      "  File \"/home/jochym/.conda/envs/dev/lib/python3.9/site-packages/click/core.py\", line 760, in invoke\n",
      "    return __callback(*args, **kwargs)\n",
      "  File \"/tmp/ipykernel_660611/449950080.py\", line 23, in plot_stats\n",
      "    smpl = hm.load_dfset(p.parent, p.name)\n"
     ]
    }
   ],
   "source": [
    "#| echo: false\n",
    "run_cli_cmd(plot_stats, \n",
    "               \"-n \" \n",
    "               \"-w 7 -h 4 \"\n",
    "               \"example/VASP_3C-SiC_calculated/2x2x2/T_1200K/DFSET.dat \"\n",
    "               \"1200\")"
   ]
  },
  {
   "cell_type": "markdown",
   "metadata": {},
   "source": [
    "## Command line phonon monitoring\n",
    "\n",
    "This simple command line interface to the phonon plotting function allows for quick monitoring of the phonon calculation. If the sixelplot package is installed it is even possible to plot hi-res plots in the remote terminal supporting sixel standard (e.g. mlterm, xterm on Linux, iterm2 on OSX)."
   ]
  },
  {
   "cell_type": "code",
   "execution_count": null,
   "metadata": {},
   "outputs": [],
   "source": [
    "#| hide\n",
    "#| exporti\n",
    "@click.command()\n",
    "@click.argument('bands', type=click.Path(exists=True), nargs=-1)\n",
    "@click.option('-s', '--sixel', is_flag=True, help='Use SixEl driver for terminal graphics.')\n",
    "@click.option('-n', '--nodecor', is_flag=True, help='Decorate the plot.')\n",
    "@click.option('-w', '--width', type=float, default=6, help='Width of the figure.')\n",
    "@click.option('-h', '--height', type=float, default=4, help='Height of the figure.')\n",
    "@click.option('-o', '--output', type=click.Path(), default=\"\", \n",
    "              help='Write output to the file.')\n",
    "@click.option('-l', '--label', type=str, default=\"\", \n",
    "              help='Label(s) for the plot. Comma-separated list')\n",
    "@click.option('-x', is_flag=True, default=False, \n",
    "              help='Make plot in an interactive window')\n",
    "@click.version_option(hecss.__version__, '-V', '--version', message=_version_message)\n",
    "def plot_bands( bands, output, x, sixel, width, height, label, nodecor):\n",
    "    \"\"\"\n",
    "    Plot the phonon dispersion from the file generated by ALAMODE.\n",
    "    Optionally write out the plot to the output graphics file.\n",
    "    \"\"\"\n",
    "    import hecss.monitor as hm\n",
    "    import matplotlib.pylab as plt\n",
    "\n",
    "    \n",
    "    plt.figure(figsize=(float(width), float(height)))\n",
    "\n",
    "    ll = label.split(',')\n",
    "    if len(ll) < len(bands):\n",
    "        cp = os.path.commonpath(bands)\n",
    "        rpl = [p[len(cp):][::-1] for p in bands]\n",
    "        cs = os.path.commonpath(rpl)\n",
    "        ll = [p[len(cp):-len(cs)] for p in bands]\n",
    "\n",
    "    for b, l in zip(bands, ll):\n",
    "        p = Path(b)\n",
    "\n",
    "        hm.plot_bands_file(p, lbl=l, decorate=not nodecor)\n",
    "\n",
    "    if label or len(bands)>1:\n",
    "        plt.legend()\n",
    "\n",
    "    if output:\n",
    "        plt.savefig(output)\n",
    "    if sixel:\n",
    "        try :\n",
    "            import sixelplot\n",
    "        except ImportError:\n",
    "            print('SixEl graphics support not installed. Install sixelplot package.')\n",
    "            return\n",
    "        sixelplot.show()"
   ]
  },
  {
   "cell_type": "code",
   "execution_count": null,
   "metadata": {},
   "outputs": [
    {
     "name": "stdout",
     "output_type": "stream",
     "text": [
      "$ plot-bands --help\n",
      "\n",
      "Usage: plot-bands [OPTIONS] [BANDS]...\n",
      "\n",
      "  Plot the phonon dispersion from the file generated by ALAMODE. Optionally\n",
      "  write out the plot to the output graphics file.\n",
      "\n",
      "Options:\n",
      "  -s, --sixel         Use SixEl driver for terminal graphics.\n",
      "  -n, --nodecor       Decorate the plot.\n",
      "  -w, --width FLOAT   Width of the figure.\n",
      "  -h, --height FLOAT  Height of the figure.\n",
      "  -o, --output PATH   Write output to the file.\n",
      "  -l, --label TEXT    Label(s) for the plot. Comma-separated list\n",
      "  -x                  Make plot in an interactive window\n",
      "  -V, --version       Show the version and exit.\n",
      "  --help              Show this message and exit.\n",
      "\n",
      "$ plot-bands -w 7 -h 4 -l '300K,600K,3000K' example/VASP_3C-SiC_calculated/2x2x2/T_300K/phon/cryst.bands example/VASP_3C-SiC_calculated/2x2x2/T_600K/phon/cryst.bands example/VASP_3C-SiC_calculated/2x2x2/T_3000K/phon/cryst.bands \n",
      "\n",
      "\n"
     ]
    },
    {
     "data": {
      "image/png": "[encoded data removed]",
      "text/plain": [
       "<Figure size 700x400 with 1 Axes>"
      ]
     },
     "metadata": {},
     "output_type": "display_data"
    }
   ],
   "source": [
    "#| echo: false\n",
    "run_cli_cmd(plot_bands, \"--help\")\n",
    "run_cli_cmd(plot_bands, \n",
    "               \"-w 7 -h 4 -l '300K,600K,3000K' \"\n",
    "               \"example/VASP_3C-SiC_calculated/2x2x2/T_300K/phon/cryst.bands \"\n",
    "               \"example/VASP_3C-SiC_calculated/2x2x2/T_600K/phon/cryst.bands \"\n",
    "               \"example/VASP_3C-SiC_calculated/2x2x2/T_3000K/phon/cryst.bands \")"
   ]
  }
 ],
 "metadata": {
  "kernelspec": {
   "display_name": "Python 3 (ipykernel)",
   "language": "python",
   "name": "python3"
  }
 },
 "nbformat": 4,
 "nbformat_minor": 4
}
